{
 "metadata": {
  "name": "",
  "signature": "sha256:358ba541a3e4a314a74e4b9fd18561ad552e28995512ead4d95bd0995ec2442e"
 },
 "nbformat": 3,
 "nbformat_minor": 0,
 "worksheets": [
  {
   "cells": [
    {
     "cell_type": "heading",
     "level": 1,
     "metadata": {},
     "source": [
      "Galaxy Mergers"
     ]
    },
    {
     "cell_type": "heading",
     "level": 2,
     "metadata": {},
     "source": [
      "Demonstrate with static images and/or animation the retrograde\n",
      "passage example from the Toomre and Toomre paper."
     ]
    },
    {
     "cell_type": "code",
     "collapsed": false,
     "input": [
      "from scipy.integrate import odeint\n",
      "%pylab inline\n",
      "import numpy as np\n",
      "import matplotlib.pyplot as plt\n",
      "from IPython.html.widgets import interact, interactive"
     ],
     "language": "python",
     "metadata": {},
     "outputs": [
      {
       "output_type": "stream",
       "stream": "stdout",
       "text": [
        "Populating the interactive namespace from numpy and matplotlib\n"
       ]
      }
     ],
     "prompt_number": 1
    },
    {
     "cell_type": "code",
     "collapsed": false,
     "input": [
      "spin = 1\n",
      "\n",
      "def plot1(t=0):\n",
      "    #Galaxy S\n",
      "    Mx = 0\n",
      "    My = 0\n",
      "    \n",
      "    #Galaxy M\n",
      "    Sx0 = 5\n",
      "    Sy0 = 30\n",
      "    Sv0 = -10\n",
      "    Sa = 5\n",
      "    Sx = Sx0 - Sv0*t - .5*Sa*(t**2)\n",
      "    Sy = Sy0 + Sv0*t - .5*Sa*(t**2)\n",
      "    \n",
      "    T = 5.442\n",
      "    w = (2*np.pi)/T\n",
      "    theta = w*t\n",
      "    radius20 = 15*.2\n",
      "    #1st circle of stars\n",
      "    radius20 = 15*.2\n",
      "    list_radians = []\n",
      "    for i in linspace(0,360,13):\n",
      "        float_div = 180.0/(i+1)\n",
      "        list_radians.append((pi/float_div) + spin*theta)\n",
      "\n",
      "    list_x2_axis = []\n",
      "    list_y2_axis = []\n",
      "    for a in list_radians:\n",
      "        list_x2_axis.append(cos(a)*radius20)\n",
      "        list_y2_axis.append(sin(a)*radius20)\n",
      "\n",
      "    #2nd circle of stars\n",
      "    radius30 = 15*.3\n",
      "    list2_radians = []\n",
      "    for i in linspace(0,360,19):\n",
      "        float_div = 180.0/(i+1)\n",
      "        list2_radians.append((pi/float_div) + spin*theta)\n",
      "\n",
      "    list2_x2_axis = []\n",
      "    list2_y2_axis = []\n",
      "    for a in list2_radians:\n",
      "        list2_x2_axis.append(cos(a)*radius30)\n",
      "        list2_y2_axis.append(sin(a)*radius30)\n",
      "\n",
      "    #3rd circle of stars\n",
      "    radius40 = 15*.4\n",
      "    list3_radians = []\n",
      "    for i in linspace(0,360,25):\n",
      "        float_div = 180.0/(i+1)\n",
      "        list3_radians.append((pi/float_div) + spin*theta)\n",
      "\n",
      "    list3_x2_axis = []\n",
      "    list3_y2_axis = []\n",
      "    for a in list3_radians:\n",
      "        list3_x2_axis.append(cos(a)*radius40)\n",
      "        list3_y2_axis.append(sin(a)*radius40)\n",
      "\n",
      "    #4th circle of stars\n",
      "    radius50 = 15*.5\n",
      "    list4_radians = []\n",
      "    for i in linspace(0,360,31):\n",
      "        float_div = 180.0/(i+1)\n",
      "        list4_radians.append((pi/float_div) + spin*theta)\n",
      "\n",
      "    list4_x2_axis = []\n",
      "    list4_y2_axis = []\n",
      "    for a in list4_radians:\n",
      "        list4_x2_axis.append(cos(a)*radius50)\n",
      "        list4_y2_axis.append(sin(a)*radius50)\n",
      "\n",
      "    #5th circle of stars\n",
      "    radius60 = 15*.6\n",
      "    list5_radians = []\n",
      "    for i in linspace(0,360,37):\n",
      "        float_div = 180.0/(i+1)\n",
      "        list5_radians.append((pi/float_div) + spin*theta)\n",
      "\n",
      "    list5_x2_axis = []\n",
      "    list5_y2_axis = []\n",
      "    for a in list5_radians:\n",
      "        list5_x2_axis.append(cos(a)*radius60)\n",
      "        list5_y2_axis.append(sin(a)*radius60)\n",
      "\n",
      "    plt.plot(list_x2_axis, list_y2_axis, color='black', marker='o',markerfacecolor='black', markersize=4)\n",
      "    plt.plot(list2_x2_axis,list2_y2_axis,color='black', marker='o',markerfacecolor='black', markersize=4)\n",
      "    plt.plot(list3_x2_axis,list3_y2_axis,color='black', marker='o',markerfacecolor='black', markersize=4)\n",
      "    plt.plot(list4_x2_axis,list4_y2_axis,color='black', marker='o',markerfacecolor='black', markersize=4)\n",
      "    plt.plot(list5_x2_axis,list5_y2_axis,color='black', marker='o',markerfacecolor='black', markersize=4)\n",
      "    plt.plot(Mx,My,marker='o',markerfacecolor='black', markersize=12)\n",
      "    plt.plot()\n",
      "    plt.plot()\n",
      "    plt.axis('scaled')\n",
      "    plt.axis(xmin = -25, xmax = 25, ymin = -25, ymax = 25)\n",
      "    plt.plot(Sx,Sy,marker='o',markerfacecolor='black',markersize=12)\n",
      "        \n",
      "    plt.show()\n",
      "v = interact(plot1,t=(0.4,3.2))"
     ],
     "language": "python",
     "metadata": {},
     "outputs": [
      {
       "metadata": {},
       "output_type": "display_data",
       "png": "[encoded data removed]",
       "text": [
        "<matplotlib.figure.Figure at 0xfd31da0>"
       ]
      }
     ],
     "prompt_number": 2
    },
    {
     "cell_type": "code",
     "collapsed": false,
     "input": [
      "spin = 1\n",
      "\n",
      "def plot1(t=0):\n",
      "    #Galaxy M\n",
      "    Mx = 0\n",
      "    My = 0\n",
      "    \n",
      "    #Galaxy S\n",
      "    Sx0 = 5\n",
      "    Sy0 = 30\n",
      "    Sv0 = -10\n",
      "    Sa = 5\n",
      "    Sx = Sx0 - Sv0*t - .5*Sa*(t**2)\n",
      "    Sy = Sy0 + Sv0*t - .5*Sa*(t**2)\n",
      "    \n",
      "    #Center of Mass system\n",
      "    Cmx = ((Sx - Mx)/2)\n",
      "    Cmy = ((Sy - Mx)/2)\n",
      "    \n",
      "    shifted_Mx = Mx - Cmx\n",
      "    shifted_My = My - Cmy\n",
      "    \n",
      "    shifted_Sx = Sx - Cmx\n",
      "    shifted_Sy = Sy - Cmy\n",
      "    \n",
      "    T = 5.442\n",
      "    w = (2*np.pi)/T\n",
      "    theta = w*t\n",
      "    radius20 = 15*.2\n",
      "    \n",
      "    #1st circle of stars\n",
      "    radius20 = 15*.2\n",
      "    list_radians = []\n",
      "    for i in linspace(0,360,13):\n",
      "        float_div = 180.0/(i+1)\n",
      "        list_radians.append((pi/float_div) + spin*theta)\n",
      "\n",
      "    list_x2_axis = []\n",
      "    list_y2_axis = []\n",
      "    for a in list_radians:\n",
      "        list_x2_axis.append((cos(a)*radius20) - Cmx)\n",
      "        list_y2_axis.append((sin(a)*radius20) - Cmy)\n",
      "\n",
      "    #2nd circle of stars\n",
      "    radius30 = 15*.3\n",
      "    list2_radians = []\n",
      "    for i in linspace(0,360,19):\n",
      "        float_div = 180.0/(i+1)\n",
      "        list2_radians.append((pi/float_div) + spin*theta)\n",
      "\n",
      "    list2_x2_axis = []\n",
      "    list2_y2_axis = []\n",
      "    for a in list2_radians:\n",
      "        list2_x2_axis.append((cos(a)*radius30) - Cmx)\n",
      "        list2_y2_axis.append((sin(a)*radius30) - Cmy)\n",
      "\n",
      "    #3rd circle of stars\n",
      "    radius40 = 15*.4\n",
      "    list3_radians = []\n",
      "    for i in linspace(0,360,25):\n",
      "        float_div = 180.0/(i+1)\n",
      "        list3_radians.append((pi/float_div) + spin*theta)\n",
      "\n",
      "    list3_x2_axis = []\n",
      "    list3_y2_axis = []\n",
      "    for a in list3_radians:\n",
      "        list3_x2_axis.append((cos(a)*radius40) - Cmx)\n",
      "        list3_y2_axis.append((sin(a)*radius40) - Cmy)\n",
      "\n",
      "    #4th circle of stars\n",
      "    radius50 = 15*.5\n",
      "    list4_radians = []\n",
      "    for i in linspace(0,360,31):\n",
      "        float_div = 180.0/(i+1)\n",
      "        list4_radians.append((pi/float_div) + spin*theta)\n",
      "\n",
      "    list4_x2_axis = []\n",
      "    list4_y2_axis = []\n",
      "    for a in list4_radians:\n",
      "        list4_x2_axis.append((cos(a)*radius50) - Cmx)\n",
      "        list4_y2_axis.append((sin(a)*radius50) - Cmy)\n",
      "\n",
      "    #5th circle of stars\n",
      "    radius60 = 15*.6\n",
      "    list5_radians = []\n",
      "    for i in linspace(0,360,37):\n",
      "        float_div = 180.0/(i+1)\n",
      "        list5_radians.append((pi/float_div) + spin*theta)\n",
      "\n",
      "    list5_x2_axis = []\n",
      "    list5_y2_axis = []\n",
      "    for a in list5_radians:\n",
      "        list5_x2_axis.append((cos(a)*radius60) - Cmx)\n",
      "        list5_y2_axis.append((sin(a)*radius60) - Cmy)\n",
      "    \n",
      "    plt.plot(shifted_Mx,shifted_My,marker='o',markerfacecolor='black', markersize=12)\n",
      "    plt.plot(shifted_Sx,shifted_Sy,marker='o',markerfacecolor='black',markersize=12)\n",
      "    plt.plot(list_x2_axis, list_y2_axis, color='black', marker='o',markerfacecolor='black', markersize=4)\n",
      "    plt.plot(list2_x2_axis,list2_y2_axis,color='black', marker='o',markerfacecolor='black', markersize=4)\n",
      "    plt.plot(list3_x2_axis,list3_y2_axis,color='black', marker='o',markerfacecolor='black', markersize=4)\n",
      "    plt.plot(list4_x2_axis,list4_y2_axis,color='black', marker='o',markerfacecolor='black', markersize=4)\n",
      "    plt.plot(list5_x2_axis,list5_y2_axis,color='black', marker='o',markerfacecolor='black', markersize=4)\n",
      "    plt.axis('scaled')\n",
      "    plt.axis(xmin = -25, xmax = 25, ymin = -25, ymax = 25)\n",
      "    plt.show()\n",
      "v = interact(plot1,t=(0.0,3.3))"
     ],
     "language": "python",
     "metadata": {},
     "outputs": [
      {
       "metadata": {},
       "output_type": "display_data",
       "png": "[encoded data removed]",
       "text": [
        "<matplotlib.figure.Figure at 0xfc66748>"
       ]
      }
     ],
     "prompt_number": 3
    },
    {
     "cell_type": "code",
     "collapsed": false,
     "input": [
      "R0 = 10.\n",
      "def deriv1x(R_current,t):\n",
      "    g = 6.67384*10**(-11) #m^3 / kg*s^2\n",
      "    M = (10**11)*(1.9891*10**30) #kg\n",
      "    S = (10**11)*(1.9891*10**30) #kg\n",
      "    D = ((xS-xM)**2)**(1/2)\n",
      "    R = R_current[0]\n",
      "    v = R_current[1]\n",
      "    dR = v\n",
      "    dv = -((g*(M + S))/(D**3))*R\n",
      "    return np.array([ dR , dv ])\n",
      "\n",
      "def deriv1y(R_current,t):\n",
      "    g = 6.67384*10**(-11) #m^3 / kg*s^2\n",
      "    M = (10**11)*(1.9891*10**30) #kg\n",
      "    S = (10**11)*(1.9891*10**30) #kg\n",
      "    D = ((yS - yM)**2)**(1/2)\n",
      "    R = R_current[0]\n",
      "    v = R_current[1]\n",
      "    dR = v\n",
      "    dv = -((g*(M + S))/(D**3))*R\n",
      "    return np.array([ dR , dv ])\n",
      "\n",
      "t = np.arange(0.,10.+1.,1.)\n",
      "\n",
      "xM = 0\n",
      "yM = 0\n",
      "\n",
      "xS = 0\n",
      "yS = 10\n",
      "\n",
      "v0 = 10.\n",
      "R_initx = np.array([R0, v0])\n",
      "R_inity = np.array([R0, v0])\n",
      "\n",
      "Rx = odeint(deriv1x,R_init,t)\n",
      "Ry = odeint(deriv1y,R_init,t)\n",
      "print Rx\n",
      "print Ry\n",
      "\n",
      "plt.plot(t,Rx[:,0],'r',label=\"Position\")\n",
      "plt.plot(t,Ry[:,0],'r',label=\"Position\")\n",
      "plt.plot(t,Rx[:,1],'b',label=\"Velocity\")\n",
      "plt.plot(t,Ry[:,1],'b',label=\"Velocity\")\n",
      "plt.xlabel(r'$t (seconds)$',fontsize=20)\n",
      "plt.ylabel(r'Rx,Ry,Vx,Vy',fontsize=20)\n",
      "plt.xlim(-11, 11)\n",
      "plt.ylim(-20, 20)\n",
      "plt.grid()\n",
      "plt.legend()\n",
      "plt.show()"
     ],
     "language": "python",
     "metadata": {},
     "outputs": [
      {
       "output_type": "stream",
       "stream": "stdout",
       "text": [
        "Excess work done on this call (perhaps wrong Dfun type).\n",
        "Run with full_output = 1 to get quantitative information.\n",
        "Excess work done on this call (perhaps wrong Dfun type).\n",
        "Run with full_output = 1 to get quantitative information.\n",
        "[[  1.00000000e+001   1.00000000e+001]\n",
        " [ -8.98242929e+000   2.26458796e+016]\n",
        " [ -3.13486983e-294   7.49658717e-309]\n",
        " [  3.00385294e-273   4.95669394e+173]\n",
        " [  5.43231698e-310   1.10822483e-253]\n",
        " [  1.39587978e+188   1.71769619e-308]\n",
        " [  9.34538771e-307  -3.13334973e-294]\n",
        " [  2.00180606e-308   1.12979132e-282]\n",
        " [  3.25475060e+178   2.14087309e-308]\n",
        " [  4.39013116e-225   7.18708017e-225]\n",
        " [  1.87972221e+175   4.22766543e-307]]\n",
        "[[  1.00000000e+001   1.00000000e+001]\n",
        " [ -8.98242929e+000   2.26458796e+016]\n",
        " [  5.83289918e-302   4.94824027e+173]\n",
        " [  3.27025020e-309   2.50521889e-292]\n",
        " [  6.69604131e-198   6.99388243e-283]\n",
        " [  4.95427861e+173   7.49658734e-309]\n",
        " [  1.29014577e-263   3.25000186e+178]\n",
        " [  5.48664178e-310   2.21650537e-301]\n",
        " [  3.25241024e+178   7.50202007e-309]\n",
        " [  3.84447772e-244   3.25161878e+178]\n",
        " [  2.13489755e-308   2.14102644e-308]]\n"
       ]
      },
      {
       "metadata": {},
       "output_type": "display_data",
       "png": "[encoded data removed]",
       "text": [
        "<matplotlib.figure.Figure at 0xfd31978>"
       ]
      }
     ],
     "prompt_number": 9
    },
    {
     "cell_type": "code",
     "collapsed": false,
     "input": [
      "rx = 10\n",
      "ry = 10\n",
      "\n",
      "def deriv2x(r_current,t):\n",
      "    g = 6.67384*10**(-11) #m^3 / kg*s^2\n",
      "    M = (10**11)*(1.9891*10**30) #kg\n",
      "    S = (10**11)*(1.9891*10**30) #kg\n",
      "    r = r_current[0]\n",
      "    v2 = r_current[1]\n",
      "    dr = v2\n",
      "    rhox = Rx - rx\n",
      "    dv2 = -(g((M/rx**3)*rx - (S/rhox**3)*rhox + (S/Rx**3)*Rx))\n",
      "    return np.array([ dr , dv2 ])\n",
      "\n",
      "def deriv2y(r_current,t):\n",
      "    g = 6.67384*10**(-11) #m^3 / kg*s^2\n",
      "    M = (10**11)*(1.9891*10**30) #kg\n",
      "    S = (10**11)*(1.9891*10**30) #kg\n",
      "    r = r_current[0]\n",
      "    v2 = r_current[1]\n",
      "    dr = v2\n",
      "    rhoy = Ry - ry\n",
      "    dv2 = -(g((M/ry**3)*ry - (S/rhoy**3)*rhoy + (S/Ry**3)*Ry))\n",
      "    return np.array([ dr , dv2 ])\n",
      "\n",
      "t = np.arange(0.,10.+0.01,0.01)\n",
      "v20 = 10\n",
      "\n",
      "r_init = np.array([r0, v20])\n",
      "\n",
      "rx = odeint(deriv2x,R_init,t)\n",
      "ry = odeint(deriv2y,R_init,t)"
     ],
     "language": "python",
     "metadata": {},
     "outputs": [
      {
       "ename": "TypeError",
       "evalue": "'float' object is not callable",
       "output_type": "pyerr",
       "traceback": [
        "\u001b[1;31m---------------------------------------------------------------------------\u001b[0m\n\u001b[1;31mTypeError\u001b[0m                                 Traceback (most recent call last)",
        "\u001b[1;32m<ipython-input-19-d07ea8831571>\u001b[0m in \u001b[0;36mderiv2x\u001b[1;34m(r_current, t)\u001b[0m\n\u001b[0;32m     10\u001b[0m     \u001b[0mdr\u001b[0m \u001b[1;33m=\u001b[0m \u001b[0mv2\u001b[0m\u001b[1;33m\u001b[0m\u001b[0m\n\u001b[0;32m     11\u001b[0m     \u001b[0mrhox\u001b[0m \u001b[1;33m=\u001b[0m \u001b[0mRx\u001b[0m \u001b[1;33m-\u001b[0m \u001b[0mrx\u001b[0m\u001b[1;33m\u001b[0m\u001b[0m\n\u001b[1;32m---> 12\u001b[1;33m     \u001b[0mdv2\u001b[0m \u001b[1;33m=\u001b[0m \u001b[1;33m-\u001b[0m\u001b[1;33m(\u001b[0m\u001b[0mg\u001b[0m\u001b[1;33m(\u001b[0m\u001b[1;33m(\u001b[0m\u001b[0mM\u001b[0m\u001b[1;33m/\u001b[0m\u001b[0mrx\u001b[0m\u001b[1;33m**\u001b[0m\u001b[1;36m3\u001b[0m\u001b[1;33m)\u001b[0m\u001b[1;33m*\u001b[0m\u001b[0mrx\u001b[0m \u001b[1;33m-\u001b[0m \u001b[1;33m(\u001b[0m\u001b[0mS\u001b[0m\u001b[1;33m/\u001b[0m\u001b[0mrhox\u001b[0m\u001b[1;33m**\u001b[0m\u001b[1;36m3\u001b[0m\u001b[1;33m)\u001b[0m\u001b[1;33m*\u001b[0m\u001b[0mrhox\u001b[0m \u001b[1;33m+\u001b[0m \u001b[1;33m(\u001b[0m\u001b[0mS\u001b[0m\u001b[1;33m/\u001b[0m\u001b[0mRx\u001b[0m\u001b[1;33m**\u001b[0m\u001b[1;36m3\u001b[0m\u001b[1;33m)\u001b[0m\u001b[1;33m*\u001b[0m\u001b[0mRx\u001b[0m\u001b[1;33m)\u001b[0m\u001b[1;33m)\u001b[0m\u001b[1;33m\u001b[0m\u001b[0m\n\u001b[0m\u001b[0;32m     13\u001b[0m     \u001b[1;32mreturn\u001b[0m \u001b[0mnp\u001b[0m\u001b[1;33m.\u001b[0m\u001b[0marray\u001b[0m\u001b[1;33m(\u001b[0m\u001b[1;33m[\u001b[0m \u001b[0mdr\u001b[0m \u001b[1;33m,\u001b[0m \u001b[0mdv2\u001b[0m \u001b[1;33m]\u001b[0m\u001b[1;33m)\u001b[0m\u001b[1;33m\u001b[0m\u001b[0m\n\u001b[0;32m     14\u001b[0m \u001b[1;33m\u001b[0m\u001b[0m\n",
        "\u001b[1;31mTypeError\u001b[0m: 'float' object is not callable"
       ]
      },
      {
       "ename": "TypeError",
       "evalue": "'float' object is not callable",
       "output_type": "pyerr",
       "traceback": [
        "\u001b[1;31m---------------------------------------------------------------------------\u001b[0m\n\u001b[1;31mTypeError\u001b[0m                                 Traceback (most recent call last)",
        "\u001b[1;32m<ipython-input-19-d07ea8831571>\u001b[0m in \u001b[0;36mderiv2x\u001b[1;34m(r_current, t)\u001b[0m\n\u001b[0;32m     10\u001b[0m     \u001b[0mdr\u001b[0m \u001b[1;33m=\u001b[0m \u001b[0mv2\u001b[0m\u001b[1;33m\u001b[0m\u001b[0m\n\u001b[0;32m     11\u001b[0m     \u001b[0mrhox\u001b[0m \u001b[1;33m=\u001b[0m \u001b[0mRx\u001b[0m \u001b[1;33m-\u001b[0m \u001b[0mrx\u001b[0m\u001b[1;33m\u001b[0m\u001b[0m\n\u001b[1;32m---> 12\u001b[1;33m     \u001b[0mdv2\u001b[0m \u001b[1;33m=\u001b[0m \u001b[1;33m-\u001b[0m\u001b[1;33m(\u001b[0m\u001b[0mg\u001b[0m\u001b[1;33m(\u001b[0m\u001b[1;33m(\u001b[0m\u001b[0mM\u001b[0m\u001b[1;33m/\u001b[0m\u001b[0mrx\u001b[0m\u001b[1;33m**\u001b[0m\u001b[1;36m3\u001b[0m\u001b[1;33m)\u001b[0m\u001b[1;33m*\u001b[0m\u001b[0mrx\u001b[0m \u001b[1;33m-\u001b[0m \u001b[1;33m(\u001b[0m\u001b[0mS\u001b[0m\u001b[1;33m/\u001b[0m\u001b[0mrhox\u001b[0m\u001b[1;33m**\u001b[0m\u001b[1;36m3\u001b[0m\u001b[1;33m)\u001b[0m\u001b[1;33m*\u001b[0m\u001b[0mrhox\u001b[0m \u001b[1;33m+\u001b[0m \u001b[1;33m(\u001b[0m\u001b[0mS\u001b[0m\u001b[1;33m/\u001b[0m\u001b[0mRx\u001b[0m\u001b[1;33m**\u001b[0m\u001b[1;36m3\u001b[0m\u001b[1;33m)\u001b[0m\u001b[1;33m*\u001b[0m\u001b[0mRx\u001b[0m\u001b[1;33m)\u001b[0m\u001b[1;33m)\u001b[0m\u001b[1;33m\u001b[0m\u001b[0m\n\u001b[0m\u001b[0;32m     13\u001b[0m     \u001b[1;32mreturn\u001b[0m \u001b[0mnp\u001b[0m\u001b[1;33m.\u001b[0m\u001b[0marray\u001b[0m\u001b[1;33m(\u001b[0m\u001b[1;33m[\u001b[0m \u001b[0mdr\u001b[0m \u001b[1;33m,\u001b[0m \u001b[0mdv2\u001b[0m \u001b[1;33m]\u001b[0m\u001b[1;33m)\u001b[0m\u001b[1;33m\u001b[0m\u001b[0m\n\u001b[0;32m     14\u001b[0m \u001b[1;33m\u001b[0m\u001b[0m\n",
        "\u001b[1;31mTypeError\u001b[0m: 'float' object is not callable"
       ]
      },
      {
       "output_type": "stream",
       "stream": "stdout",
       "text": [
        "Illegal input detected (internal error).\n",
        "Run with full_output = 1 to get quantitative information.\n"
       ]
      },
      {
       "ename": "TypeError",
       "evalue": "'float' object is not callable",
       "output_type": "pyerr",
       "traceback": [
        "\u001b[1;31m---------------------------------------------------------------------------\u001b[0m\n\u001b[1;31mTypeError\u001b[0m                                 Traceback (most recent call last)",
        "\u001b[1;32m<ipython-input-19-d07ea8831571>\u001b[0m in \u001b[0;36mderiv2y\u001b[1;34m(r_current, t)\u001b[0m\n\u001b[0;32m     21\u001b[0m     \u001b[0mdr\u001b[0m \u001b[1;33m=\u001b[0m \u001b[0mv2\u001b[0m\u001b[1;33m\u001b[0m\u001b[0m\n\u001b[0;32m     22\u001b[0m     \u001b[0mrhoy\u001b[0m \u001b[1;33m=\u001b[0m \u001b[0mRy\u001b[0m \u001b[1;33m-\u001b[0m \u001b[0mry\u001b[0m\u001b[1;33m\u001b[0m\u001b[0m\n\u001b[1;32m---> 23\u001b[1;33m     \u001b[0mdv2\u001b[0m \u001b[1;33m=\u001b[0m \u001b[1;33m-\u001b[0m\u001b[1;33m(\u001b[0m\u001b[0mg\u001b[0m\u001b[1;33m(\u001b[0m\u001b[1;33m(\u001b[0m\u001b[0mM\u001b[0m\u001b[1;33m/\u001b[0m\u001b[0mry\u001b[0m\u001b[1;33m**\u001b[0m\u001b[1;36m3\u001b[0m\u001b[1;33m)\u001b[0m\u001b[1;33m*\u001b[0m\u001b[0mry\u001b[0m \u001b[1;33m-\u001b[0m \u001b[1;33m(\u001b[0m\u001b[0mS\u001b[0m\u001b[1;33m/\u001b[0m\u001b[0mrhoy\u001b[0m\u001b[1;33m**\u001b[0m\u001b[1;36m3\u001b[0m\u001b[1;33m)\u001b[0m\u001b[1;33m*\u001b[0m\u001b[0mrhoy\u001b[0m \u001b[1;33m+\u001b[0m \u001b[1;33m(\u001b[0m\u001b[0mS\u001b[0m\u001b[1;33m/\u001b[0m\u001b[0mRy\u001b[0m\u001b[1;33m**\u001b[0m\u001b[1;36m3\u001b[0m\u001b[1;33m)\u001b[0m\u001b[1;33m*\u001b[0m\u001b[0mRy\u001b[0m\u001b[1;33m)\u001b[0m\u001b[1;33m)\u001b[0m\u001b[1;33m\u001b[0m\u001b[0m\n\u001b[0m\u001b[0;32m     24\u001b[0m     \u001b[1;32mreturn\u001b[0m \u001b[0mnp\u001b[0m\u001b[1;33m.\u001b[0m\u001b[0marray\u001b[0m\u001b[1;33m(\u001b[0m\u001b[1;33m[\u001b[0m \u001b[0mdr\u001b[0m \u001b[1;33m,\u001b[0m \u001b[0mdv2\u001b[0m \u001b[1;33m]\u001b[0m\u001b[1;33m)\u001b[0m\u001b[1;33m\u001b[0m\u001b[0m\n\u001b[0;32m     25\u001b[0m \u001b[1;33m\u001b[0m\u001b[0m\n",
        "\u001b[1;31mTypeError\u001b[0m: 'float' object is not callable"
       ]
      },
      {
       "ename": "TypeError",
       "evalue": "'float' object is not callable",
       "output_type": "pyerr",
       "traceback": [
        "\u001b[1;31m---------------------------------------------------------------------------\u001b[0m\n\u001b[1;31mTypeError\u001b[0m                                 Traceback (most recent call last)",
        "\u001b[1;32m<ipython-input-19-d07ea8831571>\u001b[0m in \u001b[0;36mderiv2y\u001b[1;34m(r_current, t)\u001b[0m\n\u001b[0;32m     21\u001b[0m     \u001b[0mdr\u001b[0m \u001b[1;33m=\u001b[0m \u001b[0mv2\u001b[0m\u001b[1;33m\u001b[0m\u001b[0m\n\u001b[0;32m     22\u001b[0m     \u001b[0mrhoy\u001b[0m \u001b[1;33m=\u001b[0m \u001b[0mRy\u001b[0m \u001b[1;33m-\u001b[0m \u001b[0mry\u001b[0m\u001b[1;33m\u001b[0m\u001b[0m\n\u001b[1;32m---> 23\u001b[1;33m     \u001b[0mdv2\u001b[0m \u001b[1;33m=\u001b[0m \u001b[1;33m-\u001b[0m\u001b[1;33m(\u001b[0m\u001b[0mg\u001b[0m\u001b[1;33m(\u001b[0m\u001b[1;33m(\u001b[0m\u001b[0mM\u001b[0m\u001b[1;33m/\u001b[0m\u001b[0mry\u001b[0m\u001b[1;33m**\u001b[0m\u001b[1;36m3\u001b[0m\u001b[1;33m)\u001b[0m\u001b[1;33m*\u001b[0m\u001b[0mry\u001b[0m \u001b[1;33m-\u001b[0m \u001b[1;33m(\u001b[0m\u001b[0mS\u001b[0m\u001b[1;33m/\u001b[0m\u001b[0mrhoy\u001b[0m\u001b[1;33m**\u001b[0m\u001b[1;36m3\u001b[0m\u001b[1;33m)\u001b[0m\u001b[1;33m*\u001b[0m\u001b[0mrhoy\u001b[0m \u001b[1;33m+\u001b[0m \u001b[1;33m(\u001b[0m\u001b[0mS\u001b[0m\u001b[1;33m/\u001b[0m\u001b[0mRy\u001b[0m\u001b[1;33m**\u001b[0m\u001b[1;36m3\u001b[0m\u001b[1;33m)\u001b[0m\u001b[1;33m*\u001b[0m\u001b[0mRy\u001b[0m\u001b[1;33m)\u001b[0m\u001b[1;33m)\u001b[0m\u001b[1;33m\u001b[0m\u001b[0m\n\u001b[0m\u001b[0;32m     24\u001b[0m     \u001b[1;32mreturn\u001b[0m \u001b[0mnp\u001b[0m\u001b[1;33m.\u001b[0m\u001b[0marray\u001b[0m\u001b[1;33m(\u001b[0m\u001b[1;33m[\u001b[0m \u001b[0mdr\u001b[0m \u001b[1;33m,\u001b[0m \u001b[0mdv2\u001b[0m \u001b[1;33m]\u001b[0m\u001b[1;33m)\u001b[0m\u001b[1;33m\u001b[0m\u001b[0m\n\u001b[0;32m     25\u001b[0m \u001b[1;33m\u001b[0m\u001b[0m\n",
        "\u001b[1;31mTypeError\u001b[0m: 'float' object is not callable"
       ]
      },
      {
       "ename": "TypeError",
       "evalue": "'float' object is not callable",
       "output_type": "pyerr",
       "traceback": [
        "\u001b[1;31m---------------------------------------------------------------------------\u001b[0m\n\u001b[1;31mTypeError\u001b[0m                                 Traceback (most recent call last)",
        "\u001b[1;32m<ipython-input-19-d07ea8831571>\u001b[0m in \u001b[0;36mderiv2y\u001b[1;34m(r_current, t)\u001b[0m\n\u001b[0;32m     21\u001b[0m     \u001b[0mdr\u001b[0m \u001b[1;33m=\u001b[0m \u001b[0mv2\u001b[0m\u001b[1;33m\u001b[0m\u001b[0m\n\u001b[0;32m     22\u001b[0m     \u001b[0mrhoy\u001b[0m \u001b[1;33m=\u001b[0m \u001b[0mRy\u001b[0m \u001b[1;33m-\u001b[0m \u001b[0mry\u001b[0m\u001b[1;33m\u001b[0m\u001b[0m\n\u001b[1;32m---> 23\u001b[1;33m     \u001b[0mdv2\u001b[0m \u001b[1;33m=\u001b[0m \u001b[1;33m-\u001b[0m\u001b[1;33m(\u001b[0m\u001b[0mg\u001b[0m\u001b[1;33m(\u001b[0m\u001b[1;33m(\u001b[0m\u001b[0mM\u001b[0m\u001b[1;33m/\u001b[0m\u001b[0mry\u001b[0m\u001b[1;33m**\u001b[0m\u001b[1;36m3\u001b[0m\u001b[1;33m)\u001b[0m\u001b[1;33m*\u001b[0m\u001b[0mry\u001b[0m \u001b[1;33m-\u001b[0m \u001b[1;33m(\u001b[0m\u001b[0mS\u001b[0m\u001b[1;33m/\u001b[0m\u001b[0mrhoy\u001b[0m\u001b[1;33m**\u001b[0m\u001b[1;36m3\u001b[0m\u001b[1;33m)\u001b[0m\u001b[1;33m*\u001b[0m\u001b[0mrhoy\u001b[0m \u001b[1;33m+\u001b[0m \u001b[1;33m(\u001b[0m\u001b[0mS\u001b[0m\u001b[1;33m/\u001b[0m\u001b[0mRy\u001b[0m\u001b[1;33m**\u001b[0m\u001b[1;36m3\u001b[0m\u001b[1;33m)\u001b[0m\u001b[1;33m*\u001b[0m\u001b[0mRy\u001b[0m\u001b[1;33m)\u001b[0m\u001b[1;33m)\u001b[0m\u001b[1;33m\u001b[0m\u001b[0m\n\u001b[0m\u001b[0;32m     24\u001b[0m     \u001b[1;32mreturn\u001b[0m \u001b[0mnp\u001b[0m\u001b[1;33m.\u001b[0m\u001b[0marray\u001b[0m\u001b[1;33m(\u001b[0m\u001b[1;33m[\u001b[0m \u001b[0mdr\u001b[0m \u001b[1;33m,\u001b[0m \u001b[0mdv2\u001b[0m \u001b[1;33m]\u001b[0m\u001b[1;33m)\u001b[0m\u001b[1;33m\u001b[0m\u001b[0m\n\u001b[0;32m     25\u001b[0m \u001b[1;33m\u001b[0m\u001b[0m\n",
        "\u001b[1;31mTypeError\u001b[0m: 'float' object is not callable"
       ]
      },
      {
       "ename": "TypeError",
       "evalue": "'float' object is not callable",
       "output_type": "pyerr",
       "traceback": [
        "\u001b[1;31m---------------------------------------------------------------------------\u001b[0m\n\u001b[1;31mTypeError\u001b[0m                                 Traceback (most recent call last)",
        "\u001b[1;32m<ipython-input-19-d07ea8831571>\u001b[0m in \u001b[0;36mderiv2y\u001b[1;34m(r_current, t)\u001b[0m\n\u001b[0;32m     21\u001b[0m     \u001b[0mdr\u001b[0m \u001b[1;33m=\u001b[0m \u001b[0mv2\u001b[0m\u001b[1;33m\u001b[0m\u001b[0m\n\u001b[0;32m     22\u001b[0m     \u001b[0mrhoy\u001b[0m \u001b[1;33m=\u001b[0m \u001b[0mRy\u001b[0m \u001b[1;33m-\u001b[0m \u001b[0mry\u001b[0m\u001b[1;33m\u001b[0m\u001b[0m\n\u001b[1;32m---> 23\u001b[1;33m     \u001b[0mdv2\u001b[0m \u001b[1;33m=\u001b[0m \u001b[1;33m-\u001b[0m\u001b[1;33m(\u001b[0m\u001b[0mg\u001b[0m\u001b[1;33m(\u001b[0m\u001b[1;33m(\u001b[0m\u001b[0mM\u001b[0m\u001b[1;33m/\u001b[0m\u001b[0mry\u001b[0m\u001b[1;33m**\u001b[0m\u001b[1;36m3\u001b[0m\u001b[1;33m)\u001b[0m\u001b[1;33m*\u001b[0m\u001b[0mry\u001b[0m \u001b[1;33m-\u001b[0m \u001b[1;33m(\u001b[0m\u001b[0mS\u001b[0m\u001b[1;33m/\u001b[0m\u001b[0mrhoy\u001b[0m\u001b[1;33m**\u001b[0m\u001b[1;36m3\u001b[0m\u001b[1;33m)\u001b[0m\u001b[1;33m*\u001b[0m\u001b[0mrhoy\u001b[0m \u001b[1;33m+\u001b[0m \u001b[1;33m(\u001b[0m\u001b[0mS\u001b[0m\u001b[1;33m/\u001b[0m\u001b[0mRy\u001b[0m\u001b[1;33m**\u001b[0m\u001b[1;36m3\u001b[0m\u001b[1;33m)\u001b[0m\u001b[1;33m*\u001b[0m\u001b[0mRy\u001b[0m\u001b[1;33m)\u001b[0m\u001b[1;33m)\u001b[0m\u001b[1;33m\u001b[0m\u001b[0m\n\u001b[0m\u001b[0;32m     24\u001b[0m     \u001b[1;32mreturn\u001b[0m \u001b[0mnp\u001b[0m\u001b[1;33m.\u001b[0m\u001b[0marray\u001b[0m\u001b[1;33m(\u001b[0m\u001b[1;33m[\u001b[0m \u001b[0mdr\u001b[0m \u001b[1;33m,\u001b[0m \u001b[0mdv2\u001b[0m \u001b[1;33m]\u001b[0m\u001b[1;33m)\u001b[0m\u001b[1;33m\u001b[0m\u001b[0m\n\u001b[0;32m     25\u001b[0m \u001b[1;33m\u001b[0m\u001b[0m\n",
        "\u001b[1;31mTypeError\u001b[0m: 'float' object is not callable"
       ]
      },
      {
       "ename": "TypeError",
       "evalue": "'float' object is not callable",
       "output_type": "pyerr",
       "traceback": [
        "\u001b[1;31m---------------------------------------------------------------------------\u001b[0m\n\u001b[1;31mTypeError\u001b[0m                                 Traceback (most recent call last)",
        "\u001b[1;32m<ipython-input-19-d07ea8831571>\u001b[0m in \u001b[0;36mderiv2y\u001b[1;34m(r_current, t)\u001b[0m\n\u001b[0;32m     21\u001b[0m     \u001b[0mdr\u001b[0m \u001b[1;33m=\u001b[0m \u001b[0mv2\u001b[0m\u001b[1;33m\u001b[0m\u001b[0m\n\u001b[0;32m     22\u001b[0m     \u001b[0mrhoy\u001b[0m \u001b[1;33m=\u001b[0m \u001b[0mRy\u001b[0m \u001b[1;33m-\u001b[0m \u001b[0mry\u001b[0m\u001b[1;33m\u001b[0m\u001b[0m\n\u001b[1;32m---> 23\u001b[1;33m     \u001b[0mdv2\u001b[0m \u001b[1;33m=\u001b[0m \u001b[1;33m-\u001b[0m\u001b[1;33m(\u001b[0m\u001b[0mg\u001b[0m\u001b[1;33m(\u001b[0m\u001b[1;33m(\u001b[0m\u001b[0mM\u001b[0m\u001b[1;33m/\u001b[0m\u001b[0mry\u001b[0m\u001b[1;33m**\u001b[0m\u001b[1;36m3\u001b[0m\u001b[1;33m)\u001b[0m\u001b[1;33m*\u001b[0m\u001b[0mry\u001b[0m \u001b[1;33m-\u001b[0m \u001b[1;33m(\u001b[0m\u001b[0mS\u001b[0m\u001b[1;33m/\u001b[0m\u001b[0mrhoy\u001b[0m\u001b[1;33m**\u001b[0m\u001b[1;36m3\u001b[0m\u001b[1;33m)\u001b[0m\u001b[1;33m*\u001b[0m\u001b[0mrhoy\u001b[0m \u001b[1;33m+\u001b[0m \u001b[1;33m(\u001b[0m\u001b[0mS\u001b[0m\u001b[1;33m/\u001b[0m\u001b[0mRy\u001b[0m\u001b[1;33m**\u001b[0m\u001b[1;36m3\u001b[0m\u001b[1;33m)\u001b[0m\u001b[1;33m*\u001b[0m\u001b[0mRy\u001b[0m\u001b[1;33m)\u001b[0m\u001b[1;33m)\u001b[0m\u001b[1;33m\u001b[0m\u001b[0m\n\u001b[0m\u001b[0;32m     24\u001b[0m     \u001b[1;32mreturn\u001b[0m \u001b[0mnp\u001b[0m\u001b[1;33m.\u001b[0m\u001b[0marray\u001b[0m\u001b[1;33m(\u001b[0m\u001b[1;33m[\u001b[0m \u001b[0mdr\u001b[0m \u001b[1;33m,\u001b[0m \u001b[0mdv2\u001b[0m \u001b[1;33m]\u001b[0m\u001b[1;33m)\u001b[0m\u001b[1;33m\u001b[0m\u001b[0m\n\u001b[0;32m     25\u001b[0m \u001b[1;33m\u001b[0m\u001b[0m\n",
        "\u001b[1;31mTypeError\u001b[0m: 'float' object is not callable"
       ]
      },
      {
       "ename": "TypeError",
       "evalue": "'float' object is not callable",
       "output_type": "pyerr",
       "traceback": [
        "\u001b[1;31m---------------------------------------------------------------------------\u001b[0m\n\u001b[1;31mTypeError\u001b[0m                                 Traceback (most recent call last)",
        "\u001b[1;32m<ipython-input-19-d07ea8831571>\u001b[0m in \u001b[0;36mderiv2y\u001b[1;34m(r_current, t)\u001b[0m\n\u001b[0;32m     21\u001b[0m     \u001b[0mdr\u001b[0m \u001b[1;33m=\u001b[0m \u001b[0mv2\u001b[0m\u001b[1;33m\u001b[0m\u001b[0m\n\u001b[0;32m     22\u001b[0m     \u001b[0mrhoy\u001b[0m \u001b[1;33m=\u001b[0m \u001b[0mRy\u001b[0m \u001b[1;33m-\u001b[0m \u001b[0mry\u001b[0m\u001b[1;33m\u001b[0m\u001b[0m\n\u001b[1;32m---> 23\u001b[1;33m     \u001b[0mdv2\u001b[0m \u001b[1;33m=\u001b[0m \u001b[1;33m-\u001b[0m\u001b[1;33m(\u001b[0m\u001b[0mg\u001b[0m\u001b[1;33m(\u001b[0m\u001b[1;33m(\u001b[0m\u001b[0mM\u001b[0m\u001b[1;33m/\u001b[0m\u001b[0mry\u001b[0m\u001b[1;33m**\u001b[0m\u001b[1;36m3\u001b[0m\u001b[1;33m)\u001b[0m\u001b[1;33m*\u001b[0m\u001b[0mry\u001b[0m \u001b[1;33m-\u001b[0m \u001b[1;33m(\u001b[0m\u001b[0mS\u001b[0m\u001b[1;33m/\u001b[0m\u001b[0mrhoy\u001b[0m\u001b[1;33m**\u001b[0m\u001b[1;36m3\u001b[0m\u001b[1;33m)\u001b[0m\u001b[1;33m*\u001b[0m\u001b[0mrhoy\u001b[0m \u001b[1;33m+\u001b[0m \u001b[1;33m(\u001b[0m\u001b[0mS\u001b[0m\u001b[1;33m/\u001b[0m\u001b[0mRy\u001b[0m\u001b[1;33m**\u001b[0m\u001b[1;36m3\u001b[0m\u001b[1;33m)\u001b[0m\u001b[1;33m*\u001b[0m\u001b[0mRy\u001b[0m\u001b[1;33m)\u001b[0m\u001b[1;33m)\u001b[0m\u001b[1;33m\u001b[0m\u001b[0m\n\u001b[0m\u001b[0;32m     24\u001b[0m     \u001b[1;32mreturn\u001b[0m \u001b[0mnp\u001b[0m\u001b[1;33m.\u001b[0m\u001b[0marray\u001b[0m\u001b[1;33m(\u001b[0m\u001b[1;33m[\u001b[0m \u001b[0mdr\u001b[0m \u001b[1;33m,\u001b[0m \u001b[0mdv2\u001b[0m \u001b[1;33m]\u001b[0m\u001b[1;33m)\u001b[0m\u001b[1;33m\u001b[0m\u001b[0m\n\u001b[0;32m     25\u001b[0m \u001b[1;33m\u001b[0m\u001b[0m\n",
        "\u001b[1;31mTypeError\u001b[0m: 'float' object is not callable"
       ]
      },
      {
       "ename": "TypeError",
       "evalue": "'float' object is not callable",
       "output_type": "pyerr",
       "traceback": [
        "\u001b[1;31m---------------------------------------------------------------------------\u001b[0m\n\u001b[1;31mTypeError\u001b[0m                                 Traceback (most recent call last)",
        "\u001b[1;32m<ipython-input-19-d07ea8831571>\u001b[0m in \u001b[0;36mderiv2y\u001b[1;34m(r_current, t)\u001b[0m\n\u001b[0;32m     21\u001b[0m     \u001b[0mdr\u001b[0m \u001b[1;33m=\u001b[0m \u001b[0mv2\u001b[0m\u001b[1;33m\u001b[0m\u001b[0m\n\u001b[0;32m     22\u001b[0m     \u001b[0mrhoy\u001b[0m \u001b[1;33m=\u001b[0m \u001b[0mRy\u001b[0m \u001b[1;33m-\u001b[0m \u001b[0mry\u001b[0m\u001b[1;33m\u001b[0m\u001b[0m\n\u001b[1;32m---> 23\u001b[1;33m     \u001b[0mdv2\u001b[0m \u001b[1;33m=\u001b[0m \u001b[1;33m-\u001b[0m\u001b[1;33m(\u001b[0m\u001b[0mg\u001b[0m\u001b[1;33m(\u001b[0m\u001b[1;33m(\u001b[0m\u001b[0mM\u001b[0m\u001b[1;33m/\u001b[0m\u001b[0mry\u001b[0m\u001b[1;33m**\u001b[0m\u001b[1;36m3\u001b[0m\u001b[1;33m)\u001b[0m\u001b[1;33m*\u001b[0m\u001b[0mry\u001b[0m \u001b[1;33m-\u001b[0m \u001b[1;33m(\u001b[0m\u001b[0mS\u001b[0m\u001b[1;33m/\u001b[0m\u001b[0mrhoy\u001b[0m\u001b[1;33m**\u001b[0m\u001b[1;36m3\u001b[0m\u001b[1;33m)\u001b[0m\u001b[1;33m*\u001b[0m\u001b[0mrhoy\u001b[0m \u001b[1;33m+\u001b[0m \u001b[1;33m(\u001b[0m\u001b[0mS\u001b[0m\u001b[1;33m/\u001b[0m\u001b[0mRy\u001b[0m\u001b[1;33m**\u001b[0m\u001b[1;36m3\u001b[0m\u001b[1;33m)\u001b[0m\u001b[1;33m*\u001b[0m\u001b[0mRy\u001b[0m\u001b[1;33m)\u001b[0m\u001b[1;33m)\u001b[0m\u001b[1;33m\u001b[0m\u001b[0m\n\u001b[0m\u001b[0;32m     24\u001b[0m     \u001b[1;32mreturn\u001b[0m \u001b[0mnp\u001b[0m\u001b[1;33m.\u001b[0m\u001b[0marray\u001b[0m\u001b[1;33m(\u001b[0m\u001b[1;33m[\u001b[0m \u001b[0mdr\u001b[0m \u001b[1;33m,\u001b[0m \u001b[0mdv2\u001b[0m \u001b[1;33m]\u001b[0m\u001b[1;33m)\u001b[0m\u001b[1;33m\u001b[0m\u001b[0m\n\u001b[0;32m     25\u001b[0m \u001b[1;33m\u001b[0m\u001b[0m\n",
        "\u001b[1;31mTypeError\u001b[0m: 'float' object is not callable"
       ]
      },
      {
       "ename": "TypeError",
       "evalue": "'float' object is not callable",
       "output_type": "pyerr",
       "traceback": [
        "\u001b[1;31m---------------------------------------------------------------------------\u001b[0m\n\u001b[1;31mTypeError\u001b[0m                                 Traceback (most recent call last)",
        "\u001b[1;32m<ipython-input-19-d07ea8831571>\u001b[0m in \u001b[0;36mderiv2y\u001b[1;34m(r_current, t)\u001b[0m\n\u001b[0;32m     21\u001b[0m     \u001b[0mdr\u001b[0m \u001b[1;33m=\u001b[0m \u001b[0mv2\u001b[0m\u001b[1;33m\u001b[0m\u001b[0m\n\u001b[0;32m     22\u001b[0m     \u001b[0mrhoy\u001b[0m \u001b[1;33m=\u001b[0m \u001b[0mRy\u001b[0m \u001b[1;33m-\u001b[0m \u001b[0mry\u001b[0m\u001b[1;33m\u001b[0m\u001b[0m\n\u001b[1;32m---> 23\u001b[1;33m     \u001b[0mdv2\u001b[0m \u001b[1;33m=\u001b[0m \u001b[1;33m-\u001b[0m\u001b[1;33m(\u001b[0m\u001b[0mg\u001b[0m\u001b[1;33m(\u001b[0m\u001b[1;33m(\u001b[0m\u001b[0mM\u001b[0m\u001b[1;33m/\u001b[0m\u001b[0mry\u001b[0m\u001b[1;33m**\u001b[0m\u001b[1;36m3\u001b[0m\u001b[1;33m)\u001b[0m\u001b[1;33m*\u001b[0m\u001b[0mry\u001b[0m \u001b[1;33m-\u001b[0m \u001b[1;33m(\u001b[0m\u001b[0mS\u001b[0m\u001b[1;33m/\u001b[0m\u001b[0mrhoy\u001b[0m\u001b[1;33m**\u001b[0m\u001b[1;36m3\u001b[0m\u001b[1;33m)\u001b[0m\u001b[1;33m*\u001b[0m\u001b[0mrhoy\u001b[0m \u001b[1;33m+\u001b[0m \u001b[1;33m(\u001b[0m\u001b[0mS\u001b[0m\u001b[1;33m/\u001b[0m\u001b[0mRy\u001b[0m\u001b[1;33m**\u001b[0m\u001b[1;36m3\u001b[0m\u001b[1;33m)\u001b[0m\u001b[1;33m*\u001b[0m\u001b[0mRy\u001b[0m\u001b[1;33m)\u001b[0m\u001b[1;33m)\u001b[0m\u001b[1;33m\u001b[0m\u001b[0m\n\u001b[0m\u001b[0;32m     24\u001b[0m     \u001b[1;32mreturn\u001b[0m \u001b[0mnp\u001b[0m\u001b[1;33m.\u001b[0m\u001b[0marray\u001b[0m\u001b[1;33m(\u001b[0m\u001b[1;33m[\u001b[0m \u001b[0mdr\u001b[0m \u001b[1;33m,\u001b[0m \u001b[0mdv2\u001b[0m \u001b[1;33m]\u001b[0m\u001b[1;33m)\u001b[0m\u001b[1;33m\u001b[0m\u001b[0m\n\u001b[0;32m     25\u001b[0m \u001b[1;33m\u001b[0m\u001b[0m\n",
        "\u001b[1;31mTypeError\u001b[0m: 'float' object is not callable"
       ]
      },
      {
       "ename": "TypeError",
       "evalue": "'float' object is not callable",
       "output_type": "pyerr",
       "traceback": [
        "\u001b[1;31m---------------------------------------------------------------------------\u001b[0m\n\u001b[1;31mTypeError\u001b[0m                                 Traceback (most recent call last)",
        "\u001b[1;32m<ipython-input-19-d07ea8831571>\u001b[0m in \u001b[0;36mderiv2y\u001b[1;34m(r_current, t)\u001b[0m\n\u001b[0;32m     21\u001b[0m     \u001b[0mdr\u001b[0m \u001b[1;33m=\u001b[0m \u001b[0mv2\u001b[0m\u001b[1;33m\u001b[0m\u001b[0m\n\u001b[0;32m     22\u001b[0m     \u001b[0mrhoy\u001b[0m \u001b[1;33m=\u001b[0m \u001b[0mRy\u001b[0m \u001b[1;33m-\u001b[0m \u001b[0mry\u001b[0m\u001b[1;33m\u001b[0m\u001b[0m\n\u001b[1;32m---> 23\u001b[1;33m     \u001b[0mdv2\u001b[0m \u001b[1;33m=\u001b[0m \u001b[1;33m-\u001b[0m\u001b[1;33m(\u001b[0m\u001b[0mg\u001b[0m\u001b[1;33m(\u001b[0m\u001b[1;33m(\u001b[0m\u001b[0mM\u001b[0m\u001b[1;33m/\u001b[0m\u001b[0mry\u001b[0m\u001b[1;33m**\u001b[0m\u001b[1;36m3\u001b[0m\u001b[1;33m)\u001b[0m\u001b[1;33m*\u001b[0m\u001b[0mry\u001b[0m \u001b[1;33m-\u001b[0m \u001b[1;33m(\u001b[0m\u001b[0mS\u001b[0m\u001b[1;33m/\u001b[0m\u001b[0mrhoy\u001b[0m\u001b[1;33m**\u001b[0m\u001b[1;36m3\u001b[0m\u001b[1;33m)\u001b[0m\u001b[1;33m*\u001b[0m\u001b[0mrhoy\u001b[0m \u001b[1;33m+\u001b[0m \u001b[1;33m(\u001b[0m\u001b[0mS\u001b[0m\u001b[1;33m/\u001b[0m\u001b[0mRy\u001b[0m\u001b[1;33m**\u001b[0m\u001b[1;36m3\u001b[0m\u001b[1;33m)\u001b[0m\u001b[1;33m*\u001b[0m\u001b[0mRy\u001b[0m\u001b[1;33m)\u001b[0m\u001b[1;33m)\u001b[0m\u001b[1;33m\u001b[0m\u001b[0m\n\u001b[0m\u001b[0;32m     24\u001b[0m     \u001b[1;32mreturn\u001b[0m \u001b[0mnp\u001b[0m\u001b[1;33m.\u001b[0m\u001b[0marray\u001b[0m\u001b[1;33m(\u001b[0m\u001b[1;33m[\u001b[0m \u001b[0mdr\u001b[0m \u001b[1;33m,\u001b[0m \u001b[0mdv2\u001b[0m \u001b[1;33m]\u001b[0m\u001b[1;33m)\u001b[0m\u001b[1;33m\u001b[0m\u001b[0m\n\u001b[0;32m     25\u001b[0m \u001b[1;33m\u001b[0m\u001b[0m\n",
        "\u001b[1;31mTypeError\u001b[0m: 'float' object is not callable"
       ]
      },
      {
       "ename": "TypeError",
       "evalue": "'float' object is not callable",
       "output_type": "pyerr",
       "traceback": [
        "\u001b[1;31m---------------------------------------------------------------------------\u001b[0m\n\u001b[1;31mTypeError\u001b[0m                                 Traceback (most recent call last)",
        "\u001b[1;32m<ipython-input-19-d07ea8831571>\u001b[0m in \u001b[0;36mderiv2y\u001b[1;34m(r_current, t)\u001b[0m\n\u001b[0;32m     21\u001b[0m     \u001b[0mdr\u001b[0m \u001b[1;33m=\u001b[0m \u001b[0mv2\u001b[0m\u001b[1;33m\u001b[0m\u001b[0m\n\u001b[0;32m     22\u001b[0m     \u001b[0mrhoy\u001b[0m \u001b[1;33m=\u001b[0m \u001b[0mRy\u001b[0m \u001b[1;33m-\u001b[0m \u001b[0mry\u001b[0m\u001b[1;33m\u001b[0m\u001b[0m\n\u001b[1;32m---> 23\u001b[1;33m     \u001b[0mdv2\u001b[0m \u001b[1;33m=\u001b[0m \u001b[1;33m-\u001b[0m\u001b[1;33m(\u001b[0m\u001b[0mg\u001b[0m\u001b[1;33m(\u001b[0m\u001b[1;33m(\u001b[0m\u001b[0mM\u001b[0m\u001b[1;33m/\u001b[0m\u001b[0mry\u001b[0m\u001b[1;33m**\u001b[0m\u001b[1;36m3\u001b[0m\u001b[1;33m)\u001b[0m\u001b[1;33m*\u001b[0m\u001b[0mry\u001b[0m \u001b[1;33m-\u001b[0m \u001b[1;33m(\u001b[0m\u001b[0mS\u001b[0m\u001b[1;33m/\u001b[0m\u001b[0mrhoy\u001b[0m\u001b[1;33m**\u001b[0m\u001b[1;36m3\u001b[0m\u001b[1;33m)\u001b[0m\u001b[1;33m*\u001b[0m\u001b[0mrhoy\u001b[0m \u001b[1;33m+\u001b[0m \u001b[1;33m(\u001b[0m\u001b[0mS\u001b[0m\u001b[1;33m/\u001b[0m\u001b[0mRy\u001b[0m\u001b[1;33m**\u001b[0m\u001b[1;36m3\u001b[0m\u001b[1;33m)\u001b[0m\u001b[1;33m*\u001b[0m\u001b[0mRy\u001b[0m\u001b[1;33m)\u001b[0m\u001b[1;33m)\u001b[0m\u001b[1;33m\u001b[0m\u001b[0m\n\u001b[0m\u001b[0;32m     24\u001b[0m     \u001b[1;32mreturn\u001b[0m \u001b[0mnp\u001b[0m\u001b[1;33m.\u001b[0m\u001b[0marray\u001b[0m\u001b[1;33m(\u001b[0m\u001b[1;33m[\u001b[0m \u001b[0mdr\u001b[0m \u001b[1;33m,\u001b[0m \u001b[0mdv2\u001b[0m \u001b[1;33m]\u001b[0m\u001b[1;33m)\u001b[0m\u001b[1;33m\u001b[0m\u001b[0m\n\u001b[0;32m     25\u001b[0m \u001b[1;33m\u001b[0m\u001b[0m\n",
        "\u001b[1;31mTypeError\u001b[0m: 'float' object is not callable"
       ]
      },
      {
       "ename": "TypeError",
       "evalue": "'float' object is not callable",
       "output_type": "pyerr",
       "traceback": [
        "\u001b[1;31m---------------------------------------------------------------------------\u001b[0m\n\u001b[1;31mTypeError\u001b[0m                                 Traceback (most recent call last)",
        "\u001b[1;32m<ipython-input-19-d07ea8831571>\u001b[0m in \u001b[0;36mderiv2y\u001b[1;34m(r_current, t)\u001b[0m\n\u001b[0;32m     21\u001b[0m     \u001b[0mdr\u001b[0m \u001b[1;33m=\u001b[0m \u001b[0mv2\u001b[0m\u001b[1;33m\u001b[0m\u001b[0m\n\u001b[0;32m     22\u001b[0m     \u001b[0mrhoy\u001b[0m \u001b[1;33m=\u001b[0m \u001b[0mRy\u001b[0m \u001b[1;33m-\u001b[0m \u001b[0mry\u001b[0m\u001b[1;33m\u001b[0m\u001b[0m\n\u001b[1;32m---> 23\u001b[1;33m     \u001b[0mdv2\u001b[0m \u001b[1;33m=\u001b[0m \u001b[1;33m-\u001b[0m\u001b[1;33m(\u001b[0m\u001b[0mg\u001b[0m\u001b[1;33m(\u001b[0m\u001b[1;33m(\u001b[0m\u001b[0mM\u001b[0m\u001b[1;33m/\u001b[0m\u001b[0mry\u001b[0m\u001b[1;33m**\u001b[0m\u001b[1;36m3\u001b[0m\u001b[1;33m)\u001b[0m\u001b[1;33m*\u001b[0m\u001b[0mry\u001b[0m \u001b[1;33m-\u001b[0m \u001b[1;33m(\u001b[0m\u001b[0mS\u001b[0m\u001b[1;33m/\u001b[0m\u001b[0mrhoy\u001b[0m\u001b[1;33m**\u001b[0m\u001b[1;36m3\u001b[0m\u001b[1;33m)\u001b[0m\u001b[1;33m*\u001b[0m\u001b[0mrhoy\u001b[0m \u001b[1;33m+\u001b[0m \u001b[1;33m(\u001b[0m\u001b[0mS\u001b[0m\u001b[1;33m/\u001b[0m\u001b[0mRy\u001b[0m\u001b[1;33m**\u001b[0m\u001b[1;36m3\u001b[0m\u001b[1;33m)\u001b[0m\u001b[1;33m*\u001b[0m\u001b[0mRy\u001b[0m\u001b[1;33m)\u001b[0m\u001b[1;33m)\u001b[0m\u001b[1;33m\u001b[0m\u001b[0m\n\u001b[0m\u001b[0;32m     24\u001b[0m     \u001b[1;32mreturn\u001b[0m \u001b[0mnp\u001b[0m\u001b[1;33m.\u001b[0m\u001b[0marray\u001b[0m\u001b[1;33m(\u001b[0m\u001b[1;33m[\u001b[0m \u001b[0mdr\u001b[0m \u001b[1;33m,\u001b[0m \u001b[0mdv2\u001b[0m \u001b[1;33m]\u001b[0m\u001b[1;33m)\u001b[0m\u001b[1;33m\u001b[0m\u001b[0m\n\u001b[0;32m     25\u001b[0m \u001b[1;33m\u001b[0m\u001b[0m\n",
        "\u001b[1;31mTypeError\u001b[0m: 'float' object is not callable"
       ]
      },
      {
       "ename": "TypeError",
       "evalue": "'float' object is not callable",
       "output_type": "pyerr",
       "traceback": [
        "\u001b[1;31m---------------------------------------------------------------------------\u001b[0m\n\u001b[1;31mTypeError\u001b[0m                                 Traceback (most recent call last)",
        "\u001b[1;32m<ipython-input-19-d07ea8831571>\u001b[0m in \u001b[0;36mderiv2y\u001b[1;34m(r_current, t)\u001b[0m\n\u001b[0;32m     21\u001b[0m     \u001b[0mdr\u001b[0m \u001b[1;33m=\u001b[0m \u001b[0mv2\u001b[0m\u001b[1;33m\u001b[0m\u001b[0m\n\u001b[0;32m     22\u001b[0m     \u001b[0mrhoy\u001b[0m \u001b[1;33m=\u001b[0m \u001b[0mRy\u001b[0m \u001b[1;33m-\u001b[0m \u001b[0mry\u001b[0m\u001b[1;33m\u001b[0m\u001b[0m\n\u001b[1;32m---> 23\u001b[1;33m     \u001b[0mdv2\u001b[0m \u001b[1;33m=\u001b[0m \u001b[1;33m-\u001b[0m\u001b[1;33m(\u001b[0m\u001b[0mg\u001b[0m\u001b[1;33m(\u001b[0m\u001b[1;33m(\u001b[0m\u001b[0mM\u001b[0m\u001b[1;33m/\u001b[0m\u001b[0mry\u001b[0m\u001b[1;33m**\u001b[0m\u001b[1;36m3\u001b[0m\u001b[1;33m)\u001b[0m\u001b[1;33m*\u001b[0m\u001b[0mry\u001b[0m \u001b[1;33m-\u001b[0m \u001b[1;33m(\u001b[0m\u001b[0mS\u001b[0m\u001b[1;33m/\u001b[0m\u001b[0mrhoy\u001b[0m\u001b[1;33m**\u001b[0m\u001b[1;36m3\u001b[0m\u001b[1;33m)\u001b[0m\u001b[1;33m*\u001b[0m\u001b[0mrhoy\u001b[0m \u001b[1;33m+\u001b[0m \u001b[1;33m(\u001b[0m\u001b[0mS\u001b[0m\u001b[1;33m/\u001b[0m\u001b[0mRy\u001b[0m\u001b[1;33m**\u001b[0m\u001b[1;36m3\u001b[0m\u001b[1;33m)\u001b[0m\u001b[1;33m*\u001b[0m\u001b[0mRy\u001b[0m\u001b[1;33m)\u001b[0m\u001b[1;33m)\u001b[0m\u001b[1;33m\u001b[0m\u001b[0m\n\u001b[0m\u001b[0;32m     24\u001b[0m     \u001b[1;32mreturn\u001b[0m \u001b[0mnp\u001b[0m\u001b[1;33m.\u001b[0m\u001b[0marray\u001b[0m\u001b[1;33m(\u001b[0m\u001b[1;33m[\u001b[0m \u001b[0mdr\u001b[0m \u001b[1;33m,\u001b[0m \u001b[0mdv2\u001b[0m \u001b[1;33m]\u001b[0m\u001b[1;33m)\u001b[0m\u001b[1;33m\u001b[0m\u001b[0m\n\u001b[0;32m     25\u001b[0m \u001b[1;33m\u001b[0m\u001b[0m\n",
        "\u001b[1;31mTypeError\u001b[0m: 'float' object is not callable"
       ]
      },
      {
       "ename": "TypeError",
       "evalue": "'float' object is not callable",
       "output_type": "pyerr",
       "traceback": [
        "\u001b[1;31m---------------------------------------------------------------------------\u001b[0m\n\u001b[1;31mTypeError\u001b[0m                                 Traceback (most recent call last)",
        "\u001b[1;32m<ipython-input-19-d07ea8831571>\u001b[0m in \u001b[0;36mderiv2y\u001b[1;34m(r_current, t)\u001b[0m\n\u001b[0;32m     21\u001b[0m     \u001b[0mdr\u001b[0m \u001b[1;33m=\u001b[0m \u001b[0mv2\u001b[0m\u001b[1;33m\u001b[0m\u001b[0m\n\u001b[0;32m     22\u001b[0m     \u001b[0mrhoy\u001b[0m \u001b[1;33m=\u001b[0m \u001b[0mRy\u001b[0m \u001b[1;33m-\u001b[0m \u001b[0mry\u001b[0m\u001b[1;33m\u001b[0m\u001b[0m\n\u001b[1;32m---> 23\u001b[1;33m     \u001b[0mdv2\u001b[0m \u001b[1;33m=\u001b[0m \u001b[1;33m-\u001b[0m\u001b[1;33m(\u001b[0m\u001b[0mg\u001b[0m\u001b[1;33m(\u001b[0m\u001b[1;33m(\u001b[0m\u001b[0mM\u001b[0m\u001b[1;33m/\u001b[0m\u001b[0mry\u001b[0m\u001b[1;33m**\u001b[0m\u001b[1;36m3\u001b[0m\u001b[1;33m)\u001b[0m\u001b[1;33m*\u001b[0m\u001b[0mry\u001b[0m \u001b[1;33m-\u001b[0m \u001b[1;33m(\u001b[0m\u001b[0mS\u001b[0m\u001b[1;33m/\u001b[0m\u001b[0mrhoy\u001b[0m\u001b[1;33m**\u001b[0m\u001b[1;36m3\u001b[0m\u001b[1;33m)\u001b[0m\u001b[1;33m*\u001b[0m\u001b[0mrhoy\u001b[0m \u001b[1;33m+\u001b[0m \u001b[1;33m(\u001b[0m\u001b[0mS\u001b[0m\u001b[1;33m/\u001b[0m\u001b[0mRy\u001b[0m\u001b[1;33m**\u001b[0m\u001b[1;36m3\u001b[0m\u001b[1;33m)\u001b[0m\u001b[1;33m*\u001b[0m\u001b[0mRy\u001b[0m\u001b[1;33m)\u001b[0m\u001b[1;33m)\u001b[0m\u001b[1;33m\u001b[0m\u001b[0m\n\u001b[0m\u001b[0;32m     24\u001b[0m     \u001b[1;32mreturn\u001b[0m \u001b[0mnp\u001b[0m\u001b[1;33m.\u001b[0m\u001b[0marray\u001b[0m\u001b[1;33m(\u001b[0m\u001b[1;33m[\u001b[0m \u001b[0mdr\u001b[0m \u001b[1;33m,\u001b[0m \u001b[0mdv2\u001b[0m \u001b[1;33m]\u001b[0m\u001b[1;33m)\u001b[0m\u001b[1;33m\u001b[0m\u001b[0m\n\u001b[0;32m     25\u001b[0m \u001b[1;33m\u001b[0m\u001b[0m\n",
        "\u001b[1;31mTypeError\u001b[0m: 'float' object is not callable"
       ]
      }
     ],
     "prompt_number": 19
    },
    {
     "cell_type": "code",
     "collapsed": false,
     "input": [],
     "language": "python",
     "metadata": {},
     "outputs": []
    }
   ],
   "metadata": {}
  }
 ]
}