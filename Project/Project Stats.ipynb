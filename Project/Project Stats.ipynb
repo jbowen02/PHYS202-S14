{
 "metadata": {
  "name": "",
  "signature": "sha256:4f21560f451acd10b51bda64b24890b96c81b0397c9abff5bde4cc4efd9d104d"
 },
 "nbformat": 3,
 "nbformat_minor": 0,
 "worksheets": [
  {
   "cells": [
    {
     "cell_type": "heading",
     "level": 1,
     "metadata": {},
     "source": [
      "Some Notes"
     ]
    },
    {
     "cell_type": "markdown",
     "metadata": {},
     "source": [
      "4 Examples:\n",
      "    \n",
      "    General stats\n",
      "        \n",
      "        120 test particles in 5 rings\n",
      "            \n",
      "            Rings have 12, 18, 24, 30, and 36 particles\n",
      "            \n",
      "            Rings are at 20, 30, 40, 50, and 60% of Rmin (with the exception of example 4)\n",
      "        \n",
      "        1 unit of t = 10^8 years\n",
      "        \n",
      "        Rmin = 25 kpc\n",
      "        \n",
      "        Heavier mass in each example is 10^11 solar masses\n",
      "        \n",
      "        First 3 examples have the outer most ring of stars at 15 kpc with period of 5.442 time units\n",
      "\n",
      "Retrograde Passage****\n",
      "    \n",
      "    M = S\n",
      "    \n",
      "    Rings of stars (CC) and the direction of galaxy S (Clockwise) are opposite\n",
      "    \n",
      "    t goes from -1 to 8\n",
      "    \n",
      "    -1 through 2 are in reference frame of center of the two masses\n",
      "    \n",
      "    3 through 8 are in reference frame of galaxy M\n",
      "    \n",
      "    at t = 5, additional test particles 70% of Rmin out are shown\n",
      "\n",
      "Direct Passage\n",
      "    \n",
      "    M = S\n",
      "    \n",
      "    Rings of stars and direction of galaxy S are the same (CC)\n",
      "    \n",
      "    All times are in the reference frame of center of the two masses\n",
      "    \n",
      "Passage of a Small Companion\n",
      "    \n",
      "    M = S/4\n",
      "    \n",
      "    Same direction of rotation (CC)\n",
      "    \n",
      "    t goes from -0.5 to 5 in steps of .5\n",
      "    \n",
      "    Additional test particles at 70% of Rmin are throughout this example\n",
      "    \n",
      "Passage of a Heavy Companion\n",
      "    \n",
      "    M/4 = S\n",
      "    \n",
      "    t goes from -1 to 1 in steps of .5, then from 2 to 5 in steps of 1\n",
      "    \n",
      "    Rings are at 12, 18, 24, 30, and 36% of Rmin"
     ]
    },
    {
     "cell_type": "heading",
     "level": 1,
     "metadata": {},
     "source": [
      "The Equation"
     ]
    },
    {
     "cell_type": "code",
     "collapsed": false,
     "input": [
      "g = 6.67384*10**(-11) #m^3 / kg*s^2\n",
      "M = (10**11)*(1.9891*10**30) #kg\n",
      "S = (10**11)*(1.9891*10**30) #kg\n",
      "rho = R - r\n",
      "R1 = ((xS-xM)**2 + (yS - yM)**2)**(1/2) #distance between the two masses\n",
      "r = ((xri-xM)**2 + (yri - yM)**2)**(1/2) #distance between mass M and test particles mi\n",
      "\n",
      "#Equation 1:\n",
      "dR2dt2 = -(g*(M + S)/(R**3))*R\n",
      "dRdt = v\n",
      "dR2dt2 = a\n",
      "dvdt = -(g*(M + S)/(R**3))*R\n",
      "v = velocity\n",
      "a = acceloration\n",
      "\n",
      "#Equation 2:\n",
      "dr2dt2 = -(g((M/r**3)*r - (S/rho**2)*rho + (S/R**3)*R))"
     ],
     "language": "python",
     "metadata": {},
     "outputs": []
    },
    {
     "cell_type": "code",
     "collapsed": false,
     "input": [
      "from scipy.integrate import odeint\n",
      "%pylab inline\n",
      "import numpy as np\n",
      "import matplotlib.pyplot as plt\n",
      "from IPython.html.widgets import interact, interactive\n",
      "#help(odeint)"
     ],
     "language": "python",
     "metadata": {},
     "outputs": [
      {
       "output_type": "stream",
       "stream": "stdout",
       "text": [
        "Populating the interactive namespace from numpy and matplotlib\n"
       ]
      }
     ],
     "prompt_number": 1
    },
    {
     "cell_type": "code",
     "collapsed": false,
     "input": [
      "R0 = 10.\n",
      "def deriv1(R_current,t):\n",
      "    g = 6.67384*10**(-11) #m^3 / kg*s^2\n",
      "    M = (10**11)*(1.9891*10**30) #kg\n",
      "    S = (10**11)*(1.9891*10**30) #kg\n",
      "    D = ((xS-xM)**2 + (yS - yM)**2)**(1/2)\n",
      "    R = R_current[0]\n",
      "    v = R_current[1]\n",
      "    dR = v\n",
      "    dv = -((g*(M + S))/(D**3))*R\n",
      "    return np.array([ dR , dv ])"
     ],
     "language": "python",
     "metadata": {},
     "outputs": [],
     "prompt_number": 40
    },
    {
     "cell_type": "code",
     "collapsed": false,
     "input": [
      "t = np.arange(0.,10.+1.,1.)\n",
      "\n",
      "xM = 0\n",
      "yM = 0\n",
      "\n",
      "xS = 0\n",
      "yS = 10\n",
      "\n",
      "v0 = 10.\n",
      "R_init = np.array([R0, v0])\n",
      "\n",
      "R = odeint(deriv1,R_init,t)\n",
      "print R"
     ],
     "language": "python",
     "metadata": {},
     "outputs": [
      {
       "output_type": "stream",
       "stream": "stdout",
       "text": [
        "Excess work done on this call (perhaps wrong Dfun type).\n",
        "Run with full_output = 1 to get quantitative information.\n",
        "[[  1.00000000e+001   1.00000000e+001]\n",
        " [ -8.98242929e+000   2.26458796e+016]\n",
        " [  0.00000000e+000   2.14027814e+161]\n",
        " [  5.04621383e+180   4.50618615e-144]\n",
        " [  1.16071308e-028   7.87220525e-067]\n",
        " [  2.17382935e-071   1.83627063e-076]\n",
        " [  1.52043726e+006   3.83819517e+151]\n",
        " [  1.47721841e+179   8.37404147e+242]\n",
        " [  4.31999013e-096   9.08366793e+223]\n",
        " [  7.89114853e-067   2.91129490e-057]\n",
        " [  3.03690848e-047   8.24141561e+010]]\n"
       ]
      }
     ],
     "prompt_number": 64
    },
    {
     "cell_type": "code",
     "collapsed": false,
     "input": [
      "R0 = 10.\n",
      "def deriv1x(R_current,t):\n",
      "    g = 6.67384*10**(-11) #m^3 / kg*s^2\n",
      "    M = (10**11)*(1.9891*10**30) #kg\n",
      "    S = (10**11)*(1.9891*10**30) #kg\n",
      "    D = ((xS-xM)**2)**(1/2)\n",
      "    R = R_current[0]\n",
      "    v = R_current[1]\n",
      "    dR = v\n",
      "    dv = -((g*(M + S))/(D**3))*R\n",
      "    return np.array([ dR , dv ])\n",
      "\n",
      "def deriv1y(R_current,t):\n",
      "    g = 6.67384*10**(-11) #m^3 / kg*s^2\n",
      "    M = (10**11)*(1.9891*10**30) #kg\n",
      "    S = (10**11)*(1.9891*10**30) #kg\n",
      "    D = ((yS - yM)**2)**(1/2)\n",
      "    R = R_current[0]\n",
      "    v = R_current[1]\n",
      "    dR = v\n",
      "    dv = -((g*(M + S))/(D**3))*R\n",
      "    return np.array([ dR , dv ])\n",
      "\n",
      "t = np.arange(0.,10.+1.,1.)\n",
      "\n",
      "xM = 0\n",
      "yM = 0\n",
      "\n",
      "xS = 0\n",
      "yS = 10\n",
      "\n",
      "v0 = 10.\n",
      "R_init = np.array([R0, v0])\n",
      "\n",
      "Rx = odeint(deriv1x,R_init,t)\n",
      "Ry = odeint(deriv1y,R_init,t)\n",
      "print Rx\n",
      "print Ry"
     ],
     "language": "python",
     "metadata": {},
     "outputs": [
      {
       "output_type": "stream",
       "stream": "stdout",
       "text": [
        "[[  1.00000000e+01   1.00000000e+01]\n",
        " [ -1.32749351e+31  -2.65498703e+31]\n",
        " [ -5.30997406e+31  -5.30997406e+31]\n",
        " [ -1.19474416e+32  -7.96496109e+31]\n",
        " [ -2.12398962e+32  -1.06199481e+32]\n",
        " [ -3.31873379e+32  -1.32749351e+32]\n",
        " [ -4.77897665e+32  -1.59299222e+32]\n",
        " [ -6.50471822e+32  -1.85849092e+32]\n",
        " [ -8.49595849e+32  -2.12398962e+32]\n",
        " [ -1.07526975e+33  -2.38948833e+32]\n",
        " [ -1.32749351e+33  -2.65498703e+32]]\n",
        "[[  1.00000000e+01   1.00000000e+01]\n",
        " [ -1.32749351e+31  -2.65498703e+31]\n",
        " [ -5.30997406e+31  -5.30997406e+31]\n",
        " [ -1.19474416e+32  -7.96496109e+31]\n",
        " [ -2.12398962e+32  -1.06199481e+32]\n",
        " [ -3.31873379e+32  -1.32749351e+32]\n",
        " [ -4.77897665e+32  -1.59299222e+32]\n",
        " [ -6.50471822e+32  -1.85849092e+32]\n",
        " [ -8.49595849e+32  -2.12398962e+32]\n",
        " [ -1.07526975e+33  -2.38948833e+32]\n",
        " [ -1.32749351e+33  -2.65498703e+32]]\n"
       ]
      }
     ],
     "prompt_number": 75
    },
    {
     "cell_type": "code",
     "collapsed": false,
     "input": [
      "plt.plot(t,R[:,0],'r',label=\"Position\")\n",
      "plt.plot(t,R[:,1],'b',label=\"Velocity\")\n",
      "plt.xlabel(r'$t (seconds)$',fontsize=20)\n",
      "plt.ylabel(r'R (m?)',fontsize=20)\n",
      "plt.xlim(-11, 11)\n",
      "plt.ylim(-20, 20)\n",
      "plt.grid()\n",
      "plt.legend()\n",
      "plt.show()"
     ],
     "language": "python",
     "metadata": {},
     "outputs": [
      {
       "metadata": {},
       "output_type": "display_data",
       "png": "[encoded data removed]",
       "text": [
        "<matplotlib.figure.Figure at 0xfadfb00>"
       ]
      }
     ],
     "prompt_number": 62
    },
    {
     "cell_type": "code",
     "collapsed": false,
     "input": [
      "def deriv2(r_current,t):\n",
      "    g = 6.67384*10**(-11) #m^3 / kg*s^2\n",
      "    M = (10**11)*(1.9891*10**30) #kg\n",
      "    S = (10**11)*(1.9891*10**30) #kg\n",
      "    r = r_current[0]\n",
      "    v2 = r_current[1]\n",
      "    dr = v2\n",
      "    rho = 10 #R - r\n",
      "    dv2 = -(g((M/r**3)*r - (S/rho**3)*rho + (S/R**3)*R))\n",
      "    return np.array([ dr , dv2 ])"
     ],
     "language": "python",
     "metadata": {},
     "outputs": [],
     "prompt_number": 90
    },
    {
     "cell_type": "code",
     "collapsed": false,
     "input": [
      "t = np.arange(0.,10.+0.01,0.01)\n",
      "r0 = 10\n",
      "v20 = 0\n",
      "\n",
      "r_init = np.array([r0, v20])\n",
      "\n",
      "r = odeint(deriv2,r_init,t)"
     ],
     "language": "python",
     "metadata": {},
     "outputs": [
      {
       "output_type": "stream",
       "stream": "stderr",
       "text": [
        "-c:9: RuntimeWarning: overflow encountered in power\n",
        "-c:9: RuntimeWarning: divide by zero encountered in divide\n",
        "-c:9: RuntimeWarning: overflow encountered in divide\n",
        "-c:9: RuntimeWarning: invalid value encountered in multiply\n"
       ]
      },
      {
       "ename": "TypeError",
       "evalue": "'float' object is not callable",
       "output_type": "pyerr",
       "traceback": [
        "\u001b[1;31m---------------------------------------------------------------------------\u001b[0m\n\u001b[1;31mTypeError\u001b[0m                                 Traceback (most recent call last)",
        "\u001b[1;32m<ipython-input-90-c709d2f10682>\u001b[0m in \u001b[0;36mderiv2\u001b[1;34m(r_current, t)\u001b[0m\n\u001b[0;32m      7\u001b[0m     \u001b[0mdr\u001b[0m \u001b[1;33m=\u001b[0m \u001b[0mv2\u001b[0m\u001b[1;33m\u001b[0m\u001b[0m\n\u001b[0;32m      8\u001b[0m     \u001b[0mrho\u001b[0m \u001b[1;33m=\u001b[0m \u001b[1;36m10\u001b[0m\u001b[1;31m#R - r\u001b[0m\u001b[1;33m\u001b[0m\u001b[0m\n\u001b[1;32m----> 9\u001b[1;33m     \u001b[0mdv2\u001b[0m \u001b[1;33m=\u001b[0m \u001b[1;33m-\u001b[0m\u001b[1;33m(\u001b[0m\u001b[0mg\u001b[0m\u001b[1;33m(\u001b[0m\u001b[1;33m(\u001b[0m\u001b[0mM\u001b[0m\u001b[1;33m/\u001b[0m\u001b[0mr\u001b[0m\u001b[1;33m**\u001b[0m\u001b[1;36m3\u001b[0m\u001b[1;33m)\u001b[0m\u001b[1;33m*\u001b[0m\u001b[0mr\u001b[0m \u001b[1;33m-\u001b[0m \u001b[1;33m(\u001b[0m\u001b[0mS\u001b[0m\u001b[1;33m/\u001b[0m\u001b[0mrho\u001b[0m\u001b[1;33m**\u001b[0m\u001b[1;36m3\u001b[0m\u001b[1;33m)\u001b[0m\u001b[1;33m*\u001b[0m\u001b[0mrho\u001b[0m \u001b[1;33m+\u001b[0m \u001b[1;33m(\u001b[0m\u001b[0mS\u001b[0m\u001b[1;33m/\u001b[0m\u001b[0mR\u001b[0m\u001b[1;33m**\u001b[0m\u001b[1;36m3\u001b[0m\u001b[1;33m)\u001b[0m\u001b[1;33m*\u001b[0m\u001b[0mR\u001b[0m\u001b[1;33m)\u001b[0m\u001b[1;33m)\u001b[0m\u001b[1;33m\u001b[0m\u001b[0m\n\u001b[0m\u001b[0;32m     10\u001b[0m     \u001b[1;32mreturn\u001b[0m \u001b[0mnp\u001b[0m\u001b[1;33m.\u001b[0m\u001b[0marray\u001b[0m\u001b[1;33m(\u001b[0m\u001b[1;33m[\u001b[0m \u001b[0mdr\u001b[0m \u001b[1;33m,\u001b[0m \u001b[0mdv2\u001b[0m \u001b[1;33m]\u001b[0m\u001b[1;33m)\u001b[0m\u001b[1;33m\u001b[0m\u001b[0m\n",
        "\u001b[1;31mTypeError\u001b[0m: 'float' object is not callable"
       ]
      },
      {
       "ename": "TypeError",
       "evalue": "'float' object is not callable",
       "output_type": "pyerr",
       "traceback": [
        "\u001b[1;31m---------------------------------------------------------------------------\u001b[0m\n\u001b[1;31mTypeError\u001b[0m                                 Traceback (most recent call last)",
        "\u001b[1;32m<ipython-input-90-c709d2f10682>\u001b[0m in \u001b[0;36mderiv2\u001b[1;34m(r_current, t)\u001b[0m\n\u001b[0;32m      7\u001b[0m     \u001b[0mdr\u001b[0m \u001b[1;33m=\u001b[0m \u001b[0mv2\u001b[0m\u001b[1;33m\u001b[0m\u001b[0m\n\u001b[0;32m      8\u001b[0m     \u001b[0mrho\u001b[0m \u001b[1;33m=\u001b[0m \u001b[1;36m10\u001b[0m\u001b[1;31m#R - r\u001b[0m\u001b[1;33m\u001b[0m\u001b[0m\n\u001b[1;32m----> 9\u001b[1;33m     \u001b[0mdv2\u001b[0m \u001b[1;33m=\u001b[0m \u001b[1;33m-\u001b[0m\u001b[1;33m(\u001b[0m\u001b[0mg\u001b[0m\u001b[1;33m(\u001b[0m\u001b[1;33m(\u001b[0m\u001b[0mM\u001b[0m\u001b[1;33m/\u001b[0m\u001b[0mr\u001b[0m\u001b[1;33m**\u001b[0m\u001b[1;36m3\u001b[0m\u001b[1;33m)\u001b[0m\u001b[1;33m*\u001b[0m\u001b[0mr\u001b[0m \u001b[1;33m-\u001b[0m \u001b[1;33m(\u001b[0m\u001b[0mS\u001b[0m\u001b[1;33m/\u001b[0m\u001b[0mrho\u001b[0m\u001b[1;33m**\u001b[0m\u001b[1;36m3\u001b[0m\u001b[1;33m)\u001b[0m\u001b[1;33m*\u001b[0m\u001b[0mrho\u001b[0m \u001b[1;33m+\u001b[0m \u001b[1;33m(\u001b[0m\u001b[0mS\u001b[0m\u001b[1;33m/\u001b[0m\u001b[0mR\u001b[0m\u001b[1;33m**\u001b[0m\u001b[1;36m3\u001b[0m\u001b[1;33m)\u001b[0m\u001b[1;33m*\u001b[0m\u001b[0mR\u001b[0m\u001b[1;33m)\u001b[0m\u001b[1;33m)\u001b[0m\u001b[1;33m\u001b[0m\u001b[0m\n\u001b[0m\u001b[0;32m     10\u001b[0m     \u001b[1;32mreturn\u001b[0m \u001b[0mnp\u001b[0m\u001b[1;33m.\u001b[0m\u001b[0marray\u001b[0m\u001b[1;33m(\u001b[0m\u001b[1;33m[\u001b[0m \u001b[0mdr\u001b[0m \u001b[1;33m,\u001b[0m \u001b[0mdv2\u001b[0m \u001b[1;33m]\u001b[0m\u001b[1;33m)\u001b[0m\u001b[1;33m\u001b[0m\u001b[0m\n",
        "\u001b[1;31mTypeError\u001b[0m: 'float' object is not callable"
       ]
      },
      {
       "ename": "TypeError",
       "evalue": "'float' object is not callable",
       "output_type": "pyerr",
       "traceback": [
        "\u001b[1;31m---------------------------------------------------------------------------\u001b[0m\n\u001b[1;31mTypeError\u001b[0m                                 Traceback (most recent call last)",
        "\u001b[1;32m<ipython-input-90-c709d2f10682>\u001b[0m in \u001b[0;36mderiv2\u001b[1;34m(r_current, t)\u001b[0m\n\u001b[0;32m      7\u001b[0m     \u001b[0mdr\u001b[0m \u001b[1;33m=\u001b[0m \u001b[0mv2\u001b[0m\u001b[1;33m\u001b[0m\u001b[0m\n\u001b[0;32m      8\u001b[0m     \u001b[0mrho\u001b[0m \u001b[1;33m=\u001b[0m \u001b[1;36m10\u001b[0m\u001b[1;31m#R - r\u001b[0m\u001b[1;33m\u001b[0m\u001b[0m\n\u001b[1;32m----> 9\u001b[1;33m     \u001b[0mdv2\u001b[0m \u001b[1;33m=\u001b[0m \u001b[1;33m-\u001b[0m\u001b[1;33m(\u001b[0m\u001b[0mg\u001b[0m\u001b[1;33m(\u001b[0m\u001b[1;33m(\u001b[0m\u001b[0mM\u001b[0m\u001b[1;33m/\u001b[0m\u001b[0mr\u001b[0m\u001b[1;33m**\u001b[0m\u001b[1;36m3\u001b[0m\u001b[1;33m)\u001b[0m\u001b[1;33m*\u001b[0m\u001b[0mr\u001b[0m \u001b[1;33m-\u001b[0m \u001b[1;33m(\u001b[0m\u001b[0mS\u001b[0m\u001b[1;33m/\u001b[0m\u001b[0mrho\u001b[0m\u001b[1;33m**\u001b[0m\u001b[1;36m3\u001b[0m\u001b[1;33m)\u001b[0m\u001b[1;33m*\u001b[0m\u001b[0mrho\u001b[0m \u001b[1;33m+\u001b[0m \u001b[1;33m(\u001b[0m\u001b[0mS\u001b[0m\u001b[1;33m/\u001b[0m\u001b[0mR\u001b[0m\u001b[1;33m**\u001b[0m\u001b[1;36m3\u001b[0m\u001b[1;33m)\u001b[0m\u001b[1;33m*\u001b[0m\u001b[0mR\u001b[0m\u001b[1;33m)\u001b[0m\u001b[1;33m)\u001b[0m\u001b[1;33m\u001b[0m\u001b[0m\n\u001b[0m\u001b[0;32m     10\u001b[0m     \u001b[1;32mreturn\u001b[0m \u001b[0mnp\u001b[0m\u001b[1;33m.\u001b[0m\u001b[0marray\u001b[0m\u001b[1;33m(\u001b[0m\u001b[1;33m[\u001b[0m \u001b[0mdr\u001b[0m \u001b[1;33m,\u001b[0m \u001b[0mdv2\u001b[0m \u001b[1;33m]\u001b[0m\u001b[1;33m)\u001b[0m\u001b[1;33m\u001b[0m\u001b[0m\n",
        "\u001b[1;31mTypeError\u001b[0m: 'float' object is not callable"
       ]
      },
      {
       "ename": "TypeError",
       "evalue": "'float' object is not callable",
       "output_type": "pyerr",
       "traceback": [
        "\u001b[1;31m---------------------------------------------------------------------------\u001b[0m\n\u001b[1;31mTypeError\u001b[0m                                 Traceback (most recent call last)",
        "\u001b[1;32m<ipython-input-90-c709d2f10682>\u001b[0m in \u001b[0;36mderiv2\u001b[1;34m(r_current, t)\u001b[0m\n\u001b[0;32m      7\u001b[0m     \u001b[0mdr\u001b[0m \u001b[1;33m=\u001b[0m \u001b[0mv2\u001b[0m\u001b[1;33m\u001b[0m\u001b[0m\n\u001b[0;32m      8\u001b[0m     \u001b[0mrho\u001b[0m \u001b[1;33m=\u001b[0m \u001b[1;36m10\u001b[0m\u001b[1;31m#R - r\u001b[0m\u001b[1;33m\u001b[0m\u001b[0m\n\u001b[1;32m----> 9\u001b[1;33m     \u001b[0mdv2\u001b[0m \u001b[1;33m=\u001b[0m \u001b[1;33m-\u001b[0m\u001b[1;33m(\u001b[0m\u001b[0mg\u001b[0m\u001b[1;33m(\u001b[0m\u001b[1;33m(\u001b[0m\u001b[0mM\u001b[0m\u001b[1;33m/\u001b[0m\u001b[0mr\u001b[0m\u001b[1;33m**\u001b[0m\u001b[1;36m3\u001b[0m\u001b[1;33m)\u001b[0m\u001b[1;33m*\u001b[0m\u001b[0mr\u001b[0m \u001b[1;33m-\u001b[0m \u001b[1;33m(\u001b[0m\u001b[0mS\u001b[0m\u001b[1;33m/\u001b[0m\u001b[0mrho\u001b[0m\u001b[1;33m**\u001b[0m\u001b[1;36m3\u001b[0m\u001b[1;33m)\u001b[0m\u001b[1;33m*\u001b[0m\u001b[0mrho\u001b[0m \u001b[1;33m+\u001b[0m \u001b[1;33m(\u001b[0m\u001b[0mS\u001b[0m\u001b[1;33m/\u001b[0m\u001b[0mR\u001b[0m\u001b[1;33m**\u001b[0m\u001b[1;36m3\u001b[0m\u001b[1;33m)\u001b[0m\u001b[1;33m*\u001b[0m\u001b[0mR\u001b[0m\u001b[1;33m)\u001b[0m\u001b[1;33m)\u001b[0m\u001b[1;33m\u001b[0m\u001b[0m\n\u001b[0m\u001b[0;32m     10\u001b[0m     \u001b[1;32mreturn\u001b[0m \u001b[0mnp\u001b[0m\u001b[1;33m.\u001b[0m\u001b[0marray\u001b[0m\u001b[1;33m(\u001b[0m\u001b[1;33m[\u001b[0m \u001b[0mdr\u001b[0m \u001b[1;33m,\u001b[0m \u001b[0mdv2\u001b[0m \u001b[1;33m]\u001b[0m\u001b[1;33m)\u001b[0m\u001b[1;33m\u001b[0m\u001b[0m\n",
        "\u001b[1;31mTypeError\u001b[0m: 'float' object is not callable"
       ]
      },
      {
       "ename": "TypeError",
       "evalue": "'float' object is not callable",
       "output_type": "pyerr",
       "traceback": [
        "\u001b[1;31m---------------------------------------------------------------------------\u001b[0m\n\u001b[1;31mTypeError\u001b[0m                                 Traceback (most recent call last)",
        "\u001b[1;32m<ipython-input-90-c709d2f10682>\u001b[0m in \u001b[0;36mderiv2\u001b[1;34m(r_current, t)\u001b[0m\n\u001b[0;32m      7\u001b[0m     \u001b[0mdr\u001b[0m \u001b[1;33m=\u001b[0m \u001b[0mv2\u001b[0m\u001b[1;33m\u001b[0m\u001b[0m\n\u001b[0;32m      8\u001b[0m     \u001b[0mrho\u001b[0m \u001b[1;33m=\u001b[0m \u001b[1;36m10\u001b[0m\u001b[1;31m#R - r\u001b[0m\u001b[1;33m\u001b[0m\u001b[0m\n\u001b[1;32m----> 9\u001b[1;33m     \u001b[0mdv2\u001b[0m \u001b[1;33m=\u001b[0m \u001b[1;33m-\u001b[0m\u001b[1;33m(\u001b[0m\u001b[0mg\u001b[0m\u001b[1;33m(\u001b[0m\u001b[1;33m(\u001b[0m\u001b[0mM\u001b[0m\u001b[1;33m/\u001b[0m\u001b[0mr\u001b[0m\u001b[1;33m**\u001b[0m\u001b[1;36m3\u001b[0m\u001b[1;33m)\u001b[0m\u001b[1;33m*\u001b[0m\u001b[0mr\u001b[0m \u001b[1;33m-\u001b[0m \u001b[1;33m(\u001b[0m\u001b[0mS\u001b[0m\u001b[1;33m/\u001b[0m\u001b[0mrho\u001b[0m\u001b[1;33m**\u001b[0m\u001b[1;36m3\u001b[0m\u001b[1;33m)\u001b[0m\u001b[1;33m*\u001b[0m\u001b[0mrho\u001b[0m \u001b[1;33m+\u001b[0m \u001b[1;33m(\u001b[0m\u001b[0mS\u001b[0m\u001b[1;33m/\u001b[0m\u001b[0mR\u001b[0m\u001b[1;33m**\u001b[0m\u001b[1;36m3\u001b[0m\u001b[1;33m)\u001b[0m\u001b[1;33m*\u001b[0m\u001b[0mR\u001b[0m\u001b[1;33m)\u001b[0m\u001b[1;33m)\u001b[0m\u001b[1;33m\u001b[0m\u001b[0m\n\u001b[0m\u001b[0;32m     10\u001b[0m     \u001b[1;32mreturn\u001b[0m \u001b[0mnp\u001b[0m\u001b[1;33m.\u001b[0m\u001b[0marray\u001b[0m\u001b[1;33m(\u001b[0m\u001b[1;33m[\u001b[0m \u001b[0mdr\u001b[0m \u001b[1;33m,\u001b[0m \u001b[0mdv2\u001b[0m \u001b[1;33m]\u001b[0m\u001b[1;33m)\u001b[0m\u001b[1;33m\u001b[0m\u001b[0m\n",
        "\u001b[1;31mTypeError\u001b[0m: 'float' object is not callable"
       ]
      },
      {
       "ename": "TypeError",
       "evalue": "'float' object is not callable",
       "output_type": "pyerr",
       "traceback": [
        "\u001b[1;31m---------------------------------------------------------------------------\u001b[0m\n\u001b[1;31mTypeError\u001b[0m                                 Traceback (most recent call last)",
        "\u001b[1;32m<ipython-input-90-c709d2f10682>\u001b[0m in \u001b[0;36mderiv2\u001b[1;34m(r_current, t)\u001b[0m\n\u001b[0;32m      7\u001b[0m     \u001b[0mdr\u001b[0m \u001b[1;33m=\u001b[0m \u001b[0mv2\u001b[0m\u001b[1;33m\u001b[0m\u001b[0m\n\u001b[0;32m      8\u001b[0m     \u001b[0mrho\u001b[0m \u001b[1;33m=\u001b[0m \u001b[1;36m10\u001b[0m\u001b[1;31m#R - r\u001b[0m\u001b[1;33m\u001b[0m\u001b[0m\n\u001b[1;32m----> 9\u001b[1;33m     \u001b[0mdv2\u001b[0m \u001b[1;33m=\u001b[0m \u001b[1;33m-\u001b[0m\u001b[1;33m(\u001b[0m\u001b[0mg\u001b[0m\u001b[1;33m(\u001b[0m\u001b[1;33m(\u001b[0m\u001b[0mM\u001b[0m\u001b[1;33m/\u001b[0m\u001b[0mr\u001b[0m\u001b[1;33m**\u001b[0m\u001b[1;36m3\u001b[0m\u001b[1;33m)\u001b[0m\u001b[1;33m*\u001b[0m\u001b[0mr\u001b[0m \u001b[1;33m-\u001b[0m \u001b[1;33m(\u001b[0m\u001b[0mS\u001b[0m\u001b[1;33m/\u001b[0m\u001b[0mrho\u001b[0m\u001b[1;33m**\u001b[0m\u001b[1;36m3\u001b[0m\u001b[1;33m)\u001b[0m\u001b[1;33m*\u001b[0m\u001b[0mrho\u001b[0m \u001b[1;33m+\u001b[0m \u001b[1;33m(\u001b[0m\u001b[0mS\u001b[0m\u001b[1;33m/\u001b[0m\u001b[0mR\u001b[0m\u001b[1;33m**\u001b[0m\u001b[1;36m3\u001b[0m\u001b[1;33m)\u001b[0m\u001b[1;33m*\u001b[0m\u001b[0mR\u001b[0m\u001b[1;33m)\u001b[0m\u001b[1;33m)\u001b[0m\u001b[1;33m\u001b[0m\u001b[0m\n\u001b[0m\u001b[0;32m     10\u001b[0m     \u001b[1;32mreturn\u001b[0m \u001b[0mnp\u001b[0m\u001b[1;33m.\u001b[0m\u001b[0marray\u001b[0m\u001b[1;33m(\u001b[0m\u001b[1;33m[\u001b[0m \u001b[0mdr\u001b[0m \u001b[1;33m,\u001b[0m \u001b[0mdv2\u001b[0m \u001b[1;33m]\u001b[0m\u001b[1;33m)\u001b[0m\u001b[1;33m\u001b[0m\u001b[0m\n",
        "\u001b[1;31mTypeError\u001b[0m: 'float' object is not callable"
       ]
      },
      {
       "ename": "TypeError",
       "evalue": "'float' object is not callable",
       "output_type": "pyerr",
       "traceback": [
        "\u001b[1;31m---------------------------------------------------------------------------\u001b[0m\n\u001b[1;31mTypeError\u001b[0m                                 Traceback (most recent call last)",
        "\u001b[1;32m<ipython-input-90-c709d2f10682>\u001b[0m in \u001b[0;36mderiv2\u001b[1;34m(r_current, t)\u001b[0m\n\u001b[0;32m      7\u001b[0m     \u001b[0mdr\u001b[0m \u001b[1;33m=\u001b[0m \u001b[0mv2\u001b[0m\u001b[1;33m\u001b[0m\u001b[0m\n\u001b[0;32m      8\u001b[0m     \u001b[0mrho\u001b[0m \u001b[1;33m=\u001b[0m \u001b[1;36m10\u001b[0m\u001b[1;31m#R - r\u001b[0m\u001b[1;33m\u001b[0m\u001b[0m\n\u001b[1;32m----> 9\u001b[1;33m     \u001b[0mdv2\u001b[0m \u001b[1;33m=\u001b[0m \u001b[1;33m-\u001b[0m\u001b[1;33m(\u001b[0m\u001b[0mg\u001b[0m\u001b[1;33m(\u001b[0m\u001b[1;33m(\u001b[0m\u001b[0mM\u001b[0m\u001b[1;33m/\u001b[0m\u001b[0mr\u001b[0m\u001b[1;33m**\u001b[0m\u001b[1;36m3\u001b[0m\u001b[1;33m)\u001b[0m\u001b[1;33m*\u001b[0m\u001b[0mr\u001b[0m \u001b[1;33m-\u001b[0m \u001b[1;33m(\u001b[0m\u001b[0mS\u001b[0m\u001b[1;33m/\u001b[0m\u001b[0mrho\u001b[0m\u001b[1;33m**\u001b[0m\u001b[1;36m3\u001b[0m\u001b[1;33m)\u001b[0m\u001b[1;33m*\u001b[0m\u001b[0mrho\u001b[0m \u001b[1;33m+\u001b[0m \u001b[1;33m(\u001b[0m\u001b[0mS\u001b[0m\u001b[1;33m/\u001b[0m\u001b[0mR\u001b[0m\u001b[1;33m**\u001b[0m\u001b[1;36m3\u001b[0m\u001b[1;33m)\u001b[0m\u001b[1;33m*\u001b[0m\u001b[0mR\u001b[0m\u001b[1;33m)\u001b[0m\u001b[1;33m)\u001b[0m\u001b[1;33m\u001b[0m\u001b[0m\n\u001b[0m\u001b[0;32m     10\u001b[0m     \u001b[1;32mreturn\u001b[0m \u001b[0mnp\u001b[0m\u001b[1;33m.\u001b[0m\u001b[0marray\u001b[0m\u001b[1;33m(\u001b[0m\u001b[1;33m[\u001b[0m \u001b[0mdr\u001b[0m \u001b[1;33m,\u001b[0m \u001b[0mdv2\u001b[0m \u001b[1;33m]\u001b[0m\u001b[1;33m)\u001b[0m\u001b[1;33m\u001b[0m\u001b[0m\n",
        "\u001b[1;31mTypeError\u001b[0m: 'float' object is not callable"
       ]
      },
      {
       "ename": "TypeError",
       "evalue": "'float' object is not callable",
       "output_type": "pyerr",
       "traceback": [
        "\u001b[1;31m---------------------------------------------------------------------------\u001b[0m\n\u001b[1;31mTypeError\u001b[0m                                 Traceback (most recent call last)",
        "\u001b[1;32m<ipython-input-90-c709d2f10682>\u001b[0m in \u001b[0;36mderiv2\u001b[1;34m(r_current, t)\u001b[0m\n\u001b[0;32m      7\u001b[0m     \u001b[0mdr\u001b[0m \u001b[1;33m=\u001b[0m \u001b[0mv2\u001b[0m\u001b[1;33m\u001b[0m\u001b[0m\n\u001b[0;32m      8\u001b[0m     \u001b[0mrho\u001b[0m \u001b[1;33m=\u001b[0m \u001b[1;36m10\u001b[0m\u001b[1;31m#R - r\u001b[0m\u001b[1;33m\u001b[0m\u001b[0m\n\u001b[1;32m----> 9\u001b[1;33m     \u001b[0mdv2\u001b[0m \u001b[1;33m=\u001b[0m \u001b[1;33m-\u001b[0m\u001b[1;33m(\u001b[0m\u001b[0mg\u001b[0m\u001b[1;33m(\u001b[0m\u001b[1;33m(\u001b[0m\u001b[0mM\u001b[0m\u001b[1;33m/\u001b[0m\u001b[0mr\u001b[0m\u001b[1;33m**\u001b[0m\u001b[1;36m3\u001b[0m\u001b[1;33m)\u001b[0m\u001b[1;33m*\u001b[0m\u001b[0mr\u001b[0m \u001b[1;33m-\u001b[0m \u001b[1;33m(\u001b[0m\u001b[0mS\u001b[0m\u001b[1;33m/\u001b[0m\u001b[0mrho\u001b[0m\u001b[1;33m**\u001b[0m\u001b[1;36m3\u001b[0m\u001b[1;33m)\u001b[0m\u001b[1;33m*\u001b[0m\u001b[0mrho\u001b[0m \u001b[1;33m+\u001b[0m \u001b[1;33m(\u001b[0m\u001b[0mS\u001b[0m\u001b[1;33m/\u001b[0m\u001b[0mR\u001b[0m\u001b[1;33m**\u001b[0m\u001b[1;36m3\u001b[0m\u001b[1;33m)\u001b[0m\u001b[1;33m*\u001b[0m\u001b[0mR\u001b[0m\u001b[1;33m)\u001b[0m\u001b[1;33m)\u001b[0m\u001b[1;33m\u001b[0m\u001b[0m\n\u001b[0m\u001b[0;32m     10\u001b[0m     \u001b[1;32mreturn\u001b[0m \u001b[0mnp\u001b[0m\u001b[1;33m.\u001b[0m\u001b[0marray\u001b[0m\u001b[1;33m(\u001b[0m\u001b[1;33m[\u001b[0m \u001b[0mdr\u001b[0m \u001b[1;33m,\u001b[0m \u001b[0mdv2\u001b[0m \u001b[1;33m]\u001b[0m\u001b[1;33m)\u001b[0m\u001b[1;33m\u001b[0m\u001b[0m\n",
        "\u001b[1;31mTypeError\u001b[0m: 'float' object is not callable"
       ]
      },
      {
       "ename": "TypeError",
       "evalue": "'float' object is not callable",
       "output_type": "pyerr",
       "traceback": [
        "\u001b[1;31m---------------------------------------------------------------------------\u001b[0m\n\u001b[1;31mTypeError\u001b[0m                                 Traceback (most recent call last)",
        "\u001b[1;32m<ipython-input-90-c709d2f10682>\u001b[0m in \u001b[0;36mderiv2\u001b[1;34m(r_current, t)\u001b[0m\n\u001b[0;32m      7\u001b[0m     \u001b[0mdr\u001b[0m \u001b[1;33m=\u001b[0m \u001b[0mv2\u001b[0m\u001b[1;33m\u001b[0m\u001b[0m\n\u001b[0;32m      8\u001b[0m     \u001b[0mrho\u001b[0m \u001b[1;33m=\u001b[0m \u001b[1;36m10\u001b[0m\u001b[1;31m#R - r\u001b[0m\u001b[1;33m\u001b[0m\u001b[0m\n\u001b[1;32m----> 9\u001b[1;33m     \u001b[0mdv2\u001b[0m \u001b[1;33m=\u001b[0m \u001b[1;33m-\u001b[0m\u001b[1;33m(\u001b[0m\u001b[0mg\u001b[0m\u001b[1;33m(\u001b[0m\u001b[1;33m(\u001b[0m\u001b[0mM\u001b[0m\u001b[1;33m/\u001b[0m\u001b[0mr\u001b[0m\u001b[1;33m**\u001b[0m\u001b[1;36m3\u001b[0m\u001b[1;33m)\u001b[0m\u001b[1;33m*\u001b[0m\u001b[0mr\u001b[0m \u001b[1;33m-\u001b[0m \u001b[1;33m(\u001b[0m\u001b[0mS\u001b[0m\u001b[1;33m/\u001b[0m\u001b[0mrho\u001b[0m\u001b[1;33m**\u001b[0m\u001b[1;36m3\u001b[0m\u001b[1;33m)\u001b[0m\u001b[1;33m*\u001b[0m\u001b[0mrho\u001b[0m \u001b[1;33m+\u001b[0m \u001b[1;33m(\u001b[0m\u001b[0mS\u001b[0m\u001b[1;33m/\u001b[0m\u001b[0mR\u001b[0m\u001b[1;33m**\u001b[0m\u001b[1;36m3\u001b[0m\u001b[1;33m)\u001b[0m\u001b[1;33m*\u001b[0m\u001b[0mR\u001b[0m\u001b[1;33m)\u001b[0m\u001b[1;33m)\u001b[0m\u001b[1;33m\u001b[0m\u001b[0m\n\u001b[0m\u001b[0;32m     10\u001b[0m     \u001b[1;32mreturn\u001b[0m \u001b[0mnp\u001b[0m\u001b[1;33m.\u001b[0m\u001b[0marray\u001b[0m\u001b[1;33m(\u001b[0m\u001b[1;33m[\u001b[0m \u001b[0mdr\u001b[0m \u001b[1;33m,\u001b[0m \u001b[0mdv2\u001b[0m \u001b[1;33m]\u001b[0m\u001b[1;33m)\u001b[0m\u001b[1;33m\u001b[0m\u001b[0m\n",
        "\u001b[1;31mTypeError\u001b[0m: 'float' object is not callable"
       ]
      },
      {
       "ename": "TypeError",
       "evalue": "'float' object is not callable",
       "output_type": "pyerr",
       "traceback": [
        "\u001b[1;31m---------------------------------------------------------------------------\u001b[0m\n\u001b[1;31mTypeError\u001b[0m                                 Traceback (most recent call last)",
        "\u001b[1;32m<ipython-input-90-c709d2f10682>\u001b[0m in \u001b[0;36mderiv2\u001b[1;34m(r_current, t)\u001b[0m\n\u001b[0;32m      7\u001b[0m     \u001b[0mdr\u001b[0m \u001b[1;33m=\u001b[0m \u001b[0mv2\u001b[0m\u001b[1;33m\u001b[0m\u001b[0m\n\u001b[0;32m      8\u001b[0m     \u001b[0mrho\u001b[0m \u001b[1;33m=\u001b[0m \u001b[1;36m10\u001b[0m\u001b[1;31m#R - r\u001b[0m\u001b[1;33m\u001b[0m\u001b[0m\n\u001b[1;32m----> 9\u001b[1;33m     \u001b[0mdv2\u001b[0m \u001b[1;33m=\u001b[0m \u001b[1;33m-\u001b[0m\u001b[1;33m(\u001b[0m\u001b[0mg\u001b[0m\u001b[1;33m(\u001b[0m\u001b[1;33m(\u001b[0m\u001b[0mM\u001b[0m\u001b[1;33m/\u001b[0m\u001b[0mr\u001b[0m\u001b[1;33m**\u001b[0m\u001b[1;36m3\u001b[0m\u001b[1;33m)\u001b[0m\u001b[1;33m*\u001b[0m\u001b[0mr\u001b[0m \u001b[1;33m-\u001b[0m \u001b[1;33m(\u001b[0m\u001b[0mS\u001b[0m\u001b[1;33m/\u001b[0m\u001b[0mrho\u001b[0m\u001b[1;33m**\u001b[0m\u001b[1;36m3\u001b[0m\u001b[1;33m)\u001b[0m\u001b[1;33m*\u001b[0m\u001b[0mrho\u001b[0m \u001b[1;33m+\u001b[0m \u001b[1;33m(\u001b[0m\u001b[0mS\u001b[0m\u001b[1;33m/\u001b[0m\u001b[0mR\u001b[0m\u001b[1;33m**\u001b[0m\u001b[1;36m3\u001b[0m\u001b[1;33m)\u001b[0m\u001b[1;33m*\u001b[0m\u001b[0mR\u001b[0m\u001b[1;33m)\u001b[0m\u001b[1;33m)\u001b[0m\u001b[1;33m\u001b[0m\u001b[0m\n\u001b[0m\u001b[0;32m     10\u001b[0m     \u001b[1;32mreturn\u001b[0m \u001b[0mnp\u001b[0m\u001b[1;33m.\u001b[0m\u001b[0marray\u001b[0m\u001b[1;33m(\u001b[0m\u001b[1;33m[\u001b[0m \u001b[0mdr\u001b[0m \u001b[1;33m,\u001b[0m \u001b[0mdv2\u001b[0m \u001b[1;33m]\u001b[0m\u001b[1;33m)\u001b[0m\u001b[1;33m\u001b[0m\u001b[0m\n",
        "\u001b[1;31mTypeError\u001b[0m: 'float' object is not callable"
       ]
      },
      {
       "ename": "TypeError",
       "evalue": "'float' object is not callable",
       "output_type": "pyerr",
       "traceback": [
        "\u001b[1;31m---------------------------------------------------------------------------\u001b[0m\n\u001b[1;31mTypeError\u001b[0m                                 Traceback (most recent call last)",
        "\u001b[1;32m<ipython-input-90-c709d2f10682>\u001b[0m in \u001b[0;36mderiv2\u001b[1;34m(r_current, t)\u001b[0m\n\u001b[0;32m      7\u001b[0m     \u001b[0mdr\u001b[0m \u001b[1;33m=\u001b[0m \u001b[0mv2\u001b[0m\u001b[1;33m\u001b[0m\u001b[0m\n\u001b[0;32m      8\u001b[0m     \u001b[0mrho\u001b[0m \u001b[1;33m=\u001b[0m \u001b[1;36m10\u001b[0m\u001b[1;31m#R - r\u001b[0m\u001b[1;33m\u001b[0m\u001b[0m\n\u001b[1;32m----> 9\u001b[1;33m     \u001b[0mdv2\u001b[0m \u001b[1;33m=\u001b[0m \u001b[1;33m-\u001b[0m\u001b[1;33m(\u001b[0m\u001b[0mg\u001b[0m\u001b[1;33m(\u001b[0m\u001b[1;33m(\u001b[0m\u001b[0mM\u001b[0m\u001b[1;33m/\u001b[0m\u001b[0mr\u001b[0m\u001b[1;33m**\u001b[0m\u001b[1;36m3\u001b[0m\u001b[1;33m)\u001b[0m\u001b[1;33m*\u001b[0m\u001b[0mr\u001b[0m \u001b[1;33m-\u001b[0m \u001b[1;33m(\u001b[0m\u001b[0mS\u001b[0m\u001b[1;33m/\u001b[0m\u001b[0mrho\u001b[0m\u001b[1;33m**\u001b[0m\u001b[1;36m3\u001b[0m\u001b[1;33m)\u001b[0m\u001b[1;33m*\u001b[0m\u001b[0mrho\u001b[0m \u001b[1;33m+\u001b[0m \u001b[1;33m(\u001b[0m\u001b[0mS\u001b[0m\u001b[1;33m/\u001b[0m\u001b[0mR\u001b[0m\u001b[1;33m**\u001b[0m\u001b[1;36m3\u001b[0m\u001b[1;33m)\u001b[0m\u001b[1;33m*\u001b[0m\u001b[0mR\u001b[0m\u001b[1;33m)\u001b[0m\u001b[1;33m)\u001b[0m\u001b[1;33m\u001b[0m\u001b[0m\n\u001b[0m\u001b[0;32m     10\u001b[0m     \u001b[1;32mreturn\u001b[0m \u001b[0mnp\u001b[0m\u001b[1;33m.\u001b[0m\u001b[0marray\u001b[0m\u001b[1;33m(\u001b[0m\u001b[1;33m[\u001b[0m \u001b[0mdr\u001b[0m \u001b[1;33m,\u001b[0m \u001b[0mdv2\u001b[0m \u001b[1;33m]\u001b[0m\u001b[1;33m)\u001b[0m\u001b[1;33m\u001b[0m\u001b[0m\n",
        "\u001b[1;31mTypeError\u001b[0m: 'float' object is not callable"
       ]
      },
      {
       "ename": "TypeError",
       "evalue": "'float' object is not callable",
       "output_type": "pyerr",
       "traceback": [
        "\u001b[1;31m---------------------------------------------------------------------------\u001b[0m\n\u001b[1;31mTypeError\u001b[0m                                 Traceback (most recent call last)",
        "\u001b[1;32m<ipython-input-90-c709d2f10682>\u001b[0m in \u001b[0;36mderiv2\u001b[1;34m(r_current, t)\u001b[0m\n\u001b[0;32m      7\u001b[0m     \u001b[0mdr\u001b[0m \u001b[1;33m=\u001b[0m \u001b[0mv2\u001b[0m\u001b[1;33m\u001b[0m\u001b[0m\n\u001b[0;32m      8\u001b[0m     \u001b[0mrho\u001b[0m \u001b[1;33m=\u001b[0m \u001b[1;36m10\u001b[0m\u001b[1;31m#R - r\u001b[0m\u001b[1;33m\u001b[0m\u001b[0m\n\u001b[1;32m----> 9\u001b[1;33m     \u001b[0mdv2\u001b[0m \u001b[1;33m=\u001b[0m \u001b[1;33m-\u001b[0m\u001b[1;33m(\u001b[0m\u001b[0mg\u001b[0m\u001b[1;33m(\u001b[0m\u001b[1;33m(\u001b[0m\u001b[0mM\u001b[0m\u001b[1;33m/\u001b[0m\u001b[0mr\u001b[0m\u001b[1;33m**\u001b[0m\u001b[1;36m3\u001b[0m\u001b[1;33m)\u001b[0m\u001b[1;33m*\u001b[0m\u001b[0mr\u001b[0m \u001b[1;33m-\u001b[0m \u001b[1;33m(\u001b[0m\u001b[0mS\u001b[0m\u001b[1;33m/\u001b[0m\u001b[0mrho\u001b[0m\u001b[1;33m**\u001b[0m\u001b[1;36m3\u001b[0m\u001b[1;33m)\u001b[0m\u001b[1;33m*\u001b[0m\u001b[0mrho\u001b[0m \u001b[1;33m+\u001b[0m \u001b[1;33m(\u001b[0m\u001b[0mS\u001b[0m\u001b[1;33m/\u001b[0m\u001b[0mR\u001b[0m\u001b[1;33m**\u001b[0m\u001b[1;36m3\u001b[0m\u001b[1;33m)\u001b[0m\u001b[1;33m*\u001b[0m\u001b[0mR\u001b[0m\u001b[1;33m)\u001b[0m\u001b[1;33m)\u001b[0m\u001b[1;33m\u001b[0m\u001b[0m\n\u001b[0m\u001b[0;32m     10\u001b[0m     \u001b[1;32mreturn\u001b[0m \u001b[0mnp\u001b[0m\u001b[1;33m.\u001b[0m\u001b[0marray\u001b[0m\u001b[1;33m(\u001b[0m\u001b[1;33m[\u001b[0m \u001b[0mdr\u001b[0m \u001b[1;33m,\u001b[0m \u001b[0mdv2\u001b[0m \u001b[1;33m]\u001b[0m\u001b[1;33m)\u001b[0m\u001b[1;33m\u001b[0m\u001b[0m\n",
        "\u001b[1;31mTypeError\u001b[0m: 'float' object is not callable"
       ]
      },
      {
       "ename": "TypeError",
       "evalue": "'float' object is not callable",
       "output_type": "pyerr",
       "traceback": [
        "\u001b[1;31m---------------------------------------------------------------------------\u001b[0m\n\u001b[1;31mTypeError\u001b[0m                                 Traceback (most recent call last)",
        "\u001b[1;32m<ipython-input-90-c709d2f10682>\u001b[0m in \u001b[0;36mderiv2\u001b[1;34m(r_current, t)\u001b[0m\n\u001b[0;32m      7\u001b[0m     \u001b[0mdr\u001b[0m \u001b[1;33m=\u001b[0m \u001b[0mv2\u001b[0m\u001b[1;33m\u001b[0m\u001b[0m\n\u001b[0;32m      8\u001b[0m     \u001b[0mrho\u001b[0m \u001b[1;33m=\u001b[0m \u001b[1;36m10\u001b[0m\u001b[1;31m#R - r\u001b[0m\u001b[1;33m\u001b[0m\u001b[0m\n\u001b[1;32m----> 9\u001b[1;33m     \u001b[0mdv2\u001b[0m \u001b[1;33m=\u001b[0m \u001b[1;33m-\u001b[0m\u001b[1;33m(\u001b[0m\u001b[0mg\u001b[0m\u001b[1;33m(\u001b[0m\u001b[1;33m(\u001b[0m\u001b[0mM\u001b[0m\u001b[1;33m/\u001b[0m\u001b[0mr\u001b[0m\u001b[1;33m**\u001b[0m\u001b[1;36m3\u001b[0m\u001b[1;33m)\u001b[0m\u001b[1;33m*\u001b[0m\u001b[0mr\u001b[0m \u001b[1;33m-\u001b[0m \u001b[1;33m(\u001b[0m\u001b[0mS\u001b[0m\u001b[1;33m/\u001b[0m\u001b[0mrho\u001b[0m\u001b[1;33m**\u001b[0m\u001b[1;36m3\u001b[0m\u001b[1;33m)\u001b[0m\u001b[1;33m*\u001b[0m\u001b[0mrho\u001b[0m \u001b[1;33m+\u001b[0m \u001b[1;33m(\u001b[0m\u001b[0mS\u001b[0m\u001b[1;33m/\u001b[0m\u001b[0mR\u001b[0m\u001b[1;33m**\u001b[0m\u001b[1;36m3\u001b[0m\u001b[1;33m)\u001b[0m\u001b[1;33m*\u001b[0m\u001b[0mR\u001b[0m\u001b[1;33m)\u001b[0m\u001b[1;33m)\u001b[0m\u001b[1;33m\u001b[0m\u001b[0m\n\u001b[0m\u001b[0;32m     10\u001b[0m     \u001b[1;32mreturn\u001b[0m \u001b[0mnp\u001b[0m\u001b[1;33m.\u001b[0m\u001b[0marray\u001b[0m\u001b[1;33m(\u001b[0m\u001b[1;33m[\u001b[0m \u001b[0mdr\u001b[0m \u001b[1;33m,\u001b[0m \u001b[0mdv2\u001b[0m \u001b[1;33m]\u001b[0m\u001b[1;33m)\u001b[0m\u001b[1;33m\u001b[0m\u001b[0m\n",
        "\u001b[1;31mTypeError\u001b[0m: 'float' object is not callable"
       ]
      }
     ],
     "prompt_number": 91
    },
    {
     "cell_type": "code",
     "collapsed": false,
     "input": [
      "spin = 1\n",
      "\n",
      "def plot1(t=0):\n",
      "    #Galaxy S\n",
      "    Mx = 0\n",
      "    My = 0\n",
      "    \n",
      "    #Galaxy M\n",
      "    Sx0 = 5\n",
      "    Sy0 = 30\n",
      "    Sv0 = -10\n",
      "    Sa = 5\n",
      "    Sx = Sx0 - Sv0*t - .5*Sa*(t**2)\n",
      "    Sy = Sy0 + Sv0*t - .5*Sa*(t**2)\n",
      "    \n",
      "    T = 5.442\n",
      "    w = (2*np.pi)/T\n",
      "    theta = w*t\n",
      "    radius20 = 15*.2\n",
      "    #1st circle of stars\n",
      "    radius20 = 15*.2\n",
      "    list_radians = []\n",
      "    for i in linspace(0,360,13):\n",
      "        float_div = 180.0/(i+1)\n",
      "        list_radians.append((pi/float_div) + spin*theta)\n",
      "\n",
      "    list_x2_axis = []\n",
      "    list_y2_axis = []\n",
      "    for a in list_radians:\n",
      "        list_x2_axis.append(cos(a)*radius20)\n",
      "        list_y2_axis.append(sin(a)*radius20)\n",
      "\n",
      "    #2st circle of stars\n",
      "    radius30 = 15*.3\n",
      "    list2_radians = []\n",
      "    for i in linspace(0,360,19):\n",
      "        float_div = 180.0/(i+1)\n",
      "        list2_radians.append((pi/float_div) + spin*theta)\n",
      "\n",
      "    list2_x2_axis = []\n",
      "    list2_y2_axis = []\n",
      "    for a in list2_radians:\n",
      "        list2_x2_axis.append(cos(a)*radius30)\n",
      "        list2_y2_axis.append(sin(a)*radius30)\n",
      "\n",
      "    #3st circle of stars\n",
      "    radius40 = 15*.4\n",
      "    list3_radians = []\n",
      "    for i in linspace(0,360,25):\n",
      "        float_div = 180.0/(i+1)\n",
      "        list3_radians.append((pi/float_div) + spin*theta)\n",
      "\n",
      "    list3_x2_axis = []\n",
      "    list3_y2_axis = []\n",
      "    for a in list3_radians:\n",
      "        list3_x2_axis.append(cos(a)*radius40)\n",
      "        list3_y2_axis.append(sin(a)*radius40)\n",
      "\n",
      "    #4st circle of stars\n",
      "    radius50 = 15*.5\n",
      "    list4_radians = []\n",
      "    for i in linspace(0,360,31):\n",
      "        float_div = 180.0/(i+1)\n",
      "        list4_radians.append((pi/float_div) + spin*theta)\n",
      "\n",
      "    list4_x2_axis = []\n",
      "    list4_y2_axis = []\n",
      "    for a in list4_radians:\n",
      "        list4_x2_axis.append(cos(a)*radius50)\n",
      "        list4_y2_axis.append(sin(a)*radius50)\n",
      "\n",
      "    #5st circle of stars\n",
      "    radius60 = 15*.6\n",
      "    list5_radians = []\n",
      "    for i in linspace(0,360,37):\n",
      "        float_div = 180.0/(i+1)\n",
      "        list5_radians.append((pi/float_div) + spin*theta)\n",
      "\n",
      "    list5_x2_axis = []\n",
      "    list5_y2_axis = []\n",
      "    for a in list5_radians:\n",
      "        list5_x2_axis.append(cos(a)*radius60)\n",
      "        list5_y2_axis.append(sin(a)*radius60)\n",
      "\n",
      "    plt.plot(list_x2_axis, list_y2_axis, color='black', marker='o',markerfacecolor='black', markersize=4)\n",
      "    plt.plot(list2_x2_axis,list2_y2_axis,color='black', marker='o',markerfacecolor='black', markersize=4)\n",
      "    plt.plot(list3_x2_axis,list3_y2_axis,color='black', marker='o',markerfacecolor='black', markersize=4)\n",
      "    plt.plot(list4_x2_axis,list4_y2_axis,color='black', marker='o',markerfacecolor='black', markersize=4)\n",
      "    plt.plot(list5_x2_axis,list5_y2_axis,color='black', marker='o',markerfacecolor='black', markersize=4)\n",
      "    plt.plot(Mx,My,marker='o',markerfacecolor='black', markersize=12)\n",
      "    plt.plot()\n",
      "    plt.plot()\n",
      "    plt.axis('scaled')\n",
      "    plt.axis(xmin = -25, xmax = 25, ymin = -25, ymax = 25)\n",
      "    plt.plot(Sx,Sy,marker='o',markerfacecolor='black',markersize=12)\n",
      "        \n",
      "    plt.show()\n",
      "v = interact(plot1,t=(0.4,3.2))"
     ],
     "language": "python",
     "metadata": {},
     "outputs": [
      {
       "metadata": {},
       "output_type": "display_data",
       "png": "[encoded data removed]",
       "text": [
        "<matplotlib.figure.Figure at 0xfcff8d0>"
       ]
      }
     ],
     "prompt_number": 15
    },
    {
     "cell_type": "code",
     "collapsed": false,
     "input": [
      "spin = 1\n",
      "\n",
      "def plot1(t=0):\n",
      "    #Galaxy M\n",
      "    Mx = 0\n",
      "    My = 0\n",
      "    \n",
      "    #Galaxy S\n",
      "    Sx0 = 5\n",
      "    Sy0 = 30\n",
      "    Sv0 = -10\n",
      "    Sa = 5\n",
      "    Sx = Sx0 - Sv0*t - .5*Sa*(t**2)\n",
      "    Sy = Sy0 + Sv0*t - .5*Sa*(t**2)\n",
      "    \n",
      "    #Center of Mass system\n",
      "    Cmx = ((Sx - Mx)/2)\n",
      "    Cmy = ((Sy - Mx)/2)\n",
      "    \n",
      "    shifted_Mx = Mx - Cmx\n",
      "    shifted_My = My - Cmy\n",
      "    \n",
      "    shifted_Sx = Sx - Cmx\n",
      "    shifted_Sy = Sy - Cmy\n",
      "    \n",
      "    T = 5.442\n",
      "    w = (2*np.pi)/T\n",
      "    theta = w*t\n",
      "    radius20 = 15*.2\n",
      "    \n",
      "    #1st circle of stars\n",
      "    radius20 = 15*.2\n",
      "    list_radians = []\n",
      "    for i in linspace(0,360,13):\n",
      "        float_div = 180.0/(i+1)\n",
      "        list_radians.append((pi/float_div) + spin*theta)\n",
      "\n",
      "    list_x2_axis = []\n",
      "    list_y2_axis = []\n",
      "    for a in list_radians:\n",
      "        list_x2_axis.append((cos(a)*radius20) - Cmx)\n",
      "        list_y2_axis.append((sin(a)*radius20) - Cmy)\n",
      "\n",
      "    #2nd circle of stars\n",
      "    radius30 = 15*.3\n",
      "    list2_radians = []\n",
      "    for i in linspace(0,360,19):\n",
      "        float_div = 180.0/(i+1)\n",
      "        list2_radians.append((pi/float_div) + spin*theta)\n",
      "\n",
      "    list2_x2_axis = []\n",
      "    list2_y2_axis = []\n",
      "    for a in list2_radians:\n",
      "        list2_x2_axis.append((cos(a)*radius30) - Cmx)\n",
      "        list2_y2_axis.append((sin(a)*radius30) - Cmy)\n",
      "\n",
      "    #3rd circle of stars\n",
      "    radius40 = 15*.4\n",
      "    list3_radians = []\n",
      "    for i in linspace(0,360,25):\n",
      "        float_div = 180.0/(i+1)\n",
      "        list3_radians.append((pi/float_div) + spin*theta)\n",
      "\n",
      "    list3_x2_axis = []\n",
      "    list3_y2_axis = []\n",
      "    for a in list3_radians:\n",
      "        list3_x2_axis.append((cos(a)*radius40) - Cmx)\n",
      "        list3_y2_axis.append((sin(a)*radius40) - Cmy)\n",
      "\n",
      "    #4th circle of stars\n",
      "    radius50 = 15*.5\n",
      "    list4_radians = []\n",
      "    for i in linspace(0,360,31):\n",
      "        float_div = 180.0/(i+1)\n",
      "        list4_radians.append((pi/float_div) + spin*theta)\n",
      "\n",
      "    list4_x2_axis = []\n",
      "    list4_y2_axis = []\n",
      "    for a in list4_radians:\n",
      "        list4_x2_axis.append((cos(a)*radius50) - Cmx)\n",
      "        list4_y2_axis.append((sin(a)*radius50) - Cmy)\n",
      "\n",
      "    #5th circle of stars\n",
      "    radius60 = 15*.6\n",
      "    list5_radians = []\n",
      "    for i in linspace(0,360,37):\n",
      "        float_div = 180.0/(i+1)\n",
      "        list5_radians.append((pi/float_div) + spin*theta)\n",
      "\n",
      "    list5_x2_axis = []\n",
      "    list5_y2_axis = []\n",
      "    for a in list5_radians:\n",
      "        list5_x2_axis.append((cos(a)*radius60) - Cmx)\n",
      "        list5_y2_axis.append((sin(a)*radius60) - Cmy)\n",
      "    \n",
      "    plt.plot(shifted_Mx,shifted_My,marker='o',markerfacecolor='black', markersize=12)\n",
      "    plt.plot(shifted_Sx,shifted_Sy,marker='o',markerfacecolor='black',markersize=12)\n",
      "    plt.plot(list_x2_axis, list_y2_axis, color='black', marker='o',markerfacecolor='black', markersize=4)\n",
      "    plt.plot(list2_x2_axis,list2_y2_axis,color='black', marker='o',markerfacecolor='black', markersize=4)\n",
      "    plt.plot(list3_x2_axis,list3_y2_axis,color='black', marker='o',markerfacecolor='black', markersize=4)\n",
      "    plt.plot(list4_x2_axis,list4_y2_axis,color='black', marker='o',markerfacecolor='black', markersize=4)\n",
      "    plt.plot(list5_x2_axis,list5_y2_axis,color='black', marker='o',markerfacecolor='black', markersize=4)\n",
      "    plt.axis('scaled')\n",
      "    plt.axis(xmin = -25, xmax = 25, ymin = -25, ymax = 25)\n",
      "    plt.show()\n",
      "v = interact(plot1,t=(0.0,3.3))"
     ],
     "language": "python",
     "metadata": {},
     "outputs": [
      {
       "metadata": {},
       "output_type": "display_data",
       "png": "[encoded data removed]",
       "text": [
        "<matplotlib.figure.Figure at 0xfceb5c0>"
       ]
      }
     ],
     "prompt_number": 14
    },
    {
     "cell_type": "code",
     "collapsed": false,
     "input": [],
     "language": "python",
     "metadata": {},
     "outputs": []
    }
   ],
   "metadata": {}
  }
 ]
}