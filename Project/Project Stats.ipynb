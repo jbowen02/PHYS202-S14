{
 "metadata": {
  "name": "",
  "signature": "sha256:178c11c03409d9f6429f76b12d82a45d90809fa4888a86dca8cd484eca809b07"
 },
 "nbformat": 3,
 "nbformat_minor": 0,
 "worksheets": [
  {
   "cells": [
    {
     "cell_type": "heading",
     "level": 1,
     "metadata": {},
     "source": [
      "Some Notes"
     ]
    },
    {
     "cell_type": "markdown",
     "metadata": {},
     "source": [
      "4 Examples:\n",
      "    \n",
      "    General stats\n",
      "        \n",
      "        120 test particles in 5 rings\n",
      "            \n",
      "            Rings have 12, 18, 24, 30, and 36 particles\n",
      "            \n",
      "            Rings are at 20, 30, 40, 50, and 60% of Rmin (with the exception of example 4)\n",
      "        \n",
      "        1 unit of t = 10^8 years\n",
      "        \n",
      "        Rmin = 25 kpc\n",
      "        \n",
      "        Heavier mass in each example is 10^11 solar masses\n",
      "        \n",
      "        First 3 examples have the outer most ring of stars at 15 kpc with period of 5.442 time units\n",
      "\n",
      "Retrograde Passage\n",
      "    \n",
      "    M = S\n",
      "    \n",
      "    Rings of stars (CC) and the direction of galaxy S (Clockwise) are opposite\n",
      "    \n",
      "    t goes from -1 to 8\n",
      "    \n",
      "    -1 through 2 are in reference frame of center of the two masses\n",
      "    \n",
      "    3 through 8 are in reference frame of galaxy M\n",
      "    \n",
      "    at t = 5, additional test particles 70% of Rmin out are shown\n",
      "\n",
      "Direct Passage\n",
      "    \n",
      "    M = S\n",
      "    \n",
      "    Rings of stars and direction of galaxy S are the same (CC)\n",
      "    \n",
      "    All times are in the reference frame of center of the two masses\n",
      "    \n",
      "Passage of a Small Companion\n",
      "    \n",
      "    M = S/4\n",
      "    \n",
      "    Same direction of rotation (CC)\n",
      "    \n",
      "    t goes from -0.5 to 5 in steps of .5\n",
      "    \n",
      "    Additional test particles at 70% of Rmin are throughout this example\n",
      "    \n",
      "Passage of a Heavy Companion\n",
      "    \n",
      "    M/4 = S\n",
      "    \n",
      "    t goes from -1 to 1 in steps of .5, then from 2 to 5 in steps of 1\n",
      "    \n",
      "    Rings are at 12, 18, 24, 30, and 36% of Rmin"
     ]
    },
    {
     "cell_type": "heading",
     "level": 1,
     "metadata": {},
     "source": [
      "The Equation"
     ]
    },
    {
     "cell_type": "markdown",
     "metadata": {},
     "source": [
      "Don't know what the special r means..."
     ]
    },
    {
     "cell_type": "code",
     "collapsed": false,
     "input": [],
     "language": "python",
     "metadata": {},
     "outputs": []
    }
   ],
   "metadata": {}
  }
 ]
}