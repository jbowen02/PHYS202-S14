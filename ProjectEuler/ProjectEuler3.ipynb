{
 "metadata": {
  "name": "",
  "signature": "sha256:1371f5aad128c997515869703a2329f1edace52d67c3fd444f0f4d393fccb966"
 },
 "nbformat": 3,
 "nbformat_minor": 0,
 "worksheets": [
  {
   "cells": [
    {
     "cell_type": "heading",
     "level": 1,
     "metadata": {},
     "source": [
      "Power Digit Sum"
     ]
    },
    {
     "cell_type": "heading",
     "level": 3,
     "metadata": {},
     "source": [
      "Problem 16"
     ]
    },
    {
     "cell_type": "markdown",
     "metadata": {},
     "source": [
      "2^15 = 32768 and the sum of its digits is 3 + 2 + 7 + 6 + 8 = 26.\n",
      "\n",
      "What is the sum of the digits of the number 2^1000?"
     ]
    },
    {
     "cell_type": "code",
     "collapsed": false,
     "input": [
      "#First I enter the result of 2**15 into a list as a string.\n",
      "#Then I loop through the list and only pull out the nth character in the list.\n",
      "#Finally, I change the nth character into a number again, and add it to a running total.\n",
      "number_list1 = str(2**15)\n",
      "total = 0\n",
      "for n in range(len(str(2**15))):\n",
      "    total += int(number_list1[n:n+1])\n",
      "print total"
     ],
     "language": "python",
     "metadata": {},
     "outputs": [
      {
       "output_type": "stream",
       "stream": "stdout",
       "text": [
        "26\n"
       ]
      }
     ],
     "prompt_number": 93
    },
    {
     "cell_type": "code",
     "collapsed": false,
     "input": [
      "#I do the same technique here.\n",
      "number_list = str(2**1000)\n",
      "total = 0\n",
      "for n in range(len(str(2**1000))):\n",
      "    total += int(number_list[(n):n+1])\n",
      "print total"
     ],
     "language": "python",
     "metadata": {},
     "outputs": [
      {
       "output_type": "stream",
       "stream": "stdout",
       "text": [
        "1366\n"
       ]
      }
     ],
     "prompt_number": 94
    },
    {
     "cell_type": "code",
     "collapsed": false,
     "input": [],
     "language": "python",
     "metadata": {},
     "outputs": []
    }
   ],
   "metadata": {}
  }
 ]
}