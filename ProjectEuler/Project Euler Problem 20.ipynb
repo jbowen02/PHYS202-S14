{
 "metadata": {
  "name": "",
  "signature": "sha256:46169dc67b569a5e051243ca9832ed7f226593bcb871b79b42269e55f5c3d498"
 },
 "nbformat": 3,
 "nbformat_minor": 0,
 "worksheets": [
  {
   "cells": [
    {
     "cell_type": "heading",
     "level": 1,
     "metadata": {},
     "source": [
      "Factorial Digit Sum"
     ]
    },
    {
     "cell_type": "markdown",
     "metadata": {},
     "source": [
      "n! means n \u00d7 (n \u2212 1) \u00d7 ... \u00d7 3 \u00d7 2 \u00d7 1\n",
      "\n",
      "For example, 10! = 10 \u00d7 9 \u00d7 ... \u00d7 3 \u00d7 2 \u00d7 1 = 3628800,\n",
      "\n",
      "and the sum of the digits in the number 10! is 3 + 6 + 2 + 8 + 8 + 0 + 0 = 27.\n",
      "\n",
      "Find the sum of the digits in the number 100!"
     ]
    },
    {
     "cell_type": "code",
     "collapsed": false,
     "input": [
      "#Test Case!\n",
      "result = 1\n",
      "total = 0\n",
      "n = 11\n",
      "\n",
      "for a in range(1,n):\n",
      "    result *= (n-a)\n",
      "\n",
      "print result\n",
      "string = str(result)\n",
      "\n",
      "for b in range(len(string)):\n",
      "    total += int(string[b])\n",
      "\n",
      "print total"
     ],
     "language": "python",
     "metadata": {},
     "outputs": [
      {
       "output_type": "stream",
       "stream": "stdout",
       "text": [
        "3628800\n",
        "27\n"
       ]
      }
     ],
     "prompt_number": 31
    },
    {
     "cell_type": "code",
     "collapsed": false,
     "input": [
      "result = 1\n",
      "total = 0\n",
      "n = 101\n",
      "\n",
      "for a in range(1,n):\n",
      "    result *= (n-a)\n",
      "\n",
      "print result\n",
      "string = str(result)\n",
      "\n",
      "for b in range(len(string)):\n",
      "    total += int(string[b])\n",
      "\n",
      "print total"
     ],
     "language": "python",
     "metadata": {},
     "outputs": [
      {
       "output_type": "stream",
       "stream": "stdout",
       "text": [
        "93326215443944152681699238856266700490715968264381621468592963895217599993229915608941463976156518286253697920827223758251185210916864000000000000000000000000\n",
        "648\n"
       ]
      }
     ],
     "prompt_number": 33
    },
    {
     "cell_type": "code",
     "collapsed": false,
     "input": [],
     "language": "python",
     "metadata": {},
     "outputs": []
    }
   ],
   "metadata": {}
  }
 ]
}