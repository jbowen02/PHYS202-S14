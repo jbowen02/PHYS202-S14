{
 "metadata": {
  "name": "",
  "signature": "sha256:829ac5b76ab7107f9d2d8e183036d43466d0b969a057ce9c184f9043864d7135"
 },
 "nbformat": 3,
 "nbformat_minor": 0,
 "worksheets": [
  {
   "cells": [
    {
     "cell_type": "heading",
     "level": 1,
     "metadata": {},
     "source": [
      "Project Euler Problem 4"
     ]
    },
    {
     "cell_type": "markdown",
     "metadata": {},
     "source": [
      "A palindromic number reads the same both ways. The largest palindrome made from the product of two 2-digit numbers is 9009 = 91 \u00d7 99.\n",
      "\n",
      "Find the largest palindrome made from the product of two 3-digit numbers."
     ]
    },
    {
     "cell_type": "code",
     "collapsed": false,
     "input": [
      "#Test Case!\n",
      "mylist = [1]\n",
      "for a in range(1,100):\n",
      "    for b in range (1,100):\n",
      "        number = a*b\n",
      "        string = str(number)\n",
      "        if len(string) == 1:\n",
      "            palindrome = 1\n",
      "        elif len(string) == 2:\n",
      "            if string[0] == string[1]:\n",
      "                palindrome = 1\n",
      "            else:\n",
      "                palindrome = 0\n",
      "        elif len(string) == 3:\n",
      "            if string[0] == string[2]:\n",
      "                palindrome = 1\n",
      "            else:\n",
      "                palindrome = 0\n",
      "        elif len(string) == 4:\n",
      "            if string[0] == string[3] and string[1] == string[2]:\n",
      "                palindrome = 1\n",
      "            else:\n",
      "                palindrome = 0\n",
      "        elif len(string) == 5:\n",
      "            if string[0] == string[4] and string[1] == string[3]:\n",
      "                palindrome = 1\n",
      "            else:\n",
      "                palindrome = 0\n",
      "        if a*b > mylist[0] and palindrome == 1:\n",
      "            del(mylist[0])\n",
      "            mylist.append(a*b)\n",
      "print \"The largest palindrome made from the product of two 2-digit numbers is\", mylist[0]"
     ],
     "language": "python",
     "metadata": {},
     "outputs": [
      {
       "output_type": "stream",
       "stream": "stdout",
       "text": [
        "The largest palindrome made from the product of two 2-digit numbers is 9009\n"
       ]
      }
     ],
     "prompt_number": 102
    },
    {
     "cell_type": "code",
     "collapsed": false,
     "input": [
      "#The real deal!\n",
      "mylist = [1]\n",
      "for a in range(1,1000):\n",
      "    for b in range (1,1000):\n",
      "        number = a*b\n",
      "        string = str(number)\n",
      "        if len(string) == 1:\n",
      "            palindrome = 1\n",
      "        elif len(string) == 2:\n",
      "            if string[0] == string[1]:\n",
      "                palindrome = 1\n",
      "            else:\n",
      "                palindrome = 0\n",
      "        elif len(string) == 3:\n",
      "            if string[0] == string[2]:\n",
      "                palindrome = 1\n",
      "            else:\n",
      "                palindrome = 0\n",
      "        elif len(string) == 4:\n",
      "            if string[0] == string[3] and string[1] == string[2]:\n",
      "                palindrome = 1\n",
      "            else:\n",
      "                palindrome = 0\n",
      "        elif len(string) == 5:\n",
      "            if string[0] == string[4] and string[1] == string[3]:\n",
      "                palindrome = 1\n",
      "            else:\n",
      "                palindrome = 0\n",
      "        elif len(string) == 6:\n",
      "            if string[0] == string[5] and string[1] == string[4] and string[2] == string[3]:\n",
      "                palindrome = 1\n",
      "            else:\n",
      "                palindrome = 0\n",
      "        if a*b > mylist[0] and palindrome == 1:\n",
      "            del(mylist[0])\n",
      "            mylist.append(a*b)\n",
      "print \"The largest palindrome made from the product of two 3-digit numbers is\", mylist[0]"
     ],
     "language": "python",
     "metadata": {},
     "outputs": [
      {
       "output_type": "stream",
       "stream": "stdout",
       "text": [
        "The largest palindrome made from the product of two 3-digit numbers is 906609\n"
       ]
      }
     ],
     "prompt_number": 104
    },
    {
     "cell_type": "code",
     "collapsed": false,
     "input": [],
     "language": "python",
     "metadata": {},
     "outputs": []
    }
   ],
   "metadata": {}
  }
 ]
}