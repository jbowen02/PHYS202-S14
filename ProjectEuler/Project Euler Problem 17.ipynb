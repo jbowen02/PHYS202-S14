{
 "metadata": {
  "name": "",
  "signature": "sha256:b7ad250b42ab3f46a55591f1e5cec66614f08daa5a1c6003e5209ad331fd037a"
 },
 "nbformat": 3,
 "nbformat_minor": 0,
 "worksheets": [
  {
   "cells": [
    {
     "cell_type": "heading",
     "level": 1,
     "metadata": {},
     "source": [
      "Number letter counts"
     ]
    },
    {
     "cell_type": "markdown",
     "metadata": {},
     "source": [
      "If the numbers 1 to 5 are written out in words: one, two, three, four, five, then there are 3 + 3 + 5 + 4 + 4 = 19 letters used in total.\n",
      "\n",
      "If all the numbers from 1 to 1000 (one thousand) inclusive were written out in words, how many letters would be used?"
     ]
    },
    {
     "cell_type": "code",
     "collapsed": false,
     "input": [
      "#Base Case!\n",
      "total = 0\n",
      "for a in range(1,6):\n",
      "    string = str(a)\n",
      "    if len(string) == 1:\n",
      "        if string[0] == \"1\":\n",
      "            total += 3\n",
      "        if string[0] == \"2\":\n",
      "            total += 3\n",
      "        if string[0] == \"3\":\n",
      "            total += 5\n",
      "        if string[0] == \"4\":\n",
      "            total += 4\n",
      "        if string[0] == \"5\":\n",
      "            total += 4\n",
      "print total"
     ],
     "language": "python",
     "metadata": {},
     "outputs": [
      {
       "output_type": "stream",
       "stream": "stdout",
       "text": [
        "19\n"
       ]
      }
     ],
     "prompt_number": 19
    },
    {
     "cell_type": "markdown",
     "metadata": {},
     "source": [
      "I realize this meathod will take a long time so I change my plan of attack."
     ]
    },
    {
     "cell_type": "code",
     "collapsed": false,
     "input": [
      "#the total letters in 1, 2, ... , 9:\n",
      "ones = 3 + 3 + 5 + 4 + 4 + 3 + 5 + 5 + 4\n",
      "#total letters in the teens:\n",
      "teens = 3 + 6 + 6 + 9 + 8 + 8 + 7 + 9 + 9 + 8\n",
      "#total letters in the twenties. there are 10 instances of \"twenty\" which has 6 letters, plus all the ones letters.\n",
      "twenties = 10*(6) + ones\n",
      "#and so on...\n",
      "thirties = 10*(6) + ones\n",
      "fourties = 10*(6) + ones\n",
      "fifties = 10*(5) + ones\n",
      "sixties = 10*(5) + ones\n",
      "seventies = 10*(7) + ones\n",
      "eighties = 10*(6) + ones\n",
      "nineties = 10*(6) + ones\n",
      "#the total letters in all two digit numbers:\n",
      "tens = teens + twenties + thirties + fourties + fifties + sixties + seventies + eighties + nineties\n",
      "#there are 100 instances of \"one hundred and\" which has 13 letters, plus all the tens and ones letters.\n",
      "one_hundreds = 100*(13) + tens + ones\n",
      "two_hundreds = 100*(13) + tens + ones\n",
      "three_hundreds = 100*(15) + tens + ones\n",
      "four_hundreds = 100*(14) + tens + ones\n",
      "five_hundreds = 100*(14) + tens + ones\n",
      "six_hundreds = 100*(13) + tens + ones\n",
      "seven_hundreds = 100*(15) + tens + ones\n",
      "eight_hundreds = 100*(15) + tens + ones\n",
      "nine_hundreds = 100*(14) + tens + ones\n",
      "hundreds = one_hundreds + two_hundreds + three_hundreds + four_hundreds + five_hundreds + six_hundreds + seven_hundreds + eight_hundreds + nine_hundreds\n",
      "one_thousand = 11\n",
      "total = one_thousand + hundreds + tens + ones\n",
      "print total"
     ],
     "language": "python",
     "metadata": {},
     "outputs": [
      {
       "output_type": "stream",
       "stream": "stdout",
       "text": [
        "21281\n"
       ]
      }
     ],
     "prompt_number": 30
    },
    {
     "cell_type": "code",
     "collapsed": false,
     "input": [],
     "language": "python",
     "metadata": {},
     "outputs": []
    }
   ],
   "metadata": {}
  }
 ]
}