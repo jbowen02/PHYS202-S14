{
 "metadata": {
  "name": "",
  "signature": "sha256:847a26d4c2281bbdc96dda794e4dad5becc3c64f2011306b24176bbaa247a56c"
 },
 "nbformat": 3,
 "nbformat_minor": 0,
 "worksheets": [
  {
   "cells": [
    {
     "cell_type": "heading",
     "level": 1,
     "metadata": {},
     "source": [
      "Project Euler Problem 31: Coin Sums"
     ]
    },
    {
     "cell_type": "markdown",
     "metadata": {},
     "source": [
      "In England the currency is made up of pound, \u00a3, and pence, p, and there are eight coins in general circulation:\n",
      "\n",
      "1p, 2p, 5p, 10p, 20p, 50p, \u00a31 (100p) and \u00a32 (200p).\n",
      "It is possible to make \u00a32 in the following way:\n",
      "\n",
      "1\u00d7\u00a31 + 1\u00d750p + 2\u00d720p + 1\u00d75p + 1\u00d72p + 3\u00d71p\n",
      "How many different ways can \u00a32 be made using any number of coins?"
     ]
    },
    {
     "cell_type": "code",
     "collapsed": false,
     "input": [
      "#Base Case? I just put that specific example into my for loop to make sure it will increment the total by 1.\n",
      "total = 0\n",
      "for a in range(0,1):\n",
      "    for b in range (1,2):\n",
      "        for c in range (1,2):\n",
      "            for d in range(2,3):\n",
      "                for e in range (0,1):\n",
      "                    for f in range (1,2):\n",
      "                        for g in range (1,2):\n",
      "                            for h in range (3,4):\n",
      "                                if (200*a + 100*b + 50*c + 20*d + 10*e + 5*f + 2*g + 1*h) == 200:\n",
      "                                    total += 1\n",
      "print total"
     ],
     "language": "python",
     "metadata": {},
     "outputs": [
      {
       "output_type": "stream",
       "stream": "stdout",
       "text": [
        "1\n"
       ]
      }
     ],
     "prompt_number": 27
    },
    {
     "cell_type": "code",
     "collapsed": false,
     "input": [
      "total = 0\n",
      "for a in range(0,2):\n",
      "    for b in range (0,3):\n",
      "        for c in range (0,5):\n",
      "            for d in range(0,11):\n",
      "                for e in range (0,21):\n",
      "                    for f in range (0,41):\n",
      "                        for g in range (0,101):\n",
      "                            for h in range (0,201):\n",
      "                                if (200*a + 100*b + 50*c + 20*d + 10*e + 5*f + 2*g + 1*h) == 200:\n",
      "                                    total += 1"
     ],
     "language": "python",
     "metadata": {},
     "outputs": [],
     "prompt_number": 16
    },
    {
     "cell_type": "code",
     "collapsed": false,
     "input": [
      "print total"
     ],
     "language": "python",
     "metadata": {},
     "outputs": [
      {
       "output_type": "stream",
       "stream": "stdout",
       "text": [
        "73682\n"
       ]
      }
     ],
     "prompt_number": 18
    },
    {
     "cell_type": "code",
     "collapsed": false,
     "input": [],
     "language": "python",
     "metadata": {},
     "outputs": []
    }
   ],
   "metadata": {}
  }
 ]
}