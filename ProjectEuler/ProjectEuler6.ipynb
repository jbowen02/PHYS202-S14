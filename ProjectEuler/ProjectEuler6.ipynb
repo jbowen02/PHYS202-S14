{
 "metadata": {
  "name": "",
  "signature": "sha256:a65b74768915475ebd0d3f06c5da7558e4d0c1ee3cadc6aeba90704d7b6606b5"
 },
 "nbformat": 3,
 "nbformat_minor": 0,
 "worksheets": [
  {
   "cells": [
    {
     "cell_type": "heading",
     "level": 1,
     "metadata": {},
     "source": [
      "Project Euler Problem 19: Counting Sundays"
     ]
    },
    {
     "cell_type": "markdown",
     "metadata": {},
     "source": [
      "How many Sundays fell on the first of the month during the twentieth century (1 Jan 1901 to 31 Dec 2000)?"
     ]
    },
    {
     "cell_type": "code",
     "collapsed": false,
     "input": [
      "total_days = (365*100) + 25\n",
      "print total_days"
     ],
     "language": "python",
     "metadata": {},
     "outputs": [
      {
       "output_type": "stream",
       "stream": "stdout",
       "text": [
        "36525\n"
       ]
      }
     ],
     "prompt_number": 1
    },
    {
     "cell_type": "markdown",
     "metadata": {},
     "source": [
      ".....\n",
      "\n",
      "Pretty sure this problem is impossible and this is a trick..."
     ]
    },
    {
     "cell_type": "code",
     "collapsed": false,
     "input": [],
     "language": "python",
     "metadata": {},
     "outputs": []
    }
   ],
   "metadata": {}
  }
 ]
}