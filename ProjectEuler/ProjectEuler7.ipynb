{
 "metadata": {
  "name": "",
  "signature": "sha256:01cece1dc2afd7f3d81f08caab0eda89006abbc595a168b45394e1f05f51d385"
 },
 "nbformat": 3,
 "nbformat_minor": 0,
 "worksheets": [
  {
   "cells": [
    {
     "cell_type": "heading",
     "level": 1,
     "metadata": {},
     "source": [
      "Project Euler Problem 25"
     ]
    },
    {
     "cell_type": "heading",
     "level": 2,
     "metadata": {},
     "source": [
      "1000-digit Fibonacci number"
     ]
    },
    {
     "cell_type": "markdown",
     "metadata": {},
     "source": [
      "The Fibonacci sequence is defined by the recurrence relation:\n",
      "\n",
      "Fn = Fn\u22121 + Fn\u22122, where F1 = 1 and F2 = 1.\n",
      "\n",
      "Hence the first 12 terms will be:\n",
      "\n",
      "F1 = 1\n",
      "\n",
      "F2 = 1\n",
      "\n",
      "F3 = 2\n",
      "\n",
      "F4 = 3\n",
      "\n",
      "F5 = 5\n",
      "\n",
      "F6 = 8\n",
      "\n",
      "F7 = 13\n",
      "\n",
      "F8 = 21\n",
      "\n",
      "F9 = 34\n",
      "\n",
      "F10 = 55\n",
      "\n",
      "F11 = 89\n",
      "\n",
      "F12 = 144\n",
      "\n",
      "The 12th term, F12, is the first term to contain three digits.\n",
      "\n",
      "What is the first term in the Fibonacci sequence to contain 1000 digits?"
     ]
    },
    {
     "cell_type": "code",
     "collapsed": false,
     "input": [
      "sequence = [1, 1]\n",
      "terms = range(0,10)\n",
      "for term in terms:\n",
      "    sequence.append(sequence[term] + sequence[term + 1])\n",
      "print \"The 12 Fibonacci number is:\", sequence[11]"
     ],
     "language": "python",
     "metadata": {},
     "outputs": [
      {
       "output_type": "stream",
       "stream": "stdout",
       "text": [
        "The 12 Fibonacci number is: 144\n"
       ]
      }
     ],
     "prompt_number": 18
    },
    {
     "cell_type": "code",
     "collapsed": false,
     "input": [
      "sequence = [1, 1]\n",
      "terms = range(0,10000)\n",
      "for term in terms:\n",
      "    sequence.append(sequence[term] + sequence[term + 1])\n",
      "    if sequence[term] + sequence[term + 1] >= (1*10**1000):\n",
      "        print \"The first term in the Fibonacci sequence to contain 1000 digits is:\", sequence[term] + sequence[term + 1]\n",
      "        break"
     ],
     "language": "python",
     "metadata": {},
     "outputs": [
      {
       "output_type": "stream",
       "stream": "stdout",
       "text": [
        "The first term in the Fibonacci sequence to contain 1000 digits is: 11867216745258291596767088485966669273798582100095758927648586619975930687764095025968215177396570693265703962438125699711941059562545194266075961811883693134762216371218311196004424123489176045121333888565534924242378605373120526670329845322631737678903926970677861161240351447136066048164999599442542656514905088616976279305745609791746515632977790194938965236778055329967326038544356209745856855159058933476416258769264398373862584107011986781891656652294354303384242672408623790331963965457196174228574314820977014549061641307451101774166736940218594168337251710513138183086237827524393177246011800953414994670315197696419455768988692973700193372678236023166645886460311356376355559165284374295661676047742503016358708348137445254264644759334748027290043966390891843744407845769620260120918661264249498568399416752809338209739872047617689422485537053988895817801983866648336679027270843804302586168051835624516823216354234081479331553304809262608491851078404280454207286577699580222132259241827433\n"
       ]
      }
     ],
     "prompt_number": 11
    },
    {
     "cell_type": "code",
     "collapsed": false,
     "input": [],
     "language": "python",
     "metadata": {},
     "outputs": []
    }
   ],
   "metadata": {}
  }
 ]
}