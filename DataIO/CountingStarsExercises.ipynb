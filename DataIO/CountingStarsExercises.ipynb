{
 "metadata": {
  "name": "",
  "signature": "sha256:f7a30b8578334faad30b08bf85f5342f36e8099aa25fad8b7995ad78d1d22833"
 },
 "nbformat": 3,
 "nbformat_minor": 0,
 "worksheets": [
  {
   "cells": [
    {
     "cell_type": "markdown",
     "metadata": {},
     "source": [
      "Counting Stars Exercises"
     ]
    },
    {
     "cell_type": "code",
     "collapsed": false,
     "input": [
      "%pylab inline\n",
      "import numpy as np\n",
      "import matplotlib.pyplot as plt\n",
      "from PIL import Image\n",
      "import requests\n",
      "from StringIO import StringIO"
     ],
     "language": "python",
     "metadata": {},
     "outputs": [
      {
       "output_type": "stream",
       "stream": "stdout",
       "text": [
        "Populating the interactive namespace from numpy and matplotlib\n"
       ]
      }
     ],
     "prompt_number": 2
    },
    {
     "cell_type": "markdown",
     "metadata": {},
     "source": [
      "1. Modify the fill function so that it never looks at the same pixel twice. There are at least two ways to do this. Name your new function fastfill. The function prototype might look something like this:\n",
      "\n",
      "def fastfill(picture, xsize, ysize, xstart, ystart):\n",
      "    \n",
      "    \"\"\"Faster fill algorithm that doesn't look at any pixel more than once.\"\"\"\n",
      "\n",
      "Be sure to include comments and add detail to the docstring to describe what it is doing."
     ]
    },
    {
     "cell_type": "code",
     "collapsed": false,
     "input": [
      "def fastfill(picture, xsize, ysize, xstart, ystart):\n",
      "    queue = [(xstart,ystart)]\n",
      "    while queue:\n",
      "        x,y,queue = queue[0][0], queue[0][1], queue[1:]\n",
      "        if picture[x,y] == BLACK:\n",
      "            picture[x,y] = RED\n",
      "            if x > 0:\n",
      "                if picture[x,y] == RED:\n",
      "                    break\n",
      "                else:\n",
      "                    queue.append((x-1,y))\n",
      "            if x < (xsize-1):\n",
      "                if picture[x,y] == RED:\n",
      "                    break\n",
      "                else:\n",
      "                    queue.append((x+1,y))\n",
      "            if y > 0:\n",
      "                if picture[x,y] == RED:\n",
      "                    break\n",
      "                else:\n",
      "                    queue.append((x, y-1))\n",
      "            if y < (ysize-1):\n",
      "                if picture[x,y] == RED:\n",
      "                    break\n",
      "                else:\n",
      "                    queue.append((x, y+1))\n",
      "#something like this?"
     ],
     "language": "python",
     "metadata": {},
     "outputs": [],
     "prompt_number": 14
    },
    {
     "cell_type": "code",
     "collapsed": false,
     "input": [],
     "language": "python",
     "metadata": {},
     "outputs": []
    }
   ],
   "metadata": {}
  }
 ]
}