{
 "metadata": {
  "name": "",
  "signature": "sha256:6d1291228aebe5293992f7ebc9b35071333f4b46a35d5547995ef9f6cc4a424c"
 },
 "nbformat": 3,
 "nbformat_minor": 0,
 "worksheets": [
  {
   "cells": [
    {
     "cell_type": "heading",
     "level": 1,
     "metadata": {},
     "source": [
      "Integration Exercises"
     ]
    },
    {
     "cell_type": "heading",
     "level": 3,
     "metadata": {},
     "source": [
      "Question 1"
     ]
    },
    {
     "cell_type": "markdown",
     "metadata": {},
     "source": [
      "(a) Write two functions trapz(func,x) and simps(func,x) to compute the integral of the function func over the variable x using the trapezoidal rule and Simpson's rule to a file called Integrators.py. Do not use the scipy.integrate built-in functions. Include docstrings with each function that describe what they do. Then import the module and use the functions to answer the following questions."
     ]
    },
    {
     "cell_type": "code",
     "collapsed": false,
     "input": [
      "%%file Integrators.py\n",
      "import numpy as np\n",
      "def trapz(func,a,b,N):\n",
      "    \"\"\"Docstring Here\"\"\"\n",
      "    h = (b-a)/N\n",
      "    k = np.arange(1,N)\n",
      "    I = h*(0.5*func(a) + 0.5*func(b) + func(a + k*h).sum())\n",
      "    return I\n",
      "\n",
      "def simps(func,a,b,N):\n",
      "    \"\"\"Docstring Here\"\"\"\n",
      "    h = (b-a)/N\n",
      "    k1 = np.arange(1,N/2+1)\n",
      "    k2 = np.arange(1,N/2)\n",
      "    I = (1./3.)*h*(func(a) + func(b) + 4.*func(a+(2*k1-1)*h).sum() + 2.*func(a+2*k2*h).sum())\n",
      "    return I"
     ],
     "language": "python",
     "metadata": {},
     "outputs": [
      {
       "output_type": "stream",
       "stream": "stdout",
       "text": [
        "Overwriting Integrators.py\n"
       ]
      }
     ],
     "prompt_number": 2
    },
    {
     "cell_type": "code",
     "collapsed": false,
     "input": [
      "%pylab inline\n",
      "import numpy as np\n",
      "import matplotlib.pyplot as plt"
     ],
     "language": "python",
     "metadata": {},
     "outputs": [
      {
       "output_type": "stream",
       "stream": "stdout",
       "text": [
        "Populating the interactive namespace from numpy and matplotlib\n"
       ]
      }
     ],
     "prompt_number": 3
    },
    {
     "cell_type": "markdown",
     "metadata": {},
     "source": [
      "(b) Use your trapz and simps functions from part (a) to calculate the integral of x4\u22122x+1 from x = 0 to x = 2 with N = 10, N = 100, and N = 1000. Then compare your result to the known correct value of 4.4. What is the percent error in each case?"
     ]
    },
    {
     "cell_type": "code",
     "collapsed": false,
     "input": [
      "import Integrators as myint\n",
      "func = lambda x: x**4 - 2*x + 1\n",
      "a = 0.0\n",
      "b = 2.0\n",
      "N = 10\n",
      "print \"N = 10\"\n",
      "print \"Trapezoid Rule Integral:\", myint.trapz(func,a,b,N)\n",
      "print \"Percent Error:\", ((myint.trapz(func,a,b,N) - 4.4) / (myint.trapz(func,a,b,N)))*100\n",
      "print \"Simpson's Rule Integral:\", myint.simps(func,a,b,N)\n",
      "print \"Percent Error:\", ((myint.simps(func,a,b,N) - 4.4) / (myint.simps(func,a,b,N)))*100"
     ],
     "language": "python",
     "metadata": {},
     "outputs": [
      {
       "output_type": "stream",
       "stream": "stdout",
       "text": [
        "N = 10\n",
        "Trapezoid Rule Integral: "
       ]
      },
      {
       "output_type": "stream",
       "stream": "stdout",
       "text": [
        "4.50656\n",
        "Percent Error: 2.36455300717\n",
        "Simpson's Rule Integral: 4.40042666667\n",
        "Percent Error: 0.00969602947593\n"
       ]
      }
     ],
     "prompt_number": 4
    },
    {
     "cell_type": "code",
     "collapsed": false,
     "input": [
      "a = 0.0\n",
      "b = 2.0\n",
      "N = 100\n",
      "print \"N = 100\"\n",
      "print \"Trapezoid Rule Integral:\", myint.trapz(func,a,b,N)\n",
      "print \"Percent Error:\", ((myint.trapz(func,a,b,N) - 4.4) / (myint.trapz(func,a,b,N)))*100\n",
      "print \"Simpson's Rule Integral:\", myint.simps(func,a,b,N)\n",
      "print \"Percent Error:\", ((myint.simps(func,a,b,N) - 4.4) / (myint.simps(func,a,b,N)))*100"
     ],
     "language": "python",
     "metadata": {},
     "outputs": [
      {
       "output_type": "stream",
       "stream": "stdout",
       "text": [
        "N = 100\n",
        "Trapezoid Rule Integral: 4.401066656\n",
        "Percent Error: 0.0242363064087\n",
        "Simpson's Rule Integral: 4.40000004267\n",
        "Percent Error: 9.69696959783e-07\n"
       ]
      }
     ],
     "prompt_number": 5
    },
    {
     "cell_type": "code",
     "collapsed": false,
     "input": [
      "a = 0.0\n",
      "b = 2.0\n",
      "N = 1000\n",
      "print \"N = 1000\"\n",
      "print \"Trapezoid Rule Integral:\", myint.trapz(func,a,b,N)\n",
      "print \"Percent Error:\", ((myint.trapz(func,a,b,N) - 4.4) / (myint.trapz(func,a,b,N)))*100\n",
      "print \"Simpson's Rule Integral:\", myint.simps(func,a,b,N)\n",
      "print \"Percent Error:\", ((myint.simps(func,a,b,N) - 4.4) / (myint.simps(func,a,b,N)))*100"
     ],
     "language": "python",
     "metadata": {},
     "outputs": [
      {
       "output_type": "stream",
       "stream": "stdout",
       "text": [
        "N = 1000\n",
        "Trapezoid Rule Integral: 4.40001066667\n",
        "Percent Error: 0.000242423630481\n",
        "Simpson's Rule Integral: 4.4\n",
        "Percent Error: 9.69729347326e-11\n"
       ]
      }
     ],
     "prompt_number": 6
    },
    {
     "cell_type": "heading",
     "level": 3,
     "metadata": {},
     "source": [
      "Question 2"
     ]
    },
    {
     "cell_type": "markdown",
     "metadata": {},
     "source": [
      "(a) Use scipy.integrate.cumtrapz to calculate E(x) for values of x from 0 to 3 in steps of 0.1. Print the result."
     ]
    },
    {
     "cell_type": "code",
     "collapsed": false,
     "input": [
      "import scipy.integrate as integrate"
     ],
     "language": "python",
     "metadata": {},
     "outputs": [],
     "prompt_number": 7
    },
    {
     "cell_type": "code",
     "collapsed": false,
     "input": [
      "func = lambda x: np.exp(-x**2)\n",
      "x = np.arange(0.0, 3.1, .1)\n",
      "result = integrate.cumtrapz(func(x), x, initial = 0)\n",
      "print result"
     ],
     "language": "python",
     "metadata": {},
     "outputs": [
      {
       "output_type": "stream",
       "stream": "stdout",
       "text": [
        "[ 0.          0.09950249  0.19704446  0.29078049  0.37908424  0.46063146\n",
        "  0.53445532  0.59997046  0.6569664   0.70557392  0.7462108   0.77951463\n",
        "  0.80627088  0.82734325  0.84361215  0.85592503  0.86506023  0.87170427\n",
        "  0.87644128  0.87975207  0.88202044  0.88354398  0.88454709  0.88519453\n",
        "  0.88560418  0.88585826  0.88601274  0.88610482  0.88615862  0.88618943\n",
        "  0.88620673]\n"
       ]
      }
     ],
     "prompt_number": 8
    },
    {
     "cell_type": "code",
     "collapsed": false,
     "input": [
      "plt.plot(x,func(x), label=\"integrand\")\n",
      "plt.plot(x, result, label=\"E(x)\")\n",
      "plt.legend(loc='center right')\n",
      "plt.show()"
     ],
     "language": "python",
     "metadata": {},
     "outputs": [
      {
       "metadata": {},
       "output_type": "display_data",
       "png": "[encoded data removed]",
       "text": [
        "<matplotlib.figure.Figure at 0xa2587f0>"
       ]
      }
     ],
     "prompt_number": 9
    },
    {
     "cell_type": "heading",
     "level": 3,
     "metadata": {},
     "source": [
      "Question 3"
     ]
    },
    {
     "cell_type": "markdown",
     "metadata": {},
     "source": [
      "(a) What is the probability of finding the particle between L/3 and L/2 for the ground state (n = 1) and for the first excited state (n = 2)? Let L = 1. Perform the integral using both scipy.integrate.trapz and scipy.integrate.quad with an accuracy of 6 sig figs. How many slices did you need to use for scipy.integrate.trapz?"
     ]
    },
    {
     "cell_type": "code",
     "collapsed": false,
     "input": [
      "def psi_sqrd(x,n):\n",
      "    return ((2.)**(1/2.)*np.sin(n*np.pi*x))**2\n",
      "\n",
      "x = linspace((1/3.),(1/2.),40)\n",
      "print \"integrate.trapz:\", integrate.trapz(psi_sqrd(x,1),x)\n",
      "result = integrate.quad(psi_sqrd, (1/3.), (1/2.), args=(1))\n",
      "print \"integrate.quad:\", result[0]\n",
      "print \"Percent difference:\", abs(integrate.trapz(psi_sqrd(x,1),x) - result[0])\n",
      "print \"40 slices required\"\n",
      "\n",
      "x = linspace((1/3.),(1/2.),60)\n",
      "print \"integrate.trapz:\", integrate.trapz(psi_sqrd(x,2),x)\n",
      "result = integrate.quad(psi_sqrd, (1/3.), (1/2.), args=(2))\n",
      "print \"integrate.quad:\", result[0]\n",
      "print \"Percent difference:\", abs(integrate.trapz(psi_sqrd(x,2),x) - result[0])\n",
      "print \"60 slices required\"\n",
      "\n",
      "x = linspace((0),(1),100)\n",
      "n1 = psi_sqrd(x,1)\n",
      "n2 = psi_sqrd(x,2)"
     ],
     "language": "python",
     "metadata": {},
     "outputs": [
      {
       "output_type": "stream",
       "stream": "stdout",
       "text": [
        "integrate.trapz: 0.304490609141\n",
        "integrate.quad: 0.304498890522\n",
        "Percent difference: 8.28138085351e-06\n",
        "40 slices required\n",
        "integrate.trapz: 0.0977577917935\n",
        "integrate.quad: 0.0977505547389\n",
        "Percent difference: 7.23705456167e-06\n",
        "60 slices required\n"
       ]
      }
     ],
     "prompt_number": 67
    },
    {
     "cell_type": "code",
     "collapsed": false,
     "input": [
      "plt.plot(x,n1, label=\"First Excited State\")\n",
      "plt.plot(x, n2, label=\"Second Excited State\")\n",
      "plt.ylim(0,3)\n",
      "plt.legend(loc='upper right')\n",
      "plt.show()"
     ],
     "language": "python",
     "metadata": {},
     "outputs": [
      {
       "metadata": {},
       "output_type": "display_data",
       "png": "[encoded data removed]",
       "text": [
        "<matplotlib.figure.Figure at 0xa267940>"
       ]
      }
     ],
     "prompt_number": 71
    },
    {
     "cell_type": "code",
     "collapsed": false,
     "input": [
      "from scipy.integrate import tplquad\n",
      "rho = lambda z,y,x: 100*(y + 0.1) + 100*(z**2)\n",
      "\n",
      "xmin = -0.1\n",
      "xmax = 0.1\n",
      "\n",
      "ymin = lambda x: -0.1\n",
      "ymax = lambda x: 0.1\n",
      "\n",
      "zmin = lambda x,y: -0.5\n",
      "zmax = lambda x,y: 0.5\n",
      "\n",
      "M, err = tplquad(rho, xmin, xmax, ymin, ymax, zmin, zmax)\n",
      "print M"
     ],
     "language": "python",
     "metadata": {},
     "outputs": [
      {
       "output_type": "stream",
       "stream": "stdout",
       "text": [
        "0.733333333333\n"
       ]
      }
     ],
     "prompt_number": 74
    },
    {
     "cell_type": "code",
     "collapsed": false,
     "input": [
      "r_cm = "
     ],
     "language": "python",
     "metadata": {},
     "outputs": []
    }
   ],
   "metadata": {}
  }
 ]
}