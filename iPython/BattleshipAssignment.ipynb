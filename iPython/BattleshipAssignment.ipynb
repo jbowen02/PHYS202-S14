{
 "metadata": {
  "name": "",
  "signature": "sha256:c1d4291e5e4e1c85ad19725774d79f592d73a431a47bbfe45cb3f7f37e6913bb"
 },
 "nbformat": 3,
 "nbformat_minor": 0,
 "worksheets": [
  {
   "cells": [
    {
     "cell_type": "heading",
     "level": 1,
     "metadata": {},
     "source": [
      "Battleship! Assignment"
     ]
    },
    {
     "cell_type": "markdown",
     "metadata": {},
     "source": [
      "To run this code, select In [19] and press shift enter. The code will generate a random 2x1 ship on an 8x8 grid. You have 8 guesses to hit the ship before the game is over.\n",
      "\n",
      "Misses are denoted by a purple block on the grid, while hits are denoted by a red block.\n",
      "\n",
      "The game will not let you hit a square outside the grid, and will alert you if you hit a square you already tried to hit before.\n",
      "\n",
      "If the player loses the game, a grid will show where the battleship was, denoted by green blocks.\n",
      "\n",
      "If you want to test winning the game, you can delete the commented-out print statements on lines 33-35 that will tell you where the battleship is located."
     ]
    },
    {
     "cell_type": "code",
     "collapsed": false,
     "input": [
      "from random import randint\n",
      "from ipythonblocks import BlockGrid\n",
      "\n",
      "board = []\n",
      "\n",
      "for x in range(8):\n",
      "    board.append([\"O\"] * 8)\n",
      "\n",
      "def print_board(board):\n",
      "    for row in board:\n",
      "        print \" \".join(row)\n",
      "\n",
      "grid = BlockGrid(8, 8, fill=(0, 210, 240))\n",
      "\n",
      "print \"Shall we play a game of battleship?\"\n",
      "grid.show()\n",
      "\n",
      "def random_row_1(grid):\n",
      "    return randint(0, 6)\n",
      "\n",
      "ship_row_1 = random_row_1(grid)\n",
      "\n",
      "def random_row_2(grid):\n",
      "    return ship_row_1 + 1\n",
      "\n",
      "ship_row_2 = random_row_2(grid)\n",
      "\n",
      "def random_col(grid):\n",
      "    return randint(0, 7)\n",
      "\n",
      "ship_col = random_col(grid)\n",
      "\n",
      "\"\"\"print ship_row_1\n",
      "print ship_row_2\n",
      "print ship_col\"\"\"\n",
      "\n",
      "for turn in range(8):\n",
      "    print \"Turn %s out of 8\" % (turn + 1)\n",
      "    guess_row = int(raw_input(\"Guess Row:\"))\n",
      "    guess_col = int(raw_input(\"Guess Col:\"))\n",
      "    \n",
      "    if (guess_row == ship_row_1 or guess_row == ship_row_2) and guess_col == ship_col:\n",
      "        if (board[guess_row][guess_col] == \"X\"):\n",
      "            print \"You guessed that one already.\"\n",
      "        else:\n",
      "            print \"Whoah, you hit my battleship!\"\n",
      "            board[guess_row][guess_col] = \"X\"\n",
      "            grid[guess_row, guess_col] = (250, 0, 0)\n",
      "            grid.show()\n",
      "            if board[ship_row_1][ship_col] == \"X\" and board[ship_row_2][ship_col] == \"X\":\n",
      "                print \"Congratulations! You sunk my battleship!\"\n",
      "                grid[guess_row, guess_col] = (250, 0, 0)\n",
      "                grid.show()\n",
      "                break\n",
      "    else:\n",
      "        if (guess_row < 0 or guess_row > 7) or (guess_col < 0 or guess_col > 7):\n",
      "            print \"Oops, that's not even in the ocean.\"\n",
      "            grid.show()\n",
      "        elif(board[guess_row][guess_col] == \"X\"):\n",
      "            print \"You guessed that one already.\"\n",
      "            if turn == 7:\n",
      "                print \"I'm sorry, but you lost.\"\n",
      "                grid[ship_row_1, ship_col] = (0, 150, 150)\n",
      "                grid[ship_row_2, ship_col] = (0, 150, 150)\n",
      "                grid.show()\n",
      "                print \"The green box is where my battleship was.\"\n",
      "        else:\n",
      "            board[guess_row][guess_col] = \"X\"\n",
      "            print \"You missed my battleship!\"\n",
      "            grid[guess_row, guess_col] = (150, 0, 250)\n",
      "            grid.show()\n",
      "            if turn == 7:\n",
      "                print \"I'm sorry, but you lost.\"\n",
      "                grid[ship_row_1, ship_col] = (0, 150, 150)\n",
      "                grid[ship_row_2, ship_col] = (0, 150, 150)\n",
      "                grid.show()\n",
      "                print \"The green box is where my battleship was.\""
     ],
     "language": "python",
     "metadata": {},
     "outputs": [
      {
       "output_type": "stream",
       "stream": "stdout",
       "text": [
        "Shall we play a game of battleship?\n"
       ]
      },
      {
       "html": [
        "<style type=\"text/css\">table.blockgrid {border: none;} .blockgrid tr {border: none;} .blockgrid td {padding: 0px;} #blocks8c7831ee-7582-4e75-b71c-b4d25894129b td {border: 1px solid white;}</style><table id=\"blocks8c7831ee-7582-4e75-b71c-b4d25894129b\" class=\"blockgrid\"><tbody><tr><td title=\"Index: [0, 0]&#10;Color: (0, 210, 240)\" style=\"width: 20px; height: 20px;background-color: rgb(0, 210, 240);\"></td><td title=\"Index: [0, 1]&#10;Color: (0, 210, 240)\" style=\"width: 20px; height: 20px;background-color: rgb(0, 210, 240);\"></td><td title=\"Index: [0, 2]&#10;Color: (0, 210, 240)\" style=\"width: 20px; height: 20px;background-color: rgb(0, 210, 240);\"></td><td title=\"Index: [0, 3]&#10;Color: (0, 210, 240)\" style=\"width: 20px; height: 20px;background-color: rgb(0, 210, 240);\"></td><td title=\"Index: [0, 4]&#10;Color: (0, 210, 240)\" style=\"width: 20px; height: 20px;background-color: rgb(0, 210, 240);\"></td><td title=\"Index: [0, 5]&#10;Color: (0, 210, 240)\" style=\"width: 20px; height: 20px;background-color: rgb(0, 210, 240);\"></td><td title=\"Index: [0, 6]&#10;Color: (0, 210, 240)\" style=\"width: 20px; height: 20px;background-color: rgb(0, 210, 240);\"></td><td title=\"Index: [0, 7]&#10;Color: (0, 210, 240)\" style=\"width: 20px; height: 20px;background-color: rgb(0, 210, 240);\"></td></tr><tr><td title=\"Index: [1, 0]&#10;Color: (0, 210, 240)\" style=\"width: 20px; height: 20px;background-color: rgb(0, 210, 240);\"></td><td title=\"Index: [1, 1]&#10;Color: (0, 210, 240)\" style=\"width: 20px; height: 20px;background-color: rgb(0, 210, 240);\"></td><td title=\"Index: [1, 2]&#10;Color: (0, 210, 240)\" style=\"width: 20px; height: 20px;background-color: rgb(0, 210, 240);\"></td><td title=\"Index: [1, 3]&#10;Color: (0, 210, 240)\" style=\"width: 20px; height: 20px;background-color: rgb(0, 210, 240);\"></td><td title=\"Index: [1, 4]&#10;Color: (0, 210, 240)\" style=\"width: 20px; height: 20px;background-color: rgb(0, 210, 240);\"></td><td title=\"Index: [1, 5]&#10;Color: (0, 210, 240)\" style=\"width: 20px; height: 20px;background-color: rgb(0, 210, 240);\"></td><td title=\"Index: [1, 6]&#10;Color: (0, 210, 240)\" style=\"width: 20px; height: 20px;background-color: rgb(0, 210, 240);\"></td><td title=\"Index: [1, 7]&#10;Color: (0, 210, 240)\" style=\"width: 20px; height: 20px;background-color: rgb(0, 210, 240);\"></td></tr><tr><td title=\"Index: [2, 0]&#10;Color: (0, 210, 240)\" style=\"width: 20px; height: 20px;background-color: rgb(0, 210, 240);\"></td><td title=\"Index: [2, 1]&#10;Color: (0, 210, 240)\" style=\"width: 20px; height: 20px;background-color: rgb(0, 210, 240);\"></td><td title=\"Index: [2, 2]&#10;Color: (0, 210, 240)\" style=\"width: 20px; height: 20px;background-color: rgb(0, 210, 240);\"></td><td title=\"Index: [2, 3]&#10;Color: (0, 210, 240)\" style=\"width: 20px; height: 20px;background-color: rgb(0, 210, 240);\"></td><td title=\"Index: [2, 4]&#10;Color: (0, 210, 240)\" style=\"width: 20px; height: 20px;background-color: rgb(0, 210, 240);\"></td><td title=\"Index: [2, 5]&#10;Color: (0, 210, 240)\" style=\"width: 20px; height: 20px;background-color: rgb(0, 210, 240);\"></td><td title=\"Index: [2, 6]&#10;Color: (0, 210, 240)\" style=\"width: 20px; height: 20px;background-color: rgb(0, 210, 240);\"></td><td title=\"Index: [2, 7]&#10;Color: (0, 210, 240)\" style=\"width: 20px; height: 20px;background-color: rgb(0, 210, 240);\"></td></tr><tr><td title=\"Index: [3, 0]&#10;Color: (0, 210, 240)\" style=\"width: 20px; height: 20px;background-color: rgb(0, 210, 240);\"></td><td title=\"Index: [3, 1]&#10;Color: (0, 210, 240)\" style=\"width: 20px; height: 20px;background-color: rgb(0, 210, 240);\"></td><td title=\"Index: [3, 2]&#10;Color: (0, 210, 240)\" style=\"width: 20px; height: 20px;background-color: rgb(0, 210, 240);\"></td><td title=\"Index: [3, 3]&#10;Color: (0, 210, 240)\" style=\"width: 20px; height: 20px;background-color: rgb(0, 210, 240);\"></td><td title=\"Index: [3, 4]&#10;Color: (0, 210, 240)\" style=\"width: 20px; height: 20px;background-color: rgb(0, 210, 240);\"></td><td title=\"Index: [3, 5]&#10;Color: (0, 210, 240)\" style=\"width: 20px; height: 20px;background-color: rgb(0, 210, 240);\"></td><td title=\"Index: [3, 6]&#10;Color: (0, 210, 240)\" style=\"width: 20px; height: 20px;background-color: rgb(0, 210, 240);\"></td><td title=\"Index: [3, 7]&#10;Color: (0, 210, 240)\" style=\"width: 20px; height: 20px;background-color: rgb(0, 210, 240);\"></td></tr><tr><td title=\"Index: [4, 0]&#10;Color: (0, 210, 240)\" style=\"width: 20px; height: 20px;background-color: rgb(0, 210, 240);\"></td><td title=\"Index: [4, 1]&#10;Color: (0, 210, 240)\" style=\"width: 20px; height: 20px;background-color: rgb(0, 210, 240);\"></td><td title=\"Index: [4, 2]&#10;Color: (0, 210, 240)\" style=\"width: 20px; height: 20px;background-color: rgb(0, 210, 240);\"></td><td title=\"Index: [4, 3]&#10;Color: (0, 210, 240)\" style=\"width: 20px; height: 20px;background-color: rgb(0, 210, 240);\"></td><td title=\"Index: [4, 4]&#10;Color: (0, 210, 240)\" style=\"width: 20px; height: 20px;background-color: rgb(0, 210, 240);\"></td><td title=\"Index: [4, 5]&#10;Color: (0, 210, 240)\" style=\"width: 20px; height: 20px;background-color: rgb(0, 210, 240);\"></td><td title=\"Index: [4, 6]&#10;Color: (0, 210, 240)\" style=\"width: 20px; height: 20px;background-color: rgb(0, 210, 240);\"></td><td title=\"Index: [4, 7]&#10;Color: (0, 210, 240)\" style=\"width: 20px; height: 20px;background-color: rgb(0, 210, 240);\"></td></tr><tr><td title=\"Index: [5, 0]&#10;Color: (0, 210, 240)\" style=\"width: 20px; height: 20px;background-color: rgb(0, 210, 240);\"></td><td title=\"Index: [5, 1]&#10;Color: (0, 210, 240)\" style=\"width: 20px; height: 20px;background-color: rgb(0, 210, 240);\"></td><td title=\"Index: [5, 2]&#10;Color: (0, 210, 240)\" style=\"width: 20px; height: 20px;background-color: rgb(0, 210, 240);\"></td><td title=\"Index: [5, 3]&#10;Color: (0, 210, 240)\" style=\"width: 20px; height: 20px;background-color: rgb(0, 210, 240);\"></td><td title=\"Index: [5, 4]&#10;Color: (0, 210, 240)\" style=\"width: 20px; height: 20px;background-color: rgb(0, 210, 240);\"></td><td title=\"Index: [5, 5]&#10;Color: (0, 210, 240)\" style=\"width: 20px; height: 20px;background-color: rgb(0, 210, 240);\"></td><td title=\"Index: [5, 6]&#10;Color: (0, 210, 240)\" style=\"width: 20px; height: 20px;background-color: rgb(0, 210, 240);\"></td><td title=\"Index: [5, 7]&#10;Color: (0, 210, 240)\" style=\"width: 20px; height: 20px;background-color: rgb(0, 210, 240);\"></td></tr><tr><td title=\"Index: [6, 0]&#10;Color: (0, 210, 240)\" style=\"width: 20px; height: 20px;background-color: rgb(0, 210, 240);\"></td><td title=\"Index: [6, 1]&#10;Color: (0, 210, 240)\" style=\"width: 20px; height: 20px;background-color: rgb(0, 210, 240);\"></td><td title=\"Index: [6, 2]&#10;Color: (0, 210, 240)\" style=\"width: 20px; height: 20px;background-color: rgb(0, 210, 240);\"></td><td title=\"Index: [6, 3]&#10;Color: (0, 210, 240)\" style=\"width: 20px; height: 20px;background-color: rgb(0, 210, 240);\"></td><td title=\"Index: [6, 4]&#10;Color: (0, 210, 240)\" style=\"width: 20px; height: 20px;background-color: rgb(0, 210, 240);\"></td><td title=\"Index: [6, 5]&#10;Color: (0, 210, 240)\" style=\"width: 20px; height: 20px;background-color: rgb(0, 210, 240);\"></td><td title=\"Index: [6, 6]&#10;Color: (0, 210, 240)\" style=\"width: 20px; height: 20px;background-color: rgb(0, 210, 240);\"></td><td title=\"Index: [6, 7]&#10;Color: (0, 210, 240)\" style=\"width: 20px; height: 20px;background-color: rgb(0, 210, 240);\"></td></tr><tr><td title=\"Index: [7, 0]&#10;Color: (0, 210, 240)\" style=\"width: 20px; height: 20px;background-color: rgb(0, 210, 240);\"></td><td title=\"Index: [7, 1]&#10;Color: (0, 210, 240)\" style=\"width: 20px; height: 20px;background-color: rgb(0, 210, 240);\"></td><td title=\"Index: [7, 2]&#10;Color: (0, 210, 240)\" style=\"width: 20px; height: 20px;background-color: rgb(0, 210, 240);\"></td><td title=\"Index: [7, 3]&#10;Color: (0, 210, 240)\" style=\"width: 20px; height: 20px;background-color: rgb(0, 210, 240);\"></td><td title=\"Index: [7, 4]&#10;Color: (0, 210, 240)\" style=\"width: 20px; height: 20px;background-color: rgb(0, 210, 240);\"></td><td title=\"Index: [7, 5]&#10;Color: (0, 210, 240)\" style=\"width: 20px; height: 20px;background-color: rgb(0, 210, 240);\"></td><td title=\"Index: [7, 6]&#10;Color: (0, 210, 240)\" style=\"width: 20px; height: 20px;background-color: rgb(0, 210, 240);\"></td><td title=\"Index: [7, 7]&#10;Color: (0, 210, 240)\" style=\"width: 20px; height: 20px;background-color: rgb(0, 210, 240);\"></td></tr></tbody></table>"
       ],
       "metadata": {},
       "output_type": "display_data",
       "text": [
        "<IPython.core.display.HTML at 0x4005668>"
       ]
      },
      {
       "output_type": "stream",
       "stream": "stdout",
       "text": [
        "4\n",
        "5\n",
        "6\n",
        "Turn 1 out of 8\n"
       ]
      },
      {
       "name": "stdout",
       "output_type": "stream",
       "stream": "stdout",
       "text": [
        "Guess Row:1\n"
       ]
      },
      {
       "name": "stdout",
       "output_type": "stream",
       "stream": "stdout",
       "text": [
        "Guess Col:1\n"
       ]
      },
      {
       "output_type": "stream",
       "stream": "stdout",
       "text": [
        "You missed my battleship!\n"
       ]
      },
      {
       "html": [
        "<style type=\"text/css\">table.blockgrid {border: none;} .blockgrid tr {border: none;} .blockgrid td {padding: 0px;} #blocks4d0ffb3f-5b42-4d1b-945d-cc8d59e79488 td {border: 1px solid white;}</style><table id=\"blocks4d0ffb3f-5b42-4d1b-945d-cc8d59e79488\" class=\"blockgrid\"><tbody><tr><td title=\"Index: [0, 0]&#10;Color: (0, 210, 240)\" style=\"width: 20px; height: 20px;background-color: rgb(0, 210, 240);\"></td><td title=\"Index: [0, 1]&#10;Color: (0, 210, 240)\" style=\"width: 20px; height: 20px;background-color: rgb(0, 210, 240);\"></td><td title=\"Index: [0, 2]&#10;Color: (0, 210, 240)\" style=\"width: 20px; height: 20px;background-color: rgb(0, 210, 240);\"></td><td title=\"Index: [0, 3]&#10;Color: (0, 210, 240)\" style=\"width: 20px; height: 20px;background-color: rgb(0, 210, 240);\"></td><td title=\"Index: [0, 4]&#10;Color: (0, 210, 240)\" style=\"width: 20px; height: 20px;background-color: rgb(0, 210, 240);\"></td><td title=\"Index: [0, 5]&#10;Color: (0, 210, 240)\" style=\"width: 20px; height: 20px;background-color: rgb(0, 210, 240);\"></td><td title=\"Index: [0, 6]&#10;Color: (0, 210, 240)\" style=\"width: 20px; height: 20px;background-color: rgb(0, 210, 240);\"></td><td title=\"Index: [0, 7]&#10;Color: (0, 210, 240)\" style=\"width: 20px; height: 20px;background-color: rgb(0, 210, 240);\"></td></tr><tr><td title=\"Index: [1, 0]&#10;Color: (0, 210, 240)\" style=\"width: 20px; height: 20px;background-color: rgb(0, 210, 240);\"></td><td title=\"Index: [1, 1]&#10;Color: (150, 0, 250)\" style=\"width: 20px; height: 20px;background-color: rgb(150, 0, 250);\"></td><td title=\"Index: [1, 2]&#10;Color: (0, 210, 240)\" style=\"width: 20px; height: 20px;background-color: rgb(0, 210, 240);\"></td><td title=\"Index: [1, 3]&#10;Color: (0, 210, 240)\" style=\"width: 20px; height: 20px;background-color: rgb(0, 210, 240);\"></td><td title=\"Index: [1, 4]&#10;Color: (0, 210, 240)\" style=\"width: 20px; height: 20px;background-color: rgb(0, 210, 240);\"></td><td title=\"Index: [1, 5]&#10;Color: (0, 210, 240)\" style=\"width: 20px; height: 20px;background-color: rgb(0, 210, 240);\"></td><td title=\"Index: [1, 6]&#10;Color: (0, 210, 240)\" style=\"width: 20px; height: 20px;background-color: rgb(0, 210, 240);\"></td><td title=\"Index: [1, 7]&#10;Color: (0, 210, 240)\" style=\"width: 20px; height: 20px;background-color: rgb(0, 210, 240);\"></td></tr><tr><td title=\"Index: [2, 0]&#10;Color: (0, 210, 240)\" style=\"width: 20px; height: 20px;background-color: rgb(0, 210, 240);\"></td><td title=\"Index: [2, 1]&#10;Color: (0, 210, 240)\" style=\"width: 20px; height: 20px;background-color: rgb(0, 210, 240);\"></td><td title=\"Index: [2, 2]&#10;Color: (0, 210, 240)\" style=\"width: 20px; height: 20px;background-color: rgb(0, 210, 240);\"></td><td title=\"Index: [2, 3]&#10;Color: (0, 210, 240)\" style=\"width: 20px; height: 20px;background-color: rgb(0, 210, 240);\"></td><td title=\"Index: [2, 4]&#10;Color: (0, 210, 240)\" style=\"width: 20px; height: 20px;background-color: rgb(0, 210, 240);\"></td><td title=\"Index: [2, 5]&#10;Color: (0, 210, 240)\" style=\"width: 20px; height: 20px;background-color: rgb(0, 210, 240);\"></td><td title=\"Index: [2, 6]&#10;Color: (0, 210, 240)\" style=\"width: 20px; height: 20px;background-color: rgb(0, 210, 240);\"></td><td title=\"Index: [2, 7]&#10;Color: (0, 210, 240)\" style=\"width: 20px; height: 20px;background-color: rgb(0, 210, 240);\"></td></tr><tr><td title=\"Index: [3, 0]&#10;Color: (0, 210, 240)\" style=\"width: 20px; height: 20px;background-color: rgb(0, 210, 240);\"></td><td title=\"Index: [3, 1]&#10;Color: (0, 210, 240)\" style=\"width: 20px; height: 20px;background-color: rgb(0, 210, 240);\"></td><td title=\"Index: [3, 2]&#10;Color: (0, 210, 240)\" style=\"width: 20px; height: 20px;background-color: rgb(0, 210, 240);\"></td><td title=\"Index: [3, 3]&#10;Color: (0, 210, 240)\" style=\"width: 20px; height: 20px;background-color: rgb(0, 210, 240);\"></td><td title=\"Index: [3, 4]&#10;Color: (0, 210, 240)\" style=\"width: 20px; height: 20px;background-color: rgb(0, 210, 240);\"></td><td title=\"Index: [3, 5]&#10;Color: (0, 210, 240)\" style=\"width: 20px; height: 20px;background-color: rgb(0, 210, 240);\"></td><td title=\"Index: [3, 6]&#10;Color: (0, 210, 240)\" style=\"width: 20px; height: 20px;background-color: rgb(0, 210, 240);\"></td><td title=\"Index: [3, 7]&#10;Color: (0, 210, 240)\" style=\"width: 20px; height: 20px;background-color: rgb(0, 210, 240);\"></td></tr><tr><td title=\"Index: [4, 0]&#10;Color: (0, 210, 240)\" style=\"width: 20px; height: 20px;background-color: rgb(0, 210, 240);\"></td><td title=\"Index: [4, 1]&#10;Color: (0, 210, 240)\" style=\"width: 20px; height: 20px;background-color: rgb(0, 210, 240);\"></td><td title=\"Index: [4, 2]&#10;Color: (0, 210, 240)\" style=\"width: 20px; height: 20px;background-color: rgb(0, 210, 240);\"></td><td title=\"Index: [4, 3]&#10;Color: (0, 210, 240)\" style=\"width: 20px; height: 20px;background-color: rgb(0, 210, 240);\"></td><td title=\"Index: [4, 4]&#10;Color: (0, 210, 240)\" style=\"width: 20px; height: 20px;background-color: rgb(0, 210, 240);\"></td><td title=\"Index: [4, 5]&#10;Color: (0, 210, 240)\" style=\"width: 20px; height: 20px;background-color: rgb(0, 210, 240);\"></td><td title=\"Index: [4, 6]&#10;Color: (0, 210, 240)\" style=\"width: 20px; height: 20px;background-color: rgb(0, 210, 240);\"></td><td title=\"Index: [4, 7]&#10;Color: (0, 210, 240)\" style=\"width: 20px; height: 20px;background-color: rgb(0, 210, 240);\"></td></tr><tr><td title=\"Index: [5, 0]&#10;Color: (0, 210, 240)\" style=\"width: 20px; height: 20px;background-color: rgb(0, 210, 240);\"></td><td title=\"Index: [5, 1]&#10;Color: (0, 210, 240)\" style=\"width: 20px; height: 20px;background-color: rgb(0, 210, 240);\"></td><td title=\"Index: [5, 2]&#10;Color: (0, 210, 240)\" style=\"width: 20px; height: 20px;background-color: rgb(0, 210, 240);\"></td><td title=\"Index: [5, 3]&#10;Color: (0, 210, 240)\" style=\"width: 20px; height: 20px;background-color: rgb(0, 210, 240);\"></td><td title=\"Index: [5, 4]&#10;Color: (0, 210, 240)\" style=\"width: 20px; height: 20px;background-color: rgb(0, 210, 240);\"></td><td title=\"Index: [5, 5]&#10;Color: (0, 210, 240)\" style=\"width: 20px; height: 20px;background-color: rgb(0, 210, 240);\"></td><td title=\"Index: [5, 6]&#10;Color: (0, 210, 240)\" style=\"width: 20px; height: 20px;background-color: rgb(0, 210, 240);\"></td><td title=\"Index: [5, 7]&#10;Color: (0, 210, 240)\" style=\"width: 20px; height: 20px;background-color: rgb(0, 210, 240);\"></td></tr><tr><td title=\"Index: [6, 0]&#10;Color: (0, 210, 240)\" style=\"width: 20px; height: 20px;background-color: rgb(0, 210, 240);\"></td><td title=\"Index: [6, 1]&#10;Color: (0, 210, 240)\" style=\"width: 20px; height: 20px;background-color: rgb(0, 210, 240);\"></td><td title=\"Index: [6, 2]&#10;Color: (0, 210, 240)\" style=\"width: 20px; height: 20px;background-color: rgb(0, 210, 240);\"></td><td title=\"Index: [6, 3]&#10;Color: (0, 210, 240)\" style=\"width: 20px; height: 20px;background-color: rgb(0, 210, 240);\"></td><td title=\"Index: [6, 4]&#10;Color: (0, 210, 240)\" style=\"width: 20px; height: 20px;background-color: rgb(0, 210, 240);\"></td><td title=\"Index: [6, 5]&#10;Color: (0, 210, 240)\" style=\"width: 20px; height: 20px;background-color: rgb(0, 210, 240);\"></td><td title=\"Index: [6, 6]&#10;Color: (0, 210, 240)\" style=\"width: 20px; height: 20px;background-color: rgb(0, 210, 240);\"></td><td title=\"Index: [6, 7]&#10;Color: (0, 210, 240)\" style=\"width: 20px; height: 20px;background-color: rgb(0, 210, 240);\"></td></tr><tr><td title=\"Index: [7, 0]&#10;Color: (0, 210, 240)\" style=\"width: 20px; height: 20px;background-color: rgb(0, 210, 240);\"></td><td title=\"Index: [7, 1]&#10;Color: (0, 210, 240)\" style=\"width: 20px; height: 20px;background-color: rgb(0, 210, 240);\"></td><td title=\"Index: [7, 2]&#10;Color: (0, 210, 240)\" style=\"width: 20px; height: 20px;background-color: rgb(0, 210, 240);\"></td><td title=\"Index: [7, 3]&#10;Color: (0, 210, 240)\" style=\"width: 20px; height: 20px;background-color: rgb(0, 210, 240);\"></td><td title=\"Index: [7, 4]&#10;Color: (0, 210, 240)\" style=\"width: 20px; height: 20px;background-color: rgb(0, 210, 240);\"></td><td title=\"Index: [7, 5]&#10;Color: (0, 210, 240)\" style=\"width: 20px; height: 20px;background-color: rgb(0, 210, 240);\"></td><td title=\"Index: [7, 6]&#10;Color: (0, 210, 240)\" style=\"width: 20px; height: 20px;background-color: rgb(0, 210, 240);\"></td><td title=\"Index: [7, 7]&#10;Color: (0, 210, 240)\" style=\"width: 20px; height: 20px;background-color: rgb(0, 210, 240);\"></td></tr></tbody></table>"
       ],
       "metadata": {},
       "output_type": "display_data",
       "text": [
        "<IPython.core.display.HTML at 0x400ac18>"
       ]
      },
      {
       "output_type": "stream",
       "stream": "stdout",
       "text": [
        "Turn 2 out of 8\n"
       ]
      },
      {
       "name": "stdout",
       "output_type": "stream",
       "stream": "stdout",
       "text": [
        "Guess Row:1\n"
       ]
      },
      {
       "name": "stdout",
       "output_type": "stream",
       "stream": "stdout",
       "text": [
        "Guess Col:1\n"
       ]
      },
      {
       "output_type": "stream",
       "stream": "stdout",
       "text": [
        "You guessed that one already.\n",
        "Turn 3 out of 8\n"
       ]
      },
      {
       "name": "stdout",
       "output_type": "stream",
       "stream": "stdout",
       "text": [
        "Guess Row:1\n"
       ]
      },
      {
       "name": "stdout",
       "output_type": "stream",
       "stream": "stdout",
       "text": [
        "Guess Col:1\n"
       ]
      },
      {
       "output_type": "stream",
       "stream": "stdout",
       "text": [
        "You guessed that one already.\n",
        "Turn 4 out of 8\n"
       ]
      },
      {
       "name": "stdout",
       "output_type": "stream",
       "stream": "stdout",
       "text": [
        "Guess Row:1\n"
       ]
      },
      {
       "name": "stdout",
       "output_type": "stream",
       "stream": "stdout",
       "text": [
        "Guess Col:1\n"
       ]
      },
      {
       "output_type": "stream",
       "stream": "stdout",
       "text": [
        "You guessed that one already.\n",
        "Turn 5 out of 8\n"
       ]
      },
      {
       "name": "stdout",
       "output_type": "stream",
       "stream": "stdout",
       "text": [
        "Guess Row:1\n"
       ]
      },
      {
       "name": "stdout",
       "output_type": "stream",
       "stream": "stdout",
       "text": [
        "Guess Col:1\n"
       ]
      },
      {
       "output_type": "stream",
       "stream": "stdout",
       "text": [
        "You guessed that one already.\n",
        "Turn 6 out of 8\n"
       ]
      },
      {
       "name": "stdout",
       "output_type": "stream",
       "stream": "stdout",
       "text": [
        "Guess Row:1\n"
       ]
      },
      {
       "name": "stdout",
       "output_type": "stream",
       "stream": "stdout",
       "text": [
        "Guess Col:1\n"
       ]
      },
      {
       "output_type": "stream",
       "stream": "stdout",
       "text": [
        "You guessed that one already.\n",
        "Turn 7 out of 8\n"
       ]
      },
      {
       "name": "stdout",
       "output_type": "stream",
       "stream": "stdout",
       "text": [
        "Guess Row:1\n"
       ]
      },
      {
       "name": "stdout",
       "output_type": "stream",
       "stream": "stdout",
       "text": [
        "Guess Col:1\n"
       ]
      },
      {
       "output_type": "stream",
       "stream": "stdout",
       "text": [
        "You guessed that one already.\n",
        "Turn 8 out of 8\n"
       ]
      },
      {
       "name": "stdout",
       "output_type": "stream",
       "stream": "stdout",
       "text": [
        "Guess Row:1\n"
       ]
      },
      {
       "name": "stdout",
       "output_type": "stream",
       "stream": "stdout",
       "text": [
        "Guess Col:1\n"
       ]
      },
      {
       "output_type": "stream",
       "stream": "stdout",
       "text": [
        "You guessed that one already.\n",
        "I'm sorry, but you lost.\n"
       ]
      },
      {
       "html": [
        "<style type=\"text/css\">table.blockgrid {border: none;} .blockgrid tr {border: none;} .blockgrid td {padding: 0px;} #blocks8c6e989d-6186-4851-ade5-d58ab21ce0f4 td {border: 1px solid white;}</style><table id=\"blocks8c6e989d-6186-4851-ade5-d58ab21ce0f4\" class=\"blockgrid\"><tbody><tr><td title=\"Index: [0, 0]&#10;Color: (0, 210, 240)\" style=\"width: 20px; height: 20px;background-color: rgb(0, 210, 240);\"></td><td title=\"Index: [0, 1]&#10;Color: (0, 210, 240)\" style=\"width: 20px; height: 20px;background-color: rgb(0, 210, 240);\"></td><td title=\"Index: [0, 2]&#10;Color: (0, 210, 240)\" style=\"width: 20px; height: 20px;background-color: rgb(0, 210, 240);\"></td><td title=\"Index: [0, 3]&#10;Color: (0, 210, 240)\" style=\"width: 20px; height: 20px;background-color: rgb(0, 210, 240);\"></td><td title=\"Index: [0, 4]&#10;Color: (0, 210, 240)\" style=\"width: 20px; height: 20px;background-color: rgb(0, 210, 240);\"></td><td title=\"Index: [0, 5]&#10;Color: (0, 210, 240)\" style=\"width: 20px; height: 20px;background-color: rgb(0, 210, 240);\"></td><td title=\"Index: [0, 6]&#10;Color: (0, 210, 240)\" style=\"width: 20px; height: 20px;background-color: rgb(0, 210, 240);\"></td><td title=\"Index: [0, 7]&#10;Color: (0, 210, 240)\" style=\"width: 20px; height: 20px;background-color: rgb(0, 210, 240);\"></td></tr><tr><td title=\"Index: [1, 0]&#10;Color: (0, 210, 240)\" style=\"width: 20px; height: 20px;background-color: rgb(0, 210, 240);\"></td><td title=\"Index: [1, 1]&#10;Color: (150, 0, 250)\" style=\"width: 20px; height: 20px;background-color: rgb(150, 0, 250);\"></td><td title=\"Index: [1, 2]&#10;Color: (0, 210, 240)\" style=\"width: 20px; height: 20px;background-color: rgb(0, 210, 240);\"></td><td title=\"Index: [1, 3]&#10;Color: (0, 210, 240)\" style=\"width: 20px; height: 20px;background-color: rgb(0, 210, 240);\"></td><td title=\"Index: [1, 4]&#10;Color: (0, 210, 240)\" style=\"width: 20px; height: 20px;background-color: rgb(0, 210, 240);\"></td><td title=\"Index: [1, 5]&#10;Color: (0, 210, 240)\" style=\"width: 20px; height: 20px;background-color: rgb(0, 210, 240);\"></td><td title=\"Index: [1, 6]&#10;Color: (0, 210, 240)\" style=\"width: 20px; height: 20px;background-color: rgb(0, 210, 240);\"></td><td title=\"Index: [1, 7]&#10;Color: (0, 210, 240)\" style=\"width: 20px; height: 20px;background-color: rgb(0, 210, 240);\"></td></tr><tr><td title=\"Index: [2, 0]&#10;Color: (0, 210, 240)\" style=\"width: 20px; height: 20px;background-color: rgb(0, 210, 240);\"></td><td title=\"Index: [2, 1]&#10;Color: (0, 210, 240)\" style=\"width: 20px; height: 20px;background-color: rgb(0, 210, 240);\"></td><td title=\"Index: [2, 2]&#10;Color: (0, 210, 240)\" style=\"width: 20px; height: 20px;background-color: rgb(0, 210, 240);\"></td><td title=\"Index: [2, 3]&#10;Color: (0, 210, 240)\" style=\"width: 20px; height: 20px;background-color: rgb(0, 210, 240);\"></td><td title=\"Index: [2, 4]&#10;Color: (0, 210, 240)\" style=\"width: 20px; height: 20px;background-color: rgb(0, 210, 240);\"></td><td title=\"Index: [2, 5]&#10;Color: (0, 210, 240)\" style=\"width: 20px; height: 20px;background-color: rgb(0, 210, 240);\"></td><td title=\"Index: [2, 6]&#10;Color: (0, 210, 240)\" style=\"width: 20px; height: 20px;background-color: rgb(0, 210, 240);\"></td><td title=\"Index: [2, 7]&#10;Color: (0, 210, 240)\" style=\"width: 20px; height: 20px;background-color: rgb(0, 210, 240);\"></td></tr><tr><td title=\"Index: [3, 0]&#10;Color: (0, 210, 240)\" style=\"width: 20px; height: 20px;background-color: rgb(0, 210, 240);\"></td><td title=\"Index: [3, 1]&#10;Color: (0, 210, 240)\" style=\"width: 20px; height: 20px;background-color: rgb(0, 210, 240);\"></td><td title=\"Index: [3, 2]&#10;Color: (0, 210, 240)\" style=\"width: 20px; height: 20px;background-color: rgb(0, 210, 240);\"></td><td title=\"Index: [3, 3]&#10;Color: (0, 210, 240)\" style=\"width: 20px; height: 20px;background-color: rgb(0, 210, 240);\"></td><td title=\"Index: [3, 4]&#10;Color: (0, 210, 240)\" style=\"width: 20px; height: 20px;background-color: rgb(0, 210, 240);\"></td><td title=\"Index: [3, 5]&#10;Color: (0, 210, 240)\" style=\"width: 20px; height: 20px;background-color: rgb(0, 210, 240);\"></td><td title=\"Index: [3, 6]&#10;Color: (0, 210, 240)\" style=\"width: 20px; height: 20px;background-color: rgb(0, 210, 240);\"></td><td title=\"Index: [3, 7]&#10;Color: (0, 210, 240)\" style=\"width: 20px; height: 20px;background-color: rgb(0, 210, 240);\"></td></tr><tr><td title=\"Index: [4, 0]&#10;Color: (0, 210, 240)\" style=\"width: 20px; height: 20px;background-color: rgb(0, 210, 240);\"></td><td title=\"Index: [4, 1]&#10;Color: (0, 210, 240)\" style=\"width: 20px; height: 20px;background-color: rgb(0, 210, 240);\"></td><td title=\"Index: [4, 2]&#10;Color: (0, 210, 240)\" style=\"width: 20px; height: 20px;background-color: rgb(0, 210, 240);\"></td><td title=\"Index: [4, 3]&#10;Color: (0, 210, 240)\" style=\"width: 20px; height: 20px;background-color: rgb(0, 210, 240);\"></td><td title=\"Index: [4, 4]&#10;Color: (0, 210, 240)\" style=\"width: 20px; height: 20px;background-color: rgb(0, 210, 240);\"></td><td title=\"Index: [4, 5]&#10;Color: (0, 210, 240)\" style=\"width: 20px; height: 20px;background-color: rgb(0, 210, 240);\"></td><td title=\"Index: [4, 6]&#10;Color: (0, 150, 150)\" style=\"width: 20px; height: 20px;background-color: rgb(0, 150, 150);\"></td><td title=\"Index: [4, 7]&#10;Color: (0, 210, 240)\" style=\"width: 20px; height: 20px;background-color: rgb(0, 210, 240);\"></td></tr><tr><td title=\"Index: [5, 0]&#10;Color: (0, 210, 240)\" style=\"width: 20px; height: 20px;background-color: rgb(0, 210, 240);\"></td><td title=\"Index: [5, 1]&#10;Color: (0, 210, 240)\" style=\"width: 20px; height: 20px;background-color: rgb(0, 210, 240);\"></td><td title=\"Index: [5, 2]&#10;Color: (0, 210, 240)\" style=\"width: 20px; height: 20px;background-color: rgb(0, 210, 240);\"></td><td title=\"Index: [5, 3]&#10;Color: (0, 210, 240)\" style=\"width: 20px; height: 20px;background-color: rgb(0, 210, 240);\"></td><td title=\"Index: [5, 4]&#10;Color: (0, 210, 240)\" style=\"width: 20px; height: 20px;background-color: rgb(0, 210, 240);\"></td><td title=\"Index: [5, 5]&#10;Color: (0, 210, 240)\" style=\"width: 20px; height: 20px;background-color: rgb(0, 210, 240);\"></td><td title=\"Index: [5, 6]&#10;Color: (0, 150, 150)\" style=\"width: 20px; height: 20px;background-color: rgb(0, 150, 150);\"></td><td title=\"Index: [5, 7]&#10;Color: (0, 210, 240)\" style=\"width: 20px; height: 20px;background-color: rgb(0, 210, 240);\"></td></tr><tr><td title=\"Index: [6, 0]&#10;Color: (0, 210, 240)\" style=\"width: 20px; height: 20px;background-color: rgb(0, 210, 240);\"></td><td title=\"Index: [6, 1]&#10;Color: (0, 210, 240)\" style=\"width: 20px; height: 20px;background-color: rgb(0, 210, 240);\"></td><td title=\"Index: [6, 2]&#10;Color: (0, 210, 240)\" style=\"width: 20px; height: 20px;background-color: rgb(0, 210, 240);\"></td><td title=\"Index: [6, 3]&#10;Color: (0, 210, 240)\" style=\"width: 20px; height: 20px;background-color: rgb(0, 210, 240);\"></td><td title=\"Index: [6, 4]&#10;Color: (0, 210, 240)\" style=\"width: 20px; height: 20px;background-color: rgb(0, 210, 240);\"></td><td title=\"Index: [6, 5]&#10;Color: (0, 210, 240)\" style=\"width: 20px; height: 20px;background-color: rgb(0, 210, 240);\"></td><td title=\"Index: [6, 6]&#10;Color: (0, 210, 240)\" style=\"width: 20px; height: 20px;background-color: rgb(0, 210, 240);\"></td><td title=\"Index: [6, 7]&#10;Color: (0, 210, 240)\" style=\"width: 20px; height: 20px;background-color: rgb(0, 210, 240);\"></td></tr><tr><td title=\"Index: [7, 0]&#10;Color: (0, 210, 240)\" style=\"width: 20px; height: 20px;background-color: rgb(0, 210, 240);\"></td><td title=\"Index: [7, 1]&#10;Color: (0, 210, 240)\" style=\"width: 20px; height: 20px;background-color: rgb(0, 210, 240);\"></td><td title=\"Index: [7, 2]&#10;Color: (0, 210, 240)\" style=\"width: 20px; height: 20px;background-color: rgb(0, 210, 240);\"></td><td title=\"Index: [7, 3]&#10;Color: (0, 210, 240)\" style=\"width: 20px; height: 20px;background-color: rgb(0, 210, 240);\"></td><td title=\"Index: [7, 4]&#10;Color: (0, 210, 240)\" style=\"width: 20px; height: 20px;background-color: rgb(0, 210, 240);\"></td><td title=\"Index: [7, 5]&#10;Color: (0, 210, 240)\" style=\"width: 20px; height: 20px;background-color: rgb(0, 210, 240);\"></td><td title=\"Index: [7, 6]&#10;Color: (0, 210, 240)\" style=\"width: 20px; height: 20px;background-color: rgb(0, 210, 240);\"></td><td title=\"Index: [7, 7]&#10;Color: (0, 210, 240)\" style=\"width: 20px; height: 20px;background-color: rgb(0, 210, 240);\"></td></tr></tbody></table>"
       ],
       "metadata": {},
       "output_type": "display_data",
       "text": [
        "<IPython.core.display.HTML at 0x400ada0>"
       ]
      },
      {
       "output_type": "stream",
       "stream": "stdout",
       "text": [
        "The green box is where my battleship was.\n"
       ]
      }
     ],
     "prompt_number": 20
    },
    {
     "cell_type": "code",
     "collapsed": false,
     "input": [],
     "language": "python",
     "metadata": {},
     "outputs": []
    }
   ],
   "metadata": {}
  }
 ]
}