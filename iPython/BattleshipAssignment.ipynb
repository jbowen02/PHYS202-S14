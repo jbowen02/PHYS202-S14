{
 "metadata": {
  "name": "",
  "signature": "sha256:fe08ceea40ce25fa46e77f9d379a757dcd2ee46cfb7ea22967475dba398429f6"
 },
 "nbformat": 3,
 "nbformat_minor": 0,
 "worksheets": [
  {
   "cells": [
    {
     "cell_type": "heading",
     "level": 1,
     "metadata": {},
     "source": [
      "Battleship! Assignment"
     ]
    },
    {
     "cell_type": "markdown",
     "metadata": {},
     "source": [
      "To run this code, select In [19] and press shift enter. The code will generate a random 2x1 ship on an 8x8 grid. You have 8 guesses to hit the ship before the game is over.\n",
      "\n",
      "Misses are denoted by a purple block on the grid, while hits are denoted by a red block.\n",
      "\n",
      "The game will not let you hit a square outside the grid, and will alert you if you hit a square you already tried to hit before.\n",
      "\n",
      "If the player loses the game, a grid will show where the battleship was, denoted by green blocks.\n",
      "\n",
      "If you want to test winning the game, you can delete the commented-out print statements on lines 33-35 that will tell you where the battleship is located."
     ]
    },
    {
     "cell_type": "code",
     "collapsed": false,
     "input": [
      "from random import randint\n",
      "from ipythonblocks import BlockGrid\n",
      "\n",
      "board = []\n",
      "\n",
      "for x in range(8):\n",
      "    board.append([\"O\"] * 8)\n",
      "\n",
      "def print_board(board):\n",
      "    for row in board:\n",
      "        print \" \".join(row)\n",
      "\n",
      "grid = BlockGrid(8, 8, fill=(0, 210, 240))\n",
      "\n",
      "print \"Do you want to play a game of battleship?\"\n",
      "print \"Enter coordinates.\"\n",
      "grid.show()\n",
      "\n",
      "def random_row_1(grid):\n",
      "    return randint(0, 6)\n",
      "\n",
      "ship_row_1 = random_row_1(grid)\n",
      "\n",
      "def random_row_2(grid):\n",
      "    return ship_row_1 + 1\n",
      "\n",
      "ship_row_2 = random_row_2(grid)\n",
      "\n",
      "def random_col(grid):\n",
      "    return randint(0, 7)\n",
      "\n",
      "ship_col = random_col(grid)\n",
      "\n",
      "\"\"\"print ship_row_1\n",
      "print ship_row_2\n",
      "print ship_col\"\"\"\n",
      "\n",
      "for turn in range(8):\n",
      "    print \"Turn %s out of 8\" % (turn + 1)\n",
      "    guess_row = int(raw_input(\"Guess Row:\"))\n",
      "    guess_col = int(raw_input(\"Guess Col:\"))\n",
      "    \n",
      "    if (guess_row == ship_row_1 or guess_row == ship_row_2) and guess_col == ship_col:\n",
      "        if (board[guess_row][guess_col] == \"X\"):\n",
      "            print \"You guessed that one already.\"\n",
      "        else:\n",
      "            print \"Whoah, you hit my battleship!\"\n",
      "            board[guess_row][guess_col] = \"X\"\n",
      "            grid[guess_row, guess_col] = (250, 0, 0)\n",
      "            grid.show()\n",
      "            if board[ship_row_1][ship_col] == \"X\" and board[ship_row_2][ship_col] == \"X\":\n",
      "                print \"Congratulations! You sunk my battleship!\"\n",
      "                grid[guess_row, guess_col] = (250, 0, 0)\n",
      "                grid.show()\n",
      "                break\n",
      "            if turn == 7:\n",
      "                print \"I'm sorry, but you lost.\"\n",
      "    else:\n",
      "        if (guess_row < 0 or guess_row > 7) or (guess_col < 0 or guess_col > 7):\n",
      "            print \"Oops, that's not even in the ocean.\"\n",
      "            grid.show()\n",
      "        elif(board[guess_row][guess_col] == \"X\"):\n",
      "            print \"You guessed that one already.\"\n",
      "            if turn == 7:\n",
      "                print \"I'm sorry, but you lost.\"\n",
      "                grid[ship_row_1, ship_col] = (0, 150, 150)\n",
      "                grid[ship_row_2, ship_col] = (0, 150, 150)\n",
      "                grid.show()\n",
      "                print \"The green box is where my battleship was.\"\n",
      "        else:\n",
      "            board[guess_row][guess_col] = \"X\"\n",
      "            print \"You missed my battleship!\"\n",
      "            grid[guess_row, guess_col] = (150, 0, 250)\n",
      "            grid.show()\n",
      "            if turn == 7:\n",
      "                print \"I'm sorry, but you lost.\"\n",
      "                grid[ship_row_1, ship_col] = (0, 150, 150)\n",
      "                grid[ship_row_2, ship_col] = (0, 150, 150)\n",
      "                grid.show()\n",
      "                print \"The green box is where my battleship was.\""
     ],
     "language": "python",
     "metadata": {},
     "outputs": [
      {
       "output_type": "stream",
       "stream": "stdout",
       "text": [
        "Shall we play a game of battleship?\n"
       ]
      },
      {
       "html": [
        "<style type=\"text/css\">table.blockgrid {border: none;} .blockgrid tr {border: none;} .blockgrid td {padding: 0px;} #blocksdd9a4566-90c7-4114-b356-c923ec5dfab1 td {border: 1px solid white;}</style><table id=\"blocksdd9a4566-90c7-4114-b356-c923ec5dfab1\" class=\"blockgrid\"><tbody><tr><td title=\"Index: [0, 0]&#10;Color: (0, 210, 240)\" style=\"width: 20px; height: 20px;background-color: rgb(0, 210, 240);\"></td><td title=\"Index: [0, 1]&#10;Color: (0, 210, 240)\" style=\"width: 20px; height: 20px;background-color: rgb(0, 210, 240);\"></td><td title=\"Index: [0, 2]&#10;Color: (0, 210, 240)\" style=\"width: 20px; height: 20px;background-color: rgb(0, 210, 240);\"></td><td title=\"Index: [0, 3]&#10;Color: (0, 210, 240)\" style=\"width: 20px; height: 20px;background-color: rgb(0, 210, 240);\"></td><td title=\"Index: [0, 4]&#10;Color: (0, 210, 240)\" style=\"width: 20px; height: 20px;background-color: rgb(0, 210, 240);\"></td><td title=\"Index: [0, 5]&#10;Color: (0, 210, 240)\" style=\"width: 20px; height: 20px;background-color: rgb(0, 210, 240);\"></td><td title=\"Index: [0, 6]&#10;Color: (0, 210, 240)\" style=\"width: 20px; height: 20px;background-color: rgb(0, 210, 240);\"></td><td title=\"Index: [0, 7]&#10;Color: (0, 210, 240)\" style=\"width: 20px; height: 20px;background-color: rgb(0, 210, 240);\"></td></tr><tr><td title=\"Index: [1, 0]&#10;Color: (0, 210, 240)\" style=\"width: 20px; height: 20px;background-color: rgb(0, 210, 240);\"></td><td title=\"Index: [1, 1]&#10;Color: (0, 210, 240)\" style=\"width: 20px; height: 20px;background-color: rgb(0, 210, 240);\"></td><td title=\"Index: [1, 2]&#10;Color: (0, 210, 240)\" style=\"width: 20px; height: 20px;background-color: rgb(0, 210, 240);\"></td><td title=\"Index: [1, 3]&#10;Color: (0, 210, 240)\" style=\"width: 20px; height: 20px;background-color: rgb(0, 210, 240);\"></td><td title=\"Index: [1, 4]&#10;Color: (0, 210, 240)\" style=\"width: 20px; height: 20px;background-color: rgb(0, 210, 240);\"></td><td title=\"Index: [1, 5]&#10;Color: (0, 210, 240)\" style=\"width: 20px; height: 20px;background-color: rgb(0, 210, 240);\"></td><td title=\"Index: [1, 6]&#10;Color: (0, 210, 240)\" style=\"width: 20px; height: 20px;background-color: rgb(0, 210, 240);\"></td><td title=\"Index: [1, 7]&#10;Color: (0, 210, 240)\" style=\"width: 20px; height: 20px;background-color: rgb(0, 210, 240);\"></td></tr><tr><td title=\"Index: [2, 0]&#10;Color: (0, 210, 240)\" style=\"width: 20px; height: 20px;background-color: rgb(0, 210, 240);\"></td><td title=\"Index: [2, 1]&#10;Color: (0, 210, 240)\" style=\"width: 20px; height: 20px;background-color: rgb(0, 210, 240);\"></td><td title=\"Index: [2, 2]&#10;Color: (0, 210, 240)\" style=\"width: 20px; height: 20px;background-color: rgb(0, 210, 240);\"></td><td title=\"Index: [2, 3]&#10;Color: (0, 210, 240)\" style=\"width: 20px; height: 20px;background-color: rgb(0, 210, 240);\"></td><td title=\"Index: [2, 4]&#10;Color: (0, 210, 240)\" style=\"width: 20px; height: 20px;background-color: rgb(0, 210, 240);\"></td><td title=\"Index: [2, 5]&#10;Color: (0, 210, 240)\" style=\"width: 20px; height: 20px;background-color: rgb(0, 210, 240);\"></td><td title=\"Index: [2, 6]&#10;Color: (0, 210, 240)\" style=\"width: 20px; height: 20px;background-color: rgb(0, 210, 240);\"></td><td title=\"Index: [2, 7]&#10;Color: (0, 210, 240)\" style=\"width: 20px; height: 20px;background-color: rgb(0, 210, 240);\"></td></tr><tr><td title=\"Index: [3, 0]&#10;Color: (0, 210, 240)\" style=\"width: 20px; height: 20px;background-color: rgb(0, 210, 240);\"></td><td title=\"Index: [3, 1]&#10;Color: (0, 210, 240)\" style=\"width: 20px; height: 20px;background-color: rgb(0, 210, 240);\"></td><td title=\"Index: [3, 2]&#10;Color: (0, 210, 240)\" style=\"width: 20px; height: 20px;background-color: rgb(0, 210, 240);\"></td><td title=\"Index: [3, 3]&#10;Color: (0, 210, 240)\" style=\"width: 20px; height: 20px;background-color: rgb(0, 210, 240);\"></td><td title=\"Index: [3, 4]&#10;Color: (0, 210, 240)\" style=\"width: 20px; height: 20px;background-color: rgb(0, 210, 240);\"></td><td title=\"Index: [3, 5]&#10;Color: (0, 210, 240)\" style=\"width: 20px; height: 20px;background-color: rgb(0, 210, 240);\"></td><td title=\"Index: [3, 6]&#10;Color: (0, 210, 240)\" style=\"width: 20px; height: 20px;background-color: rgb(0, 210, 240);\"></td><td title=\"Index: [3, 7]&#10;Color: (0, 210, 240)\" style=\"width: 20px; height: 20px;background-color: rgb(0, 210, 240);\"></td></tr><tr><td title=\"Index: [4, 0]&#10;Color: (0, 210, 240)\" style=\"width: 20px; height: 20px;background-color: rgb(0, 210, 240);\"></td><td title=\"Index: [4, 1]&#10;Color: (0, 210, 240)\" style=\"width: 20px; height: 20px;background-color: rgb(0, 210, 240);\"></td><td title=\"Index: [4, 2]&#10;Color: (0, 210, 240)\" style=\"width: 20px; height: 20px;background-color: rgb(0, 210, 240);\"></td><td title=\"Index: [4, 3]&#10;Color: (0, 210, 240)\" style=\"width: 20px; height: 20px;background-color: rgb(0, 210, 240);\"></td><td title=\"Index: [4, 4]&#10;Color: (0, 210, 240)\" style=\"width: 20px; height: 20px;background-color: rgb(0, 210, 240);\"></td><td title=\"Index: [4, 5]&#10;Color: (0, 210, 240)\" style=\"width: 20px; height: 20px;background-color: rgb(0, 210, 240);\"></td><td title=\"Index: [4, 6]&#10;Color: (0, 210, 240)\" style=\"width: 20px; height: 20px;background-color: rgb(0, 210, 240);\"></td><td title=\"Index: [4, 7]&#10;Color: (0, 210, 240)\" style=\"width: 20px; height: 20px;background-color: rgb(0, 210, 240);\"></td></tr><tr><td title=\"Index: [5, 0]&#10;Color: (0, 210, 240)\" style=\"width: 20px; height: 20px;background-color: rgb(0, 210, 240);\"></td><td title=\"Index: [5, 1]&#10;Color: (0, 210, 240)\" style=\"width: 20px; height: 20px;background-color: rgb(0, 210, 240);\"></td><td title=\"Index: [5, 2]&#10;Color: (0, 210, 240)\" style=\"width: 20px; height: 20px;background-color: rgb(0, 210, 240);\"></td><td title=\"Index: [5, 3]&#10;Color: (0, 210, 240)\" style=\"width: 20px; height: 20px;background-color: rgb(0, 210, 240);\"></td><td title=\"Index: [5, 4]&#10;Color: (0, 210, 240)\" style=\"width: 20px; height: 20px;background-color: rgb(0, 210, 240);\"></td><td title=\"Index: [5, 5]&#10;Color: (0, 210, 240)\" style=\"width: 20px; height: 20px;background-color: rgb(0, 210, 240);\"></td><td title=\"Index: [5, 6]&#10;Color: (0, 210, 240)\" style=\"width: 20px; height: 20px;background-color: rgb(0, 210, 240);\"></td><td title=\"Index: [5, 7]&#10;Color: (0, 210, 240)\" style=\"width: 20px; height: 20px;background-color: rgb(0, 210, 240);\"></td></tr><tr><td title=\"Index: [6, 0]&#10;Color: (0, 210, 240)\" style=\"width: 20px; height: 20px;background-color: rgb(0, 210, 240);\"></td><td title=\"Index: [6, 1]&#10;Color: (0, 210, 240)\" style=\"width: 20px; height: 20px;background-color: rgb(0, 210, 240);\"></td><td title=\"Index: [6, 2]&#10;Color: (0, 210, 240)\" style=\"width: 20px; height: 20px;background-color: rgb(0, 210, 240);\"></td><td title=\"Index: [6, 3]&#10;Color: (0, 210, 240)\" style=\"width: 20px; height: 20px;background-color: rgb(0, 210, 240);\"></td><td title=\"Index: [6, 4]&#10;Color: (0, 210, 240)\" style=\"width: 20px; height: 20px;background-color: rgb(0, 210, 240);\"></td><td title=\"Index: [6, 5]&#10;Color: (0, 210, 240)\" style=\"width: 20px; height: 20px;background-color: rgb(0, 210, 240);\"></td><td title=\"Index: [6, 6]&#10;Color: (0, 210, 240)\" style=\"width: 20px; height: 20px;background-color: rgb(0, 210, 240);\"></td><td title=\"Index: [6, 7]&#10;Color: (0, 210, 240)\" style=\"width: 20px; height: 20px;background-color: rgb(0, 210, 240);\"></td></tr><tr><td title=\"Index: [7, 0]&#10;Color: (0, 210, 240)\" style=\"width: 20px; height: 20px;background-color: rgb(0, 210, 240);\"></td><td title=\"Index: [7, 1]&#10;Color: (0, 210, 240)\" style=\"width: 20px; height: 20px;background-color: rgb(0, 210, 240);\"></td><td title=\"Index: [7, 2]&#10;Color: (0, 210, 240)\" style=\"width: 20px; height: 20px;background-color: rgb(0, 210, 240);\"></td><td title=\"Index: [7, 3]&#10;Color: (0, 210, 240)\" style=\"width: 20px; height: 20px;background-color: rgb(0, 210, 240);\"></td><td title=\"Index: [7, 4]&#10;Color: (0, 210, 240)\" style=\"width: 20px; height: 20px;background-color: rgb(0, 210, 240);\"></td><td title=\"Index: [7, 5]&#10;Color: (0, 210, 240)\" style=\"width: 20px; height: 20px;background-color: rgb(0, 210, 240);\"></td><td title=\"Index: [7, 6]&#10;Color: (0, 210, 240)\" style=\"width: 20px; height: 20px;background-color: rgb(0, 210, 240);\"></td><td title=\"Index: [7, 7]&#10;Color: (0, 210, 240)\" style=\"width: 20px; height: 20px;background-color: rgb(0, 210, 240);\"></td></tr></tbody></table>"
       ],
       "metadata": {},
       "output_type": "display_data",
       "text": [
        "<IPython.core.display.HTML at 0x3997978>"
       ]
      },
      {
       "output_type": "stream",
       "stream": "stdout",
       "text": [
        "Turn 1 out of 8\n"
       ]
      },
      {
       "name": "stdout",
       "output_type": "stream",
       "stream": "stdout",
       "text": [
        "Guess Row:1\n"
       ]
      },
      {
       "name": "stdout",
       "output_type": "stream",
       "stream": "stdout",
       "text": [
        "Guess Col:1\n"
       ]
      },
      {
       "output_type": "stream",
       "stream": "stdout",
       "text": [
        "You missed my battleship!\n"
       ]
      },
      {
       "html": [
        "<style type=\"text/css\">table.blockgrid {border: none;} .blockgrid tr {border: none;} .blockgrid td {padding: 0px;} #blocksa3e4a9c0-32e4-4aef-8c9d-c2514e206989 td {border: 1px solid white;}</style><table id=\"blocksa3e4a9c0-32e4-4aef-8c9d-c2514e206989\" class=\"blockgrid\"><tbody><tr><td title=\"Index: [0, 0]&#10;Color: (0, 210, 240)\" style=\"width: 20px; height: 20px;background-color: rgb(0, 210, 240);\"></td><td title=\"Index: [0, 1]&#10;Color: (0, 210, 240)\" style=\"width: 20px; height: 20px;background-color: rgb(0, 210, 240);\"></td><td title=\"Index: [0, 2]&#10;Color: (0, 210, 240)\" style=\"width: 20px; height: 20px;background-color: rgb(0, 210, 240);\"></td><td title=\"Index: [0, 3]&#10;Color: (0, 210, 240)\" style=\"width: 20px; height: 20px;background-color: rgb(0, 210, 240);\"></td><td title=\"Index: [0, 4]&#10;Color: (0, 210, 240)\" style=\"width: 20px; height: 20px;background-color: rgb(0, 210, 240);\"></td><td title=\"Index: [0, 5]&#10;Color: (0, 210, 240)\" style=\"width: 20px; height: 20px;background-color: rgb(0, 210, 240);\"></td><td title=\"Index: [0, 6]&#10;Color: (0, 210, 240)\" style=\"width: 20px; height: 20px;background-color: rgb(0, 210, 240);\"></td><td title=\"Index: [0, 7]&#10;Color: (0, 210, 240)\" style=\"width: 20px; height: 20px;background-color: rgb(0, 210, 240);\"></td></tr><tr><td title=\"Index: [1, 0]&#10;Color: (0, 210, 240)\" style=\"width: 20px; height: 20px;background-color: rgb(0, 210, 240);\"></td><td title=\"Index: [1, 1]&#10;Color: (150, 0, 250)\" style=\"width: 20px; height: 20px;background-color: rgb(150, 0, 250);\"></td><td title=\"Index: [1, 2]&#10;Color: (0, 210, 240)\" style=\"width: 20px; height: 20px;background-color: rgb(0, 210, 240);\"></td><td title=\"Index: [1, 3]&#10;Color: (0, 210, 240)\" style=\"width: 20px; height: 20px;background-color: rgb(0, 210, 240);\"></td><td title=\"Index: [1, 4]&#10;Color: (0, 210, 240)\" style=\"width: 20px; height: 20px;background-color: rgb(0, 210, 240);\"></td><td title=\"Index: [1, 5]&#10;Color: (0, 210, 240)\" style=\"width: 20px; height: 20px;background-color: rgb(0, 210, 240);\"></td><td title=\"Index: [1, 6]&#10;Color: (0, 210, 240)\" style=\"width: 20px; height: 20px;background-color: rgb(0, 210, 240);\"></td><td title=\"Index: [1, 7]&#10;Color: (0, 210, 240)\" style=\"width: 20px; height: 20px;background-color: rgb(0, 210, 240);\"></td></tr><tr><td title=\"Index: [2, 0]&#10;Color: (0, 210, 240)\" style=\"width: 20px; height: 20px;background-color: rgb(0, 210, 240);\"></td><td title=\"Index: [2, 1]&#10;Color: (0, 210, 240)\" style=\"width: 20px; height: 20px;background-color: rgb(0, 210, 240);\"></td><td title=\"Index: [2, 2]&#10;Color: (0, 210, 240)\" style=\"width: 20px; height: 20px;background-color: rgb(0, 210, 240);\"></td><td title=\"Index: [2, 3]&#10;Color: (0, 210, 240)\" style=\"width: 20px; height: 20px;background-color: rgb(0, 210, 240);\"></td><td title=\"Index: [2, 4]&#10;Color: (0, 210, 240)\" style=\"width: 20px; height: 20px;background-color: rgb(0, 210, 240);\"></td><td title=\"Index: [2, 5]&#10;Color: (0, 210, 240)\" style=\"width: 20px; height: 20px;background-color: rgb(0, 210, 240);\"></td><td title=\"Index: [2, 6]&#10;Color: (0, 210, 240)\" style=\"width: 20px; height: 20px;background-color: rgb(0, 210, 240);\"></td><td title=\"Index: [2, 7]&#10;Color: (0, 210, 240)\" style=\"width: 20px; height: 20px;background-color: rgb(0, 210, 240);\"></td></tr><tr><td title=\"Index: [3, 0]&#10;Color: (0, 210, 240)\" style=\"width: 20px; height: 20px;background-color: rgb(0, 210, 240);\"></td><td title=\"Index: [3, 1]&#10;Color: (0, 210, 240)\" style=\"width: 20px; height: 20px;background-color: rgb(0, 210, 240);\"></td><td title=\"Index: [3, 2]&#10;Color: (0, 210, 240)\" style=\"width: 20px; height: 20px;background-color: rgb(0, 210, 240);\"></td><td title=\"Index: [3, 3]&#10;Color: (0, 210, 240)\" style=\"width: 20px; height: 20px;background-color: rgb(0, 210, 240);\"></td><td title=\"Index: [3, 4]&#10;Color: (0, 210, 240)\" style=\"width: 20px; height: 20px;background-color: rgb(0, 210, 240);\"></td><td title=\"Index: [3, 5]&#10;Color: (0, 210, 240)\" style=\"width: 20px; height: 20px;background-color: rgb(0, 210, 240);\"></td><td title=\"Index: [3, 6]&#10;Color: (0, 210, 240)\" style=\"width: 20px; height: 20px;background-color: rgb(0, 210, 240);\"></td><td title=\"Index: [3, 7]&#10;Color: (0, 210, 240)\" style=\"width: 20px; height: 20px;background-color: rgb(0, 210, 240);\"></td></tr><tr><td title=\"Index: [4, 0]&#10;Color: (0, 210, 240)\" style=\"width: 20px; height: 20px;background-color: rgb(0, 210, 240);\"></td><td title=\"Index: [4, 1]&#10;Color: (0, 210, 240)\" style=\"width: 20px; height: 20px;background-color: rgb(0, 210, 240);\"></td><td title=\"Index: [4, 2]&#10;Color: (0, 210, 240)\" style=\"width: 20px; height: 20px;background-color: rgb(0, 210, 240);\"></td><td title=\"Index: [4, 3]&#10;Color: (0, 210, 240)\" style=\"width: 20px; height: 20px;background-color: rgb(0, 210, 240);\"></td><td title=\"Index: [4, 4]&#10;Color: (0, 210, 240)\" style=\"width: 20px; height: 20px;background-color: rgb(0, 210, 240);\"></td><td title=\"Index: [4, 5]&#10;Color: (0, 210, 240)\" style=\"width: 20px; height: 20px;background-color: rgb(0, 210, 240);\"></td><td title=\"Index: [4, 6]&#10;Color: (0, 210, 240)\" style=\"width: 20px; height: 20px;background-color: rgb(0, 210, 240);\"></td><td title=\"Index: [4, 7]&#10;Color: (0, 210, 240)\" style=\"width: 20px; height: 20px;background-color: rgb(0, 210, 240);\"></td></tr><tr><td title=\"Index: [5, 0]&#10;Color: (0, 210, 240)\" style=\"width: 20px; height: 20px;background-color: rgb(0, 210, 240);\"></td><td title=\"Index: [5, 1]&#10;Color: (0, 210, 240)\" style=\"width: 20px; height: 20px;background-color: rgb(0, 210, 240);\"></td><td title=\"Index: [5, 2]&#10;Color: (0, 210, 240)\" style=\"width: 20px; height: 20px;background-color: rgb(0, 210, 240);\"></td><td title=\"Index: [5, 3]&#10;Color: (0, 210, 240)\" style=\"width: 20px; height: 20px;background-color: rgb(0, 210, 240);\"></td><td title=\"Index: [5, 4]&#10;Color: (0, 210, 240)\" style=\"width: 20px; height: 20px;background-color: rgb(0, 210, 240);\"></td><td title=\"Index: [5, 5]&#10;Color: (0, 210, 240)\" style=\"width: 20px; height: 20px;background-color: rgb(0, 210, 240);\"></td><td title=\"Index: [5, 6]&#10;Color: (0, 210, 240)\" style=\"width: 20px; height: 20px;background-color: rgb(0, 210, 240);\"></td><td title=\"Index: [5, 7]&#10;Color: (0, 210, 240)\" style=\"width: 20px; height: 20px;background-color: rgb(0, 210, 240);\"></td></tr><tr><td title=\"Index: [6, 0]&#10;Color: (0, 210, 240)\" style=\"width: 20px; height: 20px;background-color: rgb(0, 210, 240);\"></td><td title=\"Index: [6, 1]&#10;Color: (0, 210, 240)\" style=\"width: 20px; height: 20px;background-color: rgb(0, 210, 240);\"></td><td title=\"Index: [6, 2]&#10;Color: (0, 210, 240)\" style=\"width: 20px; height: 20px;background-color: rgb(0, 210, 240);\"></td><td title=\"Index: [6, 3]&#10;Color: (0, 210, 240)\" style=\"width: 20px; height: 20px;background-color: rgb(0, 210, 240);\"></td><td title=\"Index: [6, 4]&#10;Color: (0, 210, 240)\" style=\"width: 20px; height: 20px;background-color: rgb(0, 210, 240);\"></td><td title=\"Index: [6, 5]&#10;Color: (0, 210, 240)\" style=\"width: 20px; height: 20px;background-color: rgb(0, 210, 240);\"></td><td title=\"Index: [6, 6]&#10;Color: (0, 210, 240)\" style=\"width: 20px; height: 20px;background-color: rgb(0, 210, 240);\"></td><td title=\"Index: [6, 7]&#10;Color: (0, 210, 240)\" style=\"width: 20px; height: 20px;background-color: rgb(0, 210, 240);\"></td></tr><tr><td title=\"Index: [7, 0]&#10;Color: (0, 210, 240)\" style=\"width: 20px; height: 20px;background-color: rgb(0, 210, 240);\"></td><td title=\"Index: [7, 1]&#10;Color: (0, 210, 240)\" style=\"width: 20px; height: 20px;background-color: rgb(0, 210, 240);\"></td><td title=\"Index: [7, 2]&#10;Color: (0, 210, 240)\" style=\"width: 20px; height: 20px;background-color: rgb(0, 210, 240);\"></td><td title=\"Index: [7, 3]&#10;Color: (0, 210, 240)\" style=\"width: 20px; height: 20px;background-color: rgb(0, 210, 240);\"></td><td title=\"Index: [7, 4]&#10;Color: (0, 210, 240)\" style=\"width: 20px; height: 20px;background-color: rgb(0, 210, 240);\"></td><td title=\"Index: [7, 5]&#10;Color: (0, 210, 240)\" style=\"width: 20px; height: 20px;background-color: rgb(0, 210, 240);\"></td><td title=\"Index: [7, 6]&#10;Color: (0, 210, 240)\" style=\"width: 20px; height: 20px;background-color: rgb(0, 210, 240);\"></td><td title=\"Index: [7, 7]&#10;Color: (0, 210, 240)\" style=\"width: 20px; height: 20px;background-color: rgb(0, 210, 240);\"></td></tr></tbody></table>"
       ],
       "metadata": {},
       "output_type": "display_data",
       "text": [
        "<IPython.core.display.HTML at 0x1e5f5f8>"
       ]
      },
      {
       "output_type": "stream",
       "stream": "stdout",
       "text": [
        "Turn 2 out of 8\n"
       ]
      },
      {
       "name": "stdout",
       "output_type": "stream",
       "stream": "stdout",
       "text": [
        "Guess Row:3\n"
       ]
      },
      {
       "name": "stdout",
       "output_type": "stream",
       "stream": "stdout",
       "text": [
        "Guess Col:2\n"
       ]
      },
      {
       "output_type": "stream",
       "stream": "stdout",
       "text": [
        "You missed my battleship!\n"
       ]
      },
      {
       "html": [
        "<style type=\"text/css\">table.blockgrid {border: none;} .blockgrid tr {border: none;} .blockgrid td {padding: 0px;} #blocksc270f05d-acd7-40ad-ac6b-b54f98dd0ad0 td {border: 1px solid white;}</style><table id=\"blocksc270f05d-acd7-40ad-ac6b-b54f98dd0ad0\" class=\"blockgrid\"><tbody><tr><td title=\"Index: [0, 0]&#10;Color: (0, 210, 240)\" style=\"width: 20px; height: 20px;background-color: rgb(0, 210, 240);\"></td><td title=\"Index: [0, 1]&#10;Color: (0, 210, 240)\" style=\"width: 20px; height: 20px;background-color: rgb(0, 210, 240);\"></td><td title=\"Index: [0, 2]&#10;Color: (0, 210, 240)\" style=\"width: 20px; height: 20px;background-color: rgb(0, 210, 240);\"></td><td title=\"Index: [0, 3]&#10;Color: (0, 210, 240)\" style=\"width: 20px; height: 20px;background-color: rgb(0, 210, 240);\"></td><td title=\"Index: [0, 4]&#10;Color: (0, 210, 240)\" style=\"width: 20px; height: 20px;background-color: rgb(0, 210, 240);\"></td><td title=\"Index: [0, 5]&#10;Color: (0, 210, 240)\" style=\"width: 20px; height: 20px;background-color: rgb(0, 210, 240);\"></td><td title=\"Index: [0, 6]&#10;Color: (0, 210, 240)\" style=\"width: 20px; height: 20px;background-color: rgb(0, 210, 240);\"></td><td title=\"Index: [0, 7]&#10;Color: (0, 210, 240)\" style=\"width: 20px; height: 20px;background-color: rgb(0, 210, 240);\"></td></tr><tr><td title=\"Index: [1, 0]&#10;Color: (0, 210, 240)\" style=\"width: 20px; height: 20px;background-color: rgb(0, 210, 240);\"></td><td title=\"Index: [1, 1]&#10;Color: (150, 0, 250)\" style=\"width: 20px; height: 20px;background-color: rgb(150, 0, 250);\"></td><td title=\"Index: [1, 2]&#10;Color: (0, 210, 240)\" style=\"width: 20px; height: 20px;background-color: rgb(0, 210, 240);\"></td><td title=\"Index: [1, 3]&#10;Color: (0, 210, 240)\" style=\"width: 20px; height: 20px;background-color: rgb(0, 210, 240);\"></td><td title=\"Index: [1, 4]&#10;Color: (0, 210, 240)\" style=\"width: 20px; height: 20px;background-color: rgb(0, 210, 240);\"></td><td title=\"Index: [1, 5]&#10;Color: (0, 210, 240)\" style=\"width: 20px; height: 20px;background-color: rgb(0, 210, 240);\"></td><td title=\"Index: [1, 6]&#10;Color: (0, 210, 240)\" style=\"width: 20px; height: 20px;background-color: rgb(0, 210, 240);\"></td><td title=\"Index: [1, 7]&#10;Color: (0, 210, 240)\" style=\"width: 20px; height: 20px;background-color: rgb(0, 210, 240);\"></td></tr><tr><td title=\"Index: [2, 0]&#10;Color: (0, 210, 240)\" style=\"width: 20px; height: 20px;background-color: rgb(0, 210, 240);\"></td><td title=\"Index: [2, 1]&#10;Color: (0, 210, 240)\" style=\"width: 20px; height: 20px;background-color: rgb(0, 210, 240);\"></td><td title=\"Index: [2, 2]&#10;Color: (0, 210, 240)\" style=\"width: 20px; height: 20px;background-color: rgb(0, 210, 240);\"></td><td title=\"Index: [2, 3]&#10;Color: (0, 210, 240)\" style=\"width: 20px; height: 20px;background-color: rgb(0, 210, 240);\"></td><td title=\"Index: [2, 4]&#10;Color: (0, 210, 240)\" style=\"width: 20px; height: 20px;background-color: rgb(0, 210, 240);\"></td><td title=\"Index: [2, 5]&#10;Color: (0, 210, 240)\" style=\"width: 20px; height: 20px;background-color: rgb(0, 210, 240);\"></td><td title=\"Index: [2, 6]&#10;Color: (0, 210, 240)\" style=\"width: 20px; height: 20px;background-color: rgb(0, 210, 240);\"></td><td title=\"Index: [2, 7]&#10;Color: (0, 210, 240)\" style=\"width: 20px; height: 20px;background-color: rgb(0, 210, 240);\"></td></tr><tr><td title=\"Index: [3, 0]&#10;Color: (0, 210, 240)\" style=\"width: 20px; height: 20px;background-color: rgb(0, 210, 240);\"></td><td title=\"Index: [3, 1]&#10;Color: (0, 210, 240)\" style=\"width: 20px; height: 20px;background-color: rgb(0, 210, 240);\"></td><td title=\"Index: [3, 2]&#10;Color: (150, 0, 250)\" style=\"width: 20px; height: 20px;background-color: rgb(150, 0, 250);\"></td><td title=\"Index: [3, 3]&#10;Color: (0, 210, 240)\" style=\"width: 20px; height: 20px;background-color: rgb(0, 210, 240);\"></td><td title=\"Index: [3, 4]&#10;Color: (0, 210, 240)\" style=\"width: 20px; height: 20px;background-color: rgb(0, 210, 240);\"></td><td title=\"Index: [3, 5]&#10;Color: (0, 210, 240)\" style=\"width: 20px; height: 20px;background-color: rgb(0, 210, 240);\"></td><td title=\"Index: [3, 6]&#10;Color: (0, 210, 240)\" style=\"width: 20px; height: 20px;background-color: rgb(0, 210, 240);\"></td><td title=\"Index: [3, 7]&#10;Color: (0, 210, 240)\" style=\"width: 20px; height: 20px;background-color: rgb(0, 210, 240);\"></td></tr><tr><td title=\"Index: [4, 0]&#10;Color: (0, 210, 240)\" style=\"width: 20px; height: 20px;background-color: rgb(0, 210, 240);\"></td><td title=\"Index: [4, 1]&#10;Color: (0, 210, 240)\" style=\"width: 20px; height: 20px;background-color: rgb(0, 210, 240);\"></td><td title=\"Index: [4, 2]&#10;Color: (0, 210, 240)\" style=\"width: 20px; height: 20px;background-color: rgb(0, 210, 240);\"></td><td title=\"Index: [4, 3]&#10;Color: (0, 210, 240)\" style=\"width: 20px; height: 20px;background-color: rgb(0, 210, 240);\"></td><td title=\"Index: [4, 4]&#10;Color: (0, 210, 240)\" style=\"width: 20px; height: 20px;background-color: rgb(0, 210, 240);\"></td><td title=\"Index: [4, 5]&#10;Color: (0, 210, 240)\" style=\"width: 20px; height: 20px;background-color: rgb(0, 210, 240);\"></td><td title=\"Index: [4, 6]&#10;Color: (0, 210, 240)\" style=\"width: 20px; height: 20px;background-color: rgb(0, 210, 240);\"></td><td title=\"Index: [4, 7]&#10;Color: (0, 210, 240)\" style=\"width: 20px; height: 20px;background-color: rgb(0, 210, 240);\"></td></tr><tr><td title=\"Index: [5, 0]&#10;Color: (0, 210, 240)\" style=\"width: 20px; height: 20px;background-color: rgb(0, 210, 240);\"></td><td title=\"Index: [5, 1]&#10;Color: (0, 210, 240)\" style=\"width: 20px; height: 20px;background-color: rgb(0, 210, 240);\"></td><td title=\"Index: [5, 2]&#10;Color: (0, 210, 240)\" style=\"width: 20px; height: 20px;background-color: rgb(0, 210, 240);\"></td><td title=\"Index: [5, 3]&#10;Color: (0, 210, 240)\" style=\"width: 20px; height: 20px;background-color: rgb(0, 210, 240);\"></td><td title=\"Index: [5, 4]&#10;Color: (0, 210, 240)\" style=\"width: 20px; height: 20px;background-color: rgb(0, 210, 240);\"></td><td title=\"Index: [5, 5]&#10;Color: (0, 210, 240)\" style=\"width: 20px; height: 20px;background-color: rgb(0, 210, 240);\"></td><td title=\"Index: [5, 6]&#10;Color: (0, 210, 240)\" style=\"width: 20px; height: 20px;background-color: rgb(0, 210, 240);\"></td><td title=\"Index: [5, 7]&#10;Color: (0, 210, 240)\" style=\"width: 20px; height: 20px;background-color: rgb(0, 210, 240);\"></td></tr><tr><td title=\"Index: [6, 0]&#10;Color: (0, 210, 240)\" style=\"width: 20px; height: 20px;background-color: rgb(0, 210, 240);\"></td><td title=\"Index: [6, 1]&#10;Color: (0, 210, 240)\" style=\"width: 20px; height: 20px;background-color: rgb(0, 210, 240);\"></td><td title=\"Index: [6, 2]&#10;Color: (0, 210, 240)\" style=\"width: 20px; height: 20px;background-color: rgb(0, 210, 240);\"></td><td title=\"Index: [6, 3]&#10;Color: (0, 210, 240)\" style=\"width: 20px; height: 20px;background-color: rgb(0, 210, 240);\"></td><td title=\"Index: [6, 4]&#10;Color: (0, 210, 240)\" style=\"width: 20px; height: 20px;background-color: rgb(0, 210, 240);\"></td><td title=\"Index: [6, 5]&#10;Color: (0, 210, 240)\" style=\"width: 20px; height: 20px;background-color: rgb(0, 210, 240);\"></td><td title=\"Index: [6, 6]&#10;Color: (0, 210, 240)\" style=\"width: 20px; height: 20px;background-color: rgb(0, 210, 240);\"></td><td title=\"Index: [6, 7]&#10;Color: (0, 210, 240)\" style=\"width: 20px; height: 20px;background-color: rgb(0, 210, 240);\"></td></tr><tr><td title=\"Index: [7, 0]&#10;Color: (0, 210, 240)\" style=\"width: 20px; height: 20px;background-color: rgb(0, 210, 240);\"></td><td title=\"Index: [7, 1]&#10;Color: (0, 210, 240)\" style=\"width: 20px; height: 20px;background-color: rgb(0, 210, 240);\"></td><td title=\"Index: [7, 2]&#10;Color: (0, 210, 240)\" style=\"width: 20px; height: 20px;background-color: rgb(0, 210, 240);\"></td><td title=\"Index: [7, 3]&#10;Color: (0, 210, 240)\" style=\"width: 20px; height: 20px;background-color: rgb(0, 210, 240);\"></td><td title=\"Index: [7, 4]&#10;Color: (0, 210, 240)\" style=\"width: 20px; height: 20px;background-color: rgb(0, 210, 240);\"></td><td title=\"Index: [7, 5]&#10;Color: (0, 210, 240)\" style=\"width: 20px; height: 20px;background-color: rgb(0, 210, 240);\"></td><td title=\"Index: [7, 6]&#10;Color: (0, 210, 240)\" style=\"width: 20px; height: 20px;background-color: rgb(0, 210, 240);\"></td><td title=\"Index: [7, 7]&#10;Color: (0, 210, 240)\" style=\"width: 20px; height: 20px;background-color: rgb(0, 210, 240);\"></td></tr></tbody></table>"
       ],
       "metadata": {},
       "output_type": "display_data",
       "text": [
        "<IPython.core.display.HTML at 0x2afd748>"
       ]
      },
      {
       "output_type": "stream",
       "stream": "stdout",
       "text": [
        "Turn 3 out of 8\n"
       ]
      },
      {
       "name": "stdout",
       "output_type": "stream",
       "stream": "stdout",
       "text": [
        "Guess Row:2\n"
       ]
      },
      {
       "name": "stdout",
       "output_type": "stream",
       "stream": "stdout",
       "text": [
        "Guess Col:3\n"
       ]
      },
      {
       "output_type": "stream",
       "stream": "stdout",
       "text": [
        "You missed my battleship!\n"
       ]
      },
      {
       "html": [
        "<style type=\"text/css\">table.blockgrid {border: none;} .blockgrid tr {border: none;} .blockgrid td {padding: 0px;} #blocks643ecdce-cef6-49c3-9ec8-272e07c0e298 td {border: 1px solid white;}</style><table id=\"blocks643ecdce-cef6-49c3-9ec8-272e07c0e298\" class=\"blockgrid\"><tbody><tr><td title=\"Index: [0, 0]&#10;Color: (0, 210, 240)\" style=\"width: 20px; height: 20px;background-color: rgb(0, 210, 240);\"></td><td title=\"Index: [0, 1]&#10;Color: (0, 210, 240)\" style=\"width: 20px; height: 20px;background-color: rgb(0, 210, 240);\"></td><td title=\"Index: [0, 2]&#10;Color: (0, 210, 240)\" style=\"width: 20px; height: 20px;background-color: rgb(0, 210, 240);\"></td><td title=\"Index: [0, 3]&#10;Color: (0, 210, 240)\" style=\"width: 20px; height: 20px;background-color: rgb(0, 210, 240);\"></td><td title=\"Index: [0, 4]&#10;Color: (0, 210, 240)\" style=\"width: 20px; height: 20px;background-color: rgb(0, 210, 240);\"></td><td title=\"Index: [0, 5]&#10;Color: (0, 210, 240)\" style=\"width: 20px; height: 20px;background-color: rgb(0, 210, 240);\"></td><td title=\"Index: [0, 6]&#10;Color: (0, 210, 240)\" style=\"width: 20px; height: 20px;background-color: rgb(0, 210, 240);\"></td><td title=\"Index: [0, 7]&#10;Color: (0, 210, 240)\" style=\"width: 20px; height: 20px;background-color: rgb(0, 210, 240);\"></td></tr><tr><td title=\"Index: [1, 0]&#10;Color: (0, 210, 240)\" style=\"width: 20px; height: 20px;background-color: rgb(0, 210, 240);\"></td><td title=\"Index: [1, 1]&#10;Color: (150, 0, 250)\" style=\"width: 20px; height: 20px;background-color: rgb(150, 0, 250);\"></td><td title=\"Index: [1, 2]&#10;Color: (0, 210, 240)\" style=\"width: 20px; height: 20px;background-color: rgb(0, 210, 240);\"></td><td title=\"Index: [1, 3]&#10;Color: (0, 210, 240)\" style=\"width: 20px; height: 20px;background-color: rgb(0, 210, 240);\"></td><td title=\"Index: [1, 4]&#10;Color: (0, 210, 240)\" style=\"width: 20px; height: 20px;background-color: rgb(0, 210, 240);\"></td><td title=\"Index: [1, 5]&#10;Color: (0, 210, 240)\" style=\"width: 20px; height: 20px;background-color: rgb(0, 210, 240);\"></td><td title=\"Index: [1, 6]&#10;Color: (0, 210, 240)\" style=\"width: 20px; height: 20px;background-color: rgb(0, 210, 240);\"></td><td title=\"Index: [1, 7]&#10;Color: (0, 210, 240)\" style=\"width: 20px; height: 20px;background-color: rgb(0, 210, 240);\"></td></tr><tr><td title=\"Index: [2, 0]&#10;Color: (0, 210, 240)\" style=\"width: 20px; height: 20px;background-color: rgb(0, 210, 240);\"></td><td title=\"Index: [2, 1]&#10;Color: (0, 210, 240)\" style=\"width: 20px; height: 20px;background-color: rgb(0, 210, 240);\"></td><td title=\"Index: [2, 2]&#10;Color: (0, 210, 240)\" style=\"width: 20px; height: 20px;background-color: rgb(0, 210, 240);\"></td><td title=\"Index: [2, 3]&#10;Color: (150, 0, 250)\" style=\"width: 20px; height: 20px;background-color: rgb(150, 0, 250);\"></td><td title=\"Index: [2, 4]&#10;Color: (0, 210, 240)\" style=\"width: 20px; height: 20px;background-color: rgb(0, 210, 240);\"></td><td title=\"Index: [2, 5]&#10;Color: (0, 210, 240)\" style=\"width: 20px; height: 20px;background-color: rgb(0, 210, 240);\"></td><td title=\"Index: [2, 6]&#10;Color: (0, 210, 240)\" style=\"width: 20px; height: 20px;background-color: rgb(0, 210, 240);\"></td><td title=\"Index: [2, 7]&#10;Color: (0, 210, 240)\" style=\"width: 20px; height: 20px;background-color: rgb(0, 210, 240);\"></td></tr><tr><td title=\"Index: [3, 0]&#10;Color: (0, 210, 240)\" style=\"width: 20px; height: 20px;background-color: rgb(0, 210, 240);\"></td><td title=\"Index: [3, 1]&#10;Color: (0, 210, 240)\" style=\"width: 20px; height: 20px;background-color: rgb(0, 210, 240);\"></td><td title=\"Index: [3, 2]&#10;Color: (150, 0, 250)\" style=\"width: 20px; height: 20px;background-color: rgb(150, 0, 250);\"></td><td title=\"Index: [3, 3]&#10;Color: (0, 210, 240)\" style=\"width: 20px; height: 20px;background-color: rgb(0, 210, 240);\"></td><td title=\"Index: [3, 4]&#10;Color: (0, 210, 240)\" style=\"width: 20px; height: 20px;background-color: rgb(0, 210, 240);\"></td><td title=\"Index: [3, 5]&#10;Color: (0, 210, 240)\" style=\"width: 20px; height: 20px;background-color: rgb(0, 210, 240);\"></td><td title=\"Index: [3, 6]&#10;Color: (0, 210, 240)\" style=\"width: 20px; height: 20px;background-color: rgb(0, 210, 240);\"></td><td title=\"Index: [3, 7]&#10;Color: (0, 210, 240)\" style=\"width: 20px; height: 20px;background-color: rgb(0, 210, 240);\"></td></tr><tr><td title=\"Index: [4, 0]&#10;Color: (0, 210, 240)\" style=\"width: 20px; height: 20px;background-color: rgb(0, 210, 240);\"></td><td title=\"Index: [4, 1]&#10;Color: (0, 210, 240)\" style=\"width: 20px; height: 20px;background-color: rgb(0, 210, 240);\"></td><td title=\"Index: [4, 2]&#10;Color: (0, 210, 240)\" style=\"width: 20px; height: 20px;background-color: rgb(0, 210, 240);\"></td><td title=\"Index: [4, 3]&#10;Color: (0, 210, 240)\" style=\"width: 20px; height: 20px;background-color: rgb(0, 210, 240);\"></td><td title=\"Index: [4, 4]&#10;Color: (0, 210, 240)\" style=\"width: 20px; height: 20px;background-color: rgb(0, 210, 240);\"></td><td title=\"Index: [4, 5]&#10;Color: (0, 210, 240)\" style=\"width: 20px; height: 20px;background-color: rgb(0, 210, 240);\"></td><td title=\"Index: [4, 6]&#10;Color: (0, 210, 240)\" style=\"width: 20px; height: 20px;background-color: rgb(0, 210, 240);\"></td><td title=\"Index: [4, 7]&#10;Color: (0, 210, 240)\" style=\"width: 20px; height: 20px;background-color: rgb(0, 210, 240);\"></td></tr><tr><td title=\"Index: [5, 0]&#10;Color: (0, 210, 240)\" style=\"width: 20px; height: 20px;background-color: rgb(0, 210, 240);\"></td><td title=\"Index: [5, 1]&#10;Color: (0, 210, 240)\" style=\"width: 20px; height: 20px;background-color: rgb(0, 210, 240);\"></td><td title=\"Index: [5, 2]&#10;Color: (0, 210, 240)\" style=\"width: 20px; height: 20px;background-color: rgb(0, 210, 240);\"></td><td title=\"Index: [5, 3]&#10;Color: (0, 210, 240)\" style=\"width: 20px; height: 20px;background-color: rgb(0, 210, 240);\"></td><td title=\"Index: [5, 4]&#10;Color: (0, 210, 240)\" style=\"width: 20px; height: 20px;background-color: rgb(0, 210, 240);\"></td><td title=\"Index: [5, 5]&#10;Color: (0, 210, 240)\" style=\"width: 20px; height: 20px;background-color: rgb(0, 210, 240);\"></td><td title=\"Index: [5, 6]&#10;Color: (0, 210, 240)\" style=\"width: 20px; height: 20px;background-color: rgb(0, 210, 240);\"></td><td title=\"Index: [5, 7]&#10;Color: (0, 210, 240)\" style=\"width: 20px; height: 20px;background-color: rgb(0, 210, 240);\"></td></tr><tr><td title=\"Index: [6, 0]&#10;Color: (0, 210, 240)\" style=\"width: 20px; height: 20px;background-color: rgb(0, 210, 240);\"></td><td title=\"Index: [6, 1]&#10;Color: (0, 210, 240)\" style=\"width: 20px; height: 20px;background-color: rgb(0, 210, 240);\"></td><td title=\"Index: [6, 2]&#10;Color: (0, 210, 240)\" style=\"width: 20px; height: 20px;background-color: rgb(0, 210, 240);\"></td><td title=\"Index: [6, 3]&#10;Color: (0, 210, 240)\" style=\"width: 20px; height: 20px;background-color: rgb(0, 210, 240);\"></td><td title=\"Index: [6, 4]&#10;Color: (0, 210, 240)\" style=\"width: 20px; height: 20px;background-color: rgb(0, 210, 240);\"></td><td title=\"Index: [6, 5]&#10;Color: (0, 210, 240)\" style=\"width: 20px; height: 20px;background-color: rgb(0, 210, 240);\"></td><td title=\"Index: [6, 6]&#10;Color: (0, 210, 240)\" style=\"width: 20px; height: 20px;background-color: rgb(0, 210, 240);\"></td><td title=\"Index: [6, 7]&#10;Color: (0, 210, 240)\" style=\"width: 20px; height: 20px;background-color: rgb(0, 210, 240);\"></td></tr><tr><td title=\"Index: [7, 0]&#10;Color: (0, 210, 240)\" style=\"width: 20px; height: 20px;background-color: rgb(0, 210, 240);\"></td><td title=\"Index: [7, 1]&#10;Color: (0, 210, 240)\" style=\"width: 20px; height: 20px;background-color: rgb(0, 210, 240);\"></td><td title=\"Index: [7, 2]&#10;Color: (0, 210, 240)\" style=\"width: 20px; height: 20px;background-color: rgb(0, 210, 240);\"></td><td title=\"Index: [7, 3]&#10;Color: (0, 210, 240)\" style=\"width: 20px; height: 20px;background-color: rgb(0, 210, 240);\"></td><td title=\"Index: [7, 4]&#10;Color: (0, 210, 240)\" style=\"width: 20px; height: 20px;background-color: rgb(0, 210, 240);\"></td><td title=\"Index: [7, 5]&#10;Color: (0, 210, 240)\" style=\"width: 20px; height: 20px;background-color: rgb(0, 210, 240);\"></td><td title=\"Index: [7, 6]&#10;Color: (0, 210, 240)\" style=\"width: 20px; height: 20px;background-color: rgb(0, 210, 240);\"></td><td title=\"Index: [7, 7]&#10;Color: (0, 210, 240)\" style=\"width: 20px; height: 20px;background-color: rgb(0, 210, 240);\"></td></tr></tbody></table>"
       ],
       "metadata": {},
       "output_type": "display_data",
       "text": [
        "<IPython.core.display.HTML at 0x1eaca90>"
       ]
      },
      {
       "output_type": "stream",
       "stream": "stdout",
       "text": [
        "Turn 4 out of 8\n"
       ]
      },
      {
       "name": "stdout",
       "output_type": "stream",
       "stream": "stdout",
       "text": [
        "Guess Row:4\n"
       ]
      },
      {
       "name": "stdout",
       "output_type": "stream",
       "stream": "stdout",
       "text": [
        "Guess Col:5\n"
       ]
      },
      {
       "output_type": "stream",
       "stream": "stdout",
       "text": [
        "You missed my battleship!\n"
       ]
      },
      {
       "html": [
        "<style type=\"text/css\">table.blockgrid {border: none;} .blockgrid tr {border: none;} .blockgrid td {padding: 0px;} #blocksea583d46-e90e-46c7-84f4-10984a307baf td {border: 1px solid white;}</style><table id=\"blocksea583d46-e90e-46c7-84f4-10984a307baf\" class=\"blockgrid\"><tbody><tr><td title=\"Index: [0, 0]&#10;Color: (0, 210, 240)\" style=\"width: 20px; height: 20px;background-color: rgb(0, 210, 240);\"></td><td title=\"Index: [0, 1]&#10;Color: (0, 210, 240)\" style=\"width: 20px; height: 20px;background-color: rgb(0, 210, 240);\"></td><td title=\"Index: [0, 2]&#10;Color: (0, 210, 240)\" style=\"width: 20px; height: 20px;background-color: rgb(0, 210, 240);\"></td><td title=\"Index: [0, 3]&#10;Color: (0, 210, 240)\" style=\"width: 20px; height: 20px;background-color: rgb(0, 210, 240);\"></td><td title=\"Index: [0, 4]&#10;Color: (0, 210, 240)\" style=\"width: 20px; height: 20px;background-color: rgb(0, 210, 240);\"></td><td title=\"Index: [0, 5]&#10;Color: (0, 210, 240)\" style=\"width: 20px; height: 20px;background-color: rgb(0, 210, 240);\"></td><td title=\"Index: [0, 6]&#10;Color: (0, 210, 240)\" style=\"width: 20px; height: 20px;background-color: rgb(0, 210, 240);\"></td><td title=\"Index: [0, 7]&#10;Color: (0, 210, 240)\" style=\"width: 20px; height: 20px;background-color: rgb(0, 210, 240);\"></td></tr><tr><td title=\"Index: [1, 0]&#10;Color: (0, 210, 240)\" style=\"width: 20px; height: 20px;background-color: rgb(0, 210, 240);\"></td><td title=\"Index: [1, 1]&#10;Color: (150, 0, 250)\" style=\"width: 20px; height: 20px;background-color: rgb(150, 0, 250);\"></td><td title=\"Index: [1, 2]&#10;Color: (0, 210, 240)\" style=\"width: 20px; height: 20px;background-color: rgb(0, 210, 240);\"></td><td title=\"Index: [1, 3]&#10;Color: (0, 210, 240)\" style=\"width: 20px; height: 20px;background-color: rgb(0, 210, 240);\"></td><td title=\"Index: [1, 4]&#10;Color: (0, 210, 240)\" style=\"width: 20px; height: 20px;background-color: rgb(0, 210, 240);\"></td><td title=\"Index: [1, 5]&#10;Color: (0, 210, 240)\" style=\"width: 20px; height: 20px;background-color: rgb(0, 210, 240);\"></td><td title=\"Index: [1, 6]&#10;Color: (0, 210, 240)\" style=\"width: 20px; height: 20px;background-color: rgb(0, 210, 240);\"></td><td title=\"Index: [1, 7]&#10;Color: (0, 210, 240)\" style=\"width: 20px; height: 20px;background-color: rgb(0, 210, 240);\"></td></tr><tr><td title=\"Index: [2, 0]&#10;Color: (0, 210, 240)\" style=\"width: 20px; height: 20px;background-color: rgb(0, 210, 240);\"></td><td title=\"Index: [2, 1]&#10;Color: (0, 210, 240)\" style=\"width: 20px; height: 20px;background-color: rgb(0, 210, 240);\"></td><td title=\"Index: [2, 2]&#10;Color: (0, 210, 240)\" style=\"width: 20px; height: 20px;background-color: rgb(0, 210, 240);\"></td><td title=\"Index: [2, 3]&#10;Color: (150, 0, 250)\" style=\"width: 20px; height: 20px;background-color: rgb(150, 0, 250);\"></td><td title=\"Index: [2, 4]&#10;Color: (0, 210, 240)\" style=\"width: 20px; height: 20px;background-color: rgb(0, 210, 240);\"></td><td title=\"Index: [2, 5]&#10;Color: (0, 210, 240)\" style=\"width: 20px; height: 20px;background-color: rgb(0, 210, 240);\"></td><td title=\"Index: [2, 6]&#10;Color: (0, 210, 240)\" style=\"width: 20px; height: 20px;background-color: rgb(0, 210, 240);\"></td><td title=\"Index: [2, 7]&#10;Color: (0, 210, 240)\" style=\"width: 20px; height: 20px;background-color: rgb(0, 210, 240);\"></td></tr><tr><td title=\"Index: [3, 0]&#10;Color: (0, 210, 240)\" style=\"width: 20px; height: 20px;background-color: rgb(0, 210, 240);\"></td><td title=\"Index: [3, 1]&#10;Color: (0, 210, 240)\" style=\"width: 20px; height: 20px;background-color: rgb(0, 210, 240);\"></td><td title=\"Index: [3, 2]&#10;Color: (150, 0, 250)\" style=\"width: 20px; height: 20px;background-color: rgb(150, 0, 250);\"></td><td title=\"Index: [3, 3]&#10;Color: (0, 210, 240)\" style=\"width: 20px; height: 20px;background-color: rgb(0, 210, 240);\"></td><td title=\"Index: [3, 4]&#10;Color: (0, 210, 240)\" style=\"width: 20px; height: 20px;background-color: rgb(0, 210, 240);\"></td><td title=\"Index: [3, 5]&#10;Color: (0, 210, 240)\" style=\"width: 20px; height: 20px;background-color: rgb(0, 210, 240);\"></td><td title=\"Index: [3, 6]&#10;Color: (0, 210, 240)\" style=\"width: 20px; height: 20px;background-color: rgb(0, 210, 240);\"></td><td title=\"Index: [3, 7]&#10;Color: (0, 210, 240)\" style=\"width: 20px; height: 20px;background-color: rgb(0, 210, 240);\"></td></tr><tr><td title=\"Index: [4, 0]&#10;Color: (0, 210, 240)\" style=\"width: 20px; height: 20px;background-color: rgb(0, 210, 240);\"></td><td title=\"Index: [4, 1]&#10;Color: (0, 210, 240)\" style=\"width: 20px; height: 20px;background-color: rgb(0, 210, 240);\"></td><td title=\"Index: [4, 2]&#10;Color: (0, 210, 240)\" style=\"width: 20px; height: 20px;background-color: rgb(0, 210, 240);\"></td><td title=\"Index: [4, 3]&#10;Color: (0, 210, 240)\" style=\"width: 20px; height: 20px;background-color: rgb(0, 210, 240);\"></td><td title=\"Index: [4, 4]&#10;Color: (0, 210, 240)\" style=\"width: 20px; height: 20px;background-color: rgb(0, 210, 240);\"></td><td title=\"Index: [4, 5]&#10;Color: (150, 0, 250)\" style=\"width: 20px; height: 20px;background-color: rgb(150, 0, 250);\"></td><td title=\"Index: [4, 6]&#10;Color: (0, 210, 240)\" style=\"width: 20px; height: 20px;background-color: rgb(0, 210, 240);\"></td><td title=\"Index: [4, 7]&#10;Color: (0, 210, 240)\" style=\"width: 20px; height: 20px;background-color: rgb(0, 210, 240);\"></td></tr><tr><td title=\"Index: [5, 0]&#10;Color: (0, 210, 240)\" style=\"width: 20px; height: 20px;background-color: rgb(0, 210, 240);\"></td><td title=\"Index: [5, 1]&#10;Color: (0, 210, 240)\" style=\"width: 20px; height: 20px;background-color: rgb(0, 210, 240);\"></td><td title=\"Index: [5, 2]&#10;Color: (0, 210, 240)\" style=\"width: 20px; height: 20px;background-color: rgb(0, 210, 240);\"></td><td title=\"Index: [5, 3]&#10;Color: (0, 210, 240)\" style=\"width: 20px; height: 20px;background-color: rgb(0, 210, 240);\"></td><td title=\"Index: [5, 4]&#10;Color: (0, 210, 240)\" style=\"width: 20px; height: 20px;background-color: rgb(0, 210, 240);\"></td><td title=\"Index: [5, 5]&#10;Color: (0, 210, 240)\" style=\"width: 20px; height: 20px;background-color: rgb(0, 210, 240);\"></td><td title=\"Index: [5, 6]&#10;Color: (0, 210, 240)\" style=\"width: 20px; height: 20px;background-color: rgb(0, 210, 240);\"></td><td title=\"Index: [5, 7]&#10;Color: (0, 210, 240)\" style=\"width: 20px; height: 20px;background-color: rgb(0, 210, 240);\"></td></tr><tr><td title=\"Index: [6, 0]&#10;Color: (0, 210, 240)\" style=\"width: 20px; height: 20px;background-color: rgb(0, 210, 240);\"></td><td title=\"Index: [6, 1]&#10;Color: (0, 210, 240)\" style=\"width: 20px; height: 20px;background-color: rgb(0, 210, 240);\"></td><td title=\"Index: [6, 2]&#10;Color: (0, 210, 240)\" style=\"width: 20px; height: 20px;background-color: rgb(0, 210, 240);\"></td><td title=\"Index: [6, 3]&#10;Color: (0, 210, 240)\" style=\"width: 20px; height: 20px;background-color: rgb(0, 210, 240);\"></td><td title=\"Index: [6, 4]&#10;Color: (0, 210, 240)\" style=\"width: 20px; height: 20px;background-color: rgb(0, 210, 240);\"></td><td title=\"Index: [6, 5]&#10;Color: (0, 210, 240)\" style=\"width: 20px; height: 20px;background-color: rgb(0, 210, 240);\"></td><td title=\"Index: [6, 6]&#10;Color: (0, 210, 240)\" style=\"width: 20px; height: 20px;background-color: rgb(0, 210, 240);\"></td><td title=\"Index: [6, 7]&#10;Color: (0, 210, 240)\" style=\"width: 20px; height: 20px;background-color: rgb(0, 210, 240);\"></td></tr><tr><td title=\"Index: [7, 0]&#10;Color: (0, 210, 240)\" style=\"width: 20px; height: 20px;background-color: rgb(0, 210, 240);\"></td><td title=\"Index: [7, 1]&#10;Color: (0, 210, 240)\" style=\"width: 20px; height: 20px;background-color: rgb(0, 210, 240);\"></td><td title=\"Index: [7, 2]&#10;Color: (0, 210, 240)\" style=\"width: 20px; height: 20px;background-color: rgb(0, 210, 240);\"></td><td title=\"Index: [7, 3]&#10;Color: (0, 210, 240)\" style=\"width: 20px; height: 20px;background-color: rgb(0, 210, 240);\"></td><td title=\"Index: [7, 4]&#10;Color: (0, 210, 240)\" style=\"width: 20px; height: 20px;background-color: rgb(0, 210, 240);\"></td><td title=\"Index: [7, 5]&#10;Color: (0, 210, 240)\" style=\"width: 20px; height: 20px;background-color: rgb(0, 210, 240);\"></td><td title=\"Index: [7, 6]&#10;Color: (0, 210, 240)\" style=\"width: 20px; height: 20px;background-color: rgb(0, 210, 240);\"></td><td title=\"Index: [7, 7]&#10;Color: (0, 210, 240)\" style=\"width: 20px; height: 20px;background-color: rgb(0, 210, 240);\"></td></tr></tbody></table>"
       ],
       "metadata": {},
       "output_type": "display_data",
       "text": [
        "<IPython.core.display.HTML at 0x1eacb70>"
       ]
      },
      {
       "output_type": "stream",
       "stream": "stdout",
       "text": [
        "Turn 5 out of 8\n"
       ]
      },
      {
       "name": "stdout",
       "output_type": "stream",
       "stream": "stdout",
       "text": [
        "Guess Row:1\n"
       ]
      },
      {
       "name": "stdout",
       "output_type": "stream",
       "stream": "stdout",
       "text": [
        "Guess Col:2\n"
       ]
      },
      {
       "output_type": "stream",
       "stream": "stdout",
       "text": [
        "You missed my battleship!\n"
       ]
      },
      {
       "html": [
        "<style type=\"text/css\">table.blockgrid {border: none;} .blockgrid tr {border: none;} .blockgrid td {padding: 0px;} #blocks6097c268-64b0-45c5-a89f-422114468ad1 td {border: 1px solid white;}</style><table id=\"blocks6097c268-64b0-45c5-a89f-422114468ad1\" class=\"blockgrid\"><tbody><tr><td title=\"Index: [0, 0]&#10;Color: (0, 210, 240)\" style=\"width: 20px; height: 20px;background-color: rgb(0, 210, 240);\"></td><td title=\"Index: [0, 1]&#10;Color: (0, 210, 240)\" style=\"width: 20px; height: 20px;background-color: rgb(0, 210, 240);\"></td><td title=\"Index: [0, 2]&#10;Color: (0, 210, 240)\" style=\"width: 20px; height: 20px;background-color: rgb(0, 210, 240);\"></td><td title=\"Index: [0, 3]&#10;Color: (0, 210, 240)\" style=\"width: 20px; height: 20px;background-color: rgb(0, 210, 240);\"></td><td title=\"Index: [0, 4]&#10;Color: (0, 210, 240)\" style=\"width: 20px; height: 20px;background-color: rgb(0, 210, 240);\"></td><td title=\"Index: [0, 5]&#10;Color: (0, 210, 240)\" style=\"width: 20px; height: 20px;background-color: rgb(0, 210, 240);\"></td><td title=\"Index: [0, 6]&#10;Color: (0, 210, 240)\" style=\"width: 20px; height: 20px;background-color: rgb(0, 210, 240);\"></td><td title=\"Index: [0, 7]&#10;Color: (0, 210, 240)\" style=\"width: 20px; height: 20px;background-color: rgb(0, 210, 240);\"></td></tr><tr><td title=\"Index: [1, 0]&#10;Color: (0, 210, 240)\" style=\"width: 20px; height: 20px;background-color: rgb(0, 210, 240);\"></td><td title=\"Index: [1, 1]&#10;Color: (150, 0, 250)\" style=\"width: 20px; height: 20px;background-color: rgb(150, 0, 250);\"></td><td title=\"Index: [1, 2]&#10;Color: (150, 0, 250)\" style=\"width: 20px; height: 20px;background-color: rgb(150, 0, 250);\"></td><td title=\"Index: [1, 3]&#10;Color: (0, 210, 240)\" style=\"width: 20px; height: 20px;background-color: rgb(0, 210, 240);\"></td><td title=\"Index: [1, 4]&#10;Color: (0, 210, 240)\" style=\"width: 20px; height: 20px;background-color: rgb(0, 210, 240);\"></td><td title=\"Index: [1, 5]&#10;Color: (0, 210, 240)\" style=\"width: 20px; height: 20px;background-color: rgb(0, 210, 240);\"></td><td title=\"Index: [1, 6]&#10;Color: (0, 210, 240)\" style=\"width: 20px; height: 20px;background-color: rgb(0, 210, 240);\"></td><td title=\"Index: [1, 7]&#10;Color: (0, 210, 240)\" style=\"width: 20px; height: 20px;background-color: rgb(0, 210, 240);\"></td></tr><tr><td title=\"Index: [2, 0]&#10;Color: (0, 210, 240)\" style=\"width: 20px; height: 20px;background-color: rgb(0, 210, 240);\"></td><td title=\"Index: [2, 1]&#10;Color: (0, 210, 240)\" style=\"width: 20px; height: 20px;background-color: rgb(0, 210, 240);\"></td><td title=\"Index: [2, 2]&#10;Color: (0, 210, 240)\" style=\"width: 20px; height: 20px;background-color: rgb(0, 210, 240);\"></td><td title=\"Index: [2, 3]&#10;Color: (150, 0, 250)\" style=\"width: 20px; height: 20px;background-color: rgb(150, 0, 250);\"></td><td title=\"Index: [2, 4]&#10;Color: (0, 210, 240)\" style=\"width: 20px; height: 20px;background-color: rgb(0, 210, 240);\"></td><td title=\"Index: [2, 5]&#10;Color: (0, 210, 240)\" style=\"width: 20px; height: 20px;background-color: rgb(0, 210, 240);\"></td><td title=\"Index: [2, 6]&#10;Color: (0, 210, 240)\" style=\"width: 20px; height: 20px;background-color: rgb(0, 210, 240);\"></td><td title=\"Index: [2, 7]&#10;Color: (0, 210, 240)\" style=\"width: 20px; height: 20px;background-color: rgb(0, 210, 240);\"></td></tr><tr><td title=\"Index: [3, 0]&#10;Color: (0, 210, 240)\" style=\"width: 20px; height: 20px;background-color: rgb(0, 210, 240);\"></td><td title=\"Index: [3, 1]&#10;Color: (0, 210, 240)\" style=\"width: 20px; height: 20px;background-color: rgb(0, 210, 240);\"></td><td title=\"Index: [3, 2]&#10;Color: (150, 0, 250)\" style=\"width: 20px; height: 20px;background-color: rgb(150, 0, 250);\"></td><td title=\"Index: [3, 3]&#10;Color: (0, 210, 240)\" style=\"width: 20px; height: 20px;background-color: rgb(0, 210, 240);\"></td><td title=\"Index: [3, 4]&#10;Color: (0, 210, 240)\" style=\"width: 20px; height: 20px;background-color: rgb(0, 210, 240);\"></td><td title=\"Index: [3, 5]&#10;Color: (0, 210, 240)\" style=\"width: 20px; height: 20px;background-color: rgb(0, 210, 240);\"></td><td title=\"Index: [3, 6]&#10;Color: (0, 210, 240)\" style=\"width: 20px; height: 20px;background-color: rgb(0, 210, 240);\"></td><td title=\"Index: [3, 7]&#10;Color: (0, 210, 240)\" style=\"width: 20px; height: 20px;background-color: rgb(0, 210, 240);\"></td></tr><tr><td title=\"Index: [4, 0]&#10;Color: (0, 210, 240)\" style=\"width: 20px; height: 20px;background-color: rgb(0, 210, 240);\"></td><td title=\"Index: [4, 1]&#10;Color: (0, 210, 240)\" style=\"width: 20px; height: 20px;background-color: rgb(0, 210, 240);\"></td><td title=\"Index: [4, 2]&#10;Color: (0, 210, 240)\" style=\"width: 20px; height: 20px;background-color: rgb(0, 210, 240);\"></td><td title=\"Index: [4, 3]&#10;Color: (0, 210, 240)\" style=\"width: 20px; height: 20px;background-color: rgb(0, 210, 240);\"></td><td title=\"Index: [4, 4]&#10;Color: (0, 210, 240)\" style=\"width: 20px; height: 20px;background-color: rgb(0, 210, 240);\"></td><td title=\"Index: [4, 5]&#10;Color: (150, 0, 250)\" style=\"width: 20px; height: 20px;background-color: rgb(150, 0, 250);\"></td><td title=\"Index: [4, 6]&#10;Color: (0, 210, 240)\" style=\"width: 20px; height: 20px;background-color: rgb(0, 210, 240);\"></td><td title=\"Index: [4, 7]&#10;Color: (0, 210, 240)\" style=\"width: 20px; height: 20px;background-color: rgb(0, 210, 240);\"></td></tr><tr><td title=\"Index: [5, 0]&#10;Color: (0, 210, 240)\" style=\"width: 20px; height: 20px;background-color: rgb(0, 210, 240);\"></td><td title=\"Index: [5, 1]&#10;Color: (0, 210, 240)\" style=\"width: 20px; height: 20px;background-color: rgb(0, 210, 240);\"></td><td title=\"Index: [5, 2]&#10;Color: (0, 210, 240)\" style=\"width: 20px; height: 20px;background-color: rgb(0, 210, 240);\"></td><td title=\"Index: [5, 3]&#10;Color: (0, 210, 240)\" style=\"width: 20px; height: 20px;background-color: rgb(0, 210, 240);\"></td><td title=\"Index: [5, 4]&#10;Color: (0, 210, 240)\" style=\"width: 20px; height: 20px;background-color: rgb(0, 210, 240);\"></td><td title=\"Index: [5, 5]&#10;Color: (0, 210, 240)\" style=\"width: 20px; height: 20px;background-color: rgb(0, 210, 240);\"></td><td title=\"Index: [5, 6]&#10;Color: (0, 210, 240)\" style=\"width: 20px; height: 20px;background-color: rgb(0, 210, 240);\"></td><td title=\"Index: [5, 7]&#10;Color: (0, 210, 240)\" style=\"width: 20px; height: 20px;background-color: rgb(0, 210, 240);\"></td></tr><tr><td title=\"Index: [6, 0]&#10;Color: (0, 210, 240)\" style=\"width: 20px; height: 20px;background-color: rgb(0, 210, 240);\"></td><td title=\"Index: [6, 1]&#10;Color: (0, 210, 240)\" style=\"width: 20px; height: 20px;background-color: rgb(0, 210, 240);\"></td><td title=\"Index: [6, 2]&#10;Color: (0, 210, 240)\" style=\"width: 20px; height: 20px;background-color: rgb(0, 210, 240);\"></td><td title=\"Index: [6, 3]&#10;Color: (0, 210, 240)\" style=\"width: 20px; height: 20px;background-color: rgb(0, 210, 240);\"></td><td title=\"Index: [6, 4]&#10;Color: (0, 210, 240)\" style=\"width: 20px; height: 20px;background-color: rgb(0, 210, 240);\"></td><td title=\"Index: [6, 5]&#10;Color: (0, 210, 240)\" style=\"width: 20px; height: 20px;background-color: rgb(0, 210, 240);\"></td><td title=\"Index: [6, 6]&#10;Color: (0, 210, 240)\" style=\"width: 20px; height: 20px;background-color: rgb(0, 210, 240);\"></td><td title=\"Index: [6, 7]&#10;Color: (0, 210, 240)\" style=\"width: 20px; height: 20px;background-color: rgb(0, 210, 240);\"></td></tr><tr><td title=\"Index: [7, 0]&#10;Color: (0, 210, 240)\" style=\"width: 20px; height: 20px;background-color: rgb(0, 210, 240);\"></td><td title=\"Index: [7, 1]&#10;Color: (0, 210, 240)\" style=\"width: 20px; height: 20px;background-color: rgb(0, 210, 240);\"></td><td title=\"Index: [7, 2]&#10;Color: (0, 210, 240)\" style=\"width: 20px; height: 20px;background-color: rgb(0, 210, 240);\"></td><td title=\"Index: [7, 3]&#10;Color: (0, 210, 240)\" style=\"width: 20px; height: 20px;background-color: rgb(0, 210, 240);\"></td><td title=\"Index: [7, 4]&#10;Color: (0, 210, 240)\" style=\"width: 20px; height: 20px;background-color: rgb(0, 210, 240);\"></td><td title=\"Index: [7, 5]&#10;Color: (0, 210, 240)\" style=\"width: 20px; height: 20px;background-color: rgb(0, 210, 240);\"></td><td title=\"Index: [7, 6]&#10;Color: (0, 210, 240)\" style=\"width: 20px; height: 20px;background-color: rgb(0, 210, 240);\"></td><td title=\"Index: [7, 7]&#10;Color: (0, 210, 240)\" style=\"width: 20px; height: 20px;background-color: rgb(0, 210, 240);\"></td></tr></tbody></table>"
       ],
       "metadata": {},
       "output_type": "display_data",
       "text": [
        "<IPython.core.display.HTML at 0x3b6dcc0>"
       ]
      },
      {
       "output_type": "stream",
       "stream": "stdout",
       "text": [
        "Turn 6 out of 8\n"
       ]
      },
      {
       "name": "stdout",
       "output_type": "stream",
       "stream": "stdout",
       "text": [
        "Guess Row:7\n"
       ]
      },
      {
       "name": "stdout",
       "output_type": "stream",
       "stream": "stdout",
       "text": [
        "Guess Col:6\n"
       ]
      },
      {
       "output_type": "stream",
       "stream": "stdout",
       "text": [
        "You missed my battleship!\n"
       ]
      },
      {
       "html": [
        "<style type=\"text/css\">table.blockgrid {border: none;} .blockgrid tr {border: none;} .blockgrid td {padding: 0px;} #blocks088ee573-8ce3-4801-8d82-4f60a5e003e9 td {border: 1px solid white;}</style><table id=\"blocks088ee573-8ce3-4801-8d82-4f60a5e003e9\" class=\"blockgrid\"><tbody><tr><td title=\"Index: [0, 0]&#10;Color: (0, 210, 240)\" style=\"width: 20px; height: 20px;background-color: rgb(0, 210, 240);\"></td><td title=\"Index: [0, 1]&#10;Color: (0, 210, 240)\" style=\"width: 20px; height: 20px;background-color: rgb(0, 210, 240);\"></td><td title=\"Index: [0, 2]&#10;Color: (0, 210, 240)\" style=\"width: 20px; height: 20px;background-color: rgb(0, 210, 240);\"></td><td title=\"Index: [0, 3]&#10;Color: (0, 210, 240)\" style=\"width: 20px; height: 20px;background-color: rgb(0, 210, 240);\"></td><td title=\"Index: [0, 4]&#10;Color: (0, 210, 240)\" style=\"width: 20px; height: 20px;background-color: rgb(0, 210, 240);\"></td><td title=\"Index: [0, 5]&#10;Color: (0, 210, 240)\" style=\"width: 20px; height: 20px;background-color: rgb(0, 210, 240);\"></td><td title=\"Index: [0, 6]&#10;Color: (0, 210, 240)\" style=\"width: 20px; height: 20px;background-color: rgb(0, 210, 240);\"></td><td title=\"Index: [0, 7]&#10;Color: (0, 210, 240)\" style=\"width: 20px; height: 20px;background-color: rgb(0, 210, 240);\"></td></tr><tr><td title=\"Index: [1, 0]&#10;Color: (0, 210, 240)\" style=\"width: 20px; height: 20px;background-color: rgb(0, 210, 240);\"></td><td title=\"Index: [1, 1]&#10;Color: (150, 0, 250)\" style=\"width: 20px; height: 20px;background-color: rgb(150, 0, 250);\"></td><td title=\"Index: [1, 2]&#10;Color: (150, 0, 250)\" style=\"width: 20px; height: 20px;background-color: rgb(150, 0, 250);\"></td><td title=\"Index: [1, 3]&#10;Color: (0, 210, 240)\" style=\"width: 20px; height: 20px;background-color: rgb(0, 210, 240);\"></td><td title=\"Index: [1, 4]&#10;Color: (0, 210, 240)\" style=\"width: 20px; height: 20px;background-color: rgb(0, 210, 240);\"></td><td title=\"Index: [1, 5]&#10;Color: (0, 210, 240)\" style=\"width: 20px; height: 20px;background-color: rgb(0, 210, 240);\"></td><td title=\"Index: [1, 6]&#10;Color: (0, 210, 240)\" style=\"width: 20px; height: 20px;background-color: rgb(0, 210, 240);\"></td><td title=\"Index: [1, 7]&#10;Color: (0, 210, 240)\" style=\"width: 20px; height: 20px;background-color: rgb(0, 210, 240);\"></td></tr><tr><td title=\"Index: [2, 0]&#10;Color: (0, 210, 240)\" style=\"width: 20px; height: 20px;background-color: rgb(0, 210, 240);\"></td><td title=\"Index: [2, 1]&#10;Color: (0, 210, 240)\" style=\"width: 20px; height: 20px;background-color: rgb(0, 210, 240);\"></td><td title=\"Index: [2, 2]&#10;Color: (0, 210, 240)\" style=\"width: 20px; height: 20px;background-color: rgb(0, 210, 240);\"></td><td title=\"Index: [2, 3]&#10;Color: (150, 0, 250)\" style=\"width: 20px; height: 20px;background-color: rgb(150, 0, 250);\"></td><td title=\"Index: [2, 4]&#10;Color: (0, 210, 240)\" style=\"width: 20px; height: 20px;background-color: rgb(0, 210, 240);\"></td><td title=\"Index: [2, 5]&#10;Color: (0, 210, 240)\" style=\"width: 20px; height: 20px;background-color: rgb(0, 210, 240);\"></td><td title=\"Index: [2, 6]&#10;Color: (0, 210, 240)\" style=\"width: 20px; height: 20px;background-color: rgb(0, 210, 240);\"></td><td title=\"Index: [2, 7]&#10;Color: (0, 210, 240)\" style=\"width: 20px; height: 20px;background-color: rgb(0, 210, 240);\"></td></tr><tr><td title=\"Index: [3, 0]&#10;Color: (0, 210, 240)\" style=\"width: 20px; height: 20px;background-color: rgb(0, 210, 240);\"></td><td title=\"Index: [3, 1]&#10;Color: (0, 210, 240)\" style=\"width: 20px; height: 20px;background-color: rgb(0, 210, 240);\"></td><td title=\"Index: [3, 2]&#10;Color: (150, 0, 250)\" style=\"width: 20px; height: 20px;background-color: rgb(150, 0, 250);\"></td><td title=\"Index: [3, 3]&#10;Color: (0, 210, 240)\" style=\"width: 20px; height: 20px;background-color: rgb(0, 210, 240);\"></td><td title=\"Index: [3, 4]&#10;Color: (0, 210, 240)\" style=\"width: 20px; height: 20px;background-color: rgb(0, 210, 240);\"></td><td title=\"Index: [3, 5]&#10;Color: (0, 210, 240)\" style=\"width: 20px; height: 20px;background-color: rgb(0, 210, 240);\"></td><td title=\"Index: [3, 6]&#10;Color: (0, 210, 240)\" style=\"width: 20px; height: 20px;background-color: rgb(0, 210, 240);\"></td><td title=\"Index: [3, 7]&#10;Color: (0, 210, 240)\" style=\"width: 20px; height: 20px;background-color: rgb(0, 210, 240);\"></td></tr><tr><td title=\"Index: [4, 0]&#10;Color: (0, 210, 240)\" style=\"width: 20px; height: 20px;background-color: rgb(0, 210, 240);\"></td><td title=\"Index: [4, 1]&#10;Color: (0, 210, 240)\" style=\"width: 20px; height: 20px;background-color: rgb(0, 210, 240);\"></td><td title=\"Index: [4, 2]&#10;Color: (0, 210, 240)\" style=\"width: 20px; height: 20px;background-color: rgb(0, 210, 240);\"></td><td title=\"Index: [4, 3]&#10;Color: (0, 210, 240)\" style=\"width: 20px; height: 20px;background-color: rgb(0, 210, 240);\"></td><td title=\"Index: [4, 4]&#10;Color: (0, 210, 240)\" style=\"width: 20px; height: 20px;background-color: rgb(0, 210, 240);\"></td><td title=\"Index: [4, 5]&#10;Color: (150, 0, 250)\" style=\"width: 20px; height: 20px;background-color: rgb(150, 0, 250);\"></td><td title=\"Index: [4, 6]&#10;Color: (0, 210, 240)\" style=\"width: 20px; height: 20px;background-color: rgb(0, 210, 240);\"></td><td title=\"Index: [4, 7]&#10;Color: (0, 210, 240)\" style=\"width: 20px; height: 20px;background-color: rgb(0, 210, 240);\"></td></tr><tr><td title=\"Index: [5, 0]&#10;Color: (0, 210, 240)\" style=\"width: 20px; height: 20px;background-color: rgb(0, 210, 240);\"></td><td title=\"Index: [5, 1]&#10;Color: (0, 210, 240)\" style=\"width: 20px; height: 20px;background-color: rgb(0, 210, 240);\"></td><td title=\"Index: [5, 2]&#10;Color: (0, 210, 240)\" style=\"width: 20px; height: 20px;background-color: rgb(0, 210, 240);\"></td><td title=\"Index: [5, 3]&#10;Color: (0, 210, 240)\" style=\"width: 20px; height: 20px;background-color: rgb(0, 210, 240);\"></td><td title=\"Index: [5, 4]&#10;Color: (0, 210, 240)\" style=\"width: 20px; height: 20px;background-color: rgb(0, 210, 240);\"></td><td title=\"Index: [5, 5]&#10;Color: (0, 210, 240)\" style=\"width: 20px; height: 20px;background-color: rgb(0, 210, 240);\"></td><td title=\"Index: [5, 6]&#10;Color: (0, 210, 240)\" style=\"width: 20px; height: 20px;background-color: rgb(0, 210, 240);\"></td><td title=\"Index: [5, 7]&#10;Color: (0, 210, 240)\" style=\"width: 20px; height: 20px;background-color: rgb(0, 210, 240);\"></td></tr><tr><td title=\"Index: [6, 0]&#10;Color: (0, 210, 240)\" style=\"width: 20px; height: 20px;background-color: rgb(0, 210, 240);\"></td><td title=\"Index: [6, 1]&#10;Color: (0, 210, 240)\" style=\"width: 20px; height: 20px;background-color: rgb(0, 210, 240);\"></td><td title=\"Index: [6, 2]&#10;Color: (0, 210, 240)\" style=\"width: 20px; height: 20px;background-color: rgb(0, 210, 240);\"></td><td title=\"Index: [6, 3]&#10;Color: (0, 210, 240)\" style=\"width: 20px; height: 20px;background-color: rgb(0, 210, 240);\"></td><td title=\"Index: [6, 4]&#10;Color: (0, 210, 240)\" style=\"width: 20px; height: 20px;background-color: rgb(0, 210, 240);\"></td><td title=\"Index: [6, 5]&#10;Color: (0, 210, 240)\" style=\"width: 20px; height: 20px;background-color: rgb(0, 210, 240);\"></td><td title=\"Index: [6, 6]&#10;Color: (0, 210, 240)\" style=\"width: 20px; height: 20px;background-color: rgb(0, 210, 240);\"></td><td title=\"Index: [6, 7]&#10;Color: (0, 210, 240)\" style=\"width: 20px; height: 20px;background-color: rgb(0, 210, 240);\"></td></tr><tr><td title=\"Index: [7, 0]&#10;Color: (0, 210, 240)\" style=\"width: 20px; height: 20px;background-color: rgb(0, 210, 240);\"></td><td title=\"Index: [7, 1]&#10;Color: (0, 210, 240)\" style=\"width: 20px; height: 20px;background-color: rgb(0, 210, 240);\"></td><td title=\"Index: [7, 2]&#10;Color: (0, 210, 240)\" style=\"width: 20px; height: 20px;background-color: rgb(0, 210, 240);\"></td><td title=\"Index: [7, 3]&#10;Color: (0, 210, 240)\" style=\"width: 20px; height: 20px;background-color: rgb(0, 210, 240);\"></td><td title=\"Index: [7, 4]&#10;Color: (0, 210, 240)\" style=\"width: 20px; height: 20px;background-color: rgb(0, 210, 240);\"></td><td title=\"Index: [7, 5]&#10;Color: (0, 210, 240)\" style=\"width: 20px; height: 20px;background-color: rgb(0, 210, 240);\"></td><td title=\"Index: [7, 6]&#10;Color: (150, 0, 250)\" style=\"width: 20px; height: 20px;background-color: rgb(150, 0, 250);\"></td><td title=\"Index: [7, 7]&#10;Color: (0, 210, 240)\" style=\"width: 20px; height: 20px;background-color: rgb(0, 210, 240);\"></td></tr></tbody></table>"
       ],
       "metadata": {},
       "output_type": "display_data",
       "text": [
        "<IPython.core.display.HTML at 0x2afd748>"
       ]
      },
      {
       "output_type": "stream",
       "stream": "stdout",
       "text": [
        "Turn 7 out of 8\n"
       ]
      },
      {
       "name": "stdout",
       "output_type": "stream",
       "stream": "stdout",
       "text": [
        "Guess Row:4\n"
       ]
      },
      {
       "name": "stdout",
       "output_type": "stream",
       "stream": "stdout",
       "text": [
        "Guess Col:3\n"
       ]
      },
      {
       "output_type": "stream",
       "stream": "stdout",
       "text": [
        "You missed my battleship!\n"
       ]
      },
      {
       "html": [
        "<style type=\"text/css\">table.blockgrid {border: none;} .blockgrid tr {border: none;} .blockgrid td {padding: 0px;} #blocksd70e8fe4-3a87-4bd9-b91d-7018dba84098 td {border: 1px solid white;}</style><table id=\"blocksd70e8fe4-3a87-4bd9-b91d-7018dba84098\" class=\"blockgrid\"><tbody><tr><td title=\"Index: [0, 0]&#10;Color: (0, 210, 240)\" style=\"width: 20px; height: 20px;background-color: rgb(0, 210, 240);\"></td><td title=\"Index: [0, 1]&#10;Color: (0, 210, 240)\" style=\"width: 20px; height: 20px;background-color: rgb(0, 210, 240);\"></td><td title=\"Index: [0, 2]&#10;Color: (0, 210, 240)\" style=\"width: 20px; height: 20px;background-color: rgb(0, 210, 240);\"></td><td title=\"Index: [0, 3]&#10;Color: (0, 210, 240)\" style=\"width: 20px; height: 20px;background-color: rgb(0, 210, 240);\"></td><td title=\"Index: [0, 4]&#10;Color: (0, 210, 240)\" style=\"width: 20px; height: 20px;background-color: rgb(0, 210, 240);\"></td><td title=\"Index: [0, 5]&#10;Color: (0, 210, 240)\" style=\"width: 20px; height: 20px;background-color: rgb(0, 210, 240);\"></td><td title=\"Index: [0, 6]&#10;Color: (0, 210, 240)\" style=\"width: 20px; height: 20px;background-color: rgb(0, 210, 240);\"></td><td title=\"Index: [0, 7]&#10;Color: (0, 210, 240)\" style=\"width: 20px; height: 20px;background-color: rgb(0, 210, 240);\"></td></tr><tr><td title=\"Index: [1, 0]&#10;Color: (0, 210, 240)\" style=\"width: 20px; height: 20px;background-color: rgb(0, 210, 240);\"></td><td title=\"Index: [1, 1]&#10;Color: (150, 0, 250)\" style=\"width: 20px; height: 20px;background-color: rgb(150, 0, 250);\"></td><td title=\"Index: [1, 2]&#10;Color: (150, 0, 250)\" style=\"width: 20px; height: 20px;background-color: rgb(150, 0, 250);\"></td><td title=\"Index: [1, 3]&#10;Color: (0, 210, 240)\" style=\"width: 20px; height: 20px;background-color: rgb(0, 210, 240);\"></td><td title=\"Index: [1, 4]&#10;Color: (0, 210, 240)\" style=\"width: 20px; height: 20px;background-color: rgb(0, 210, 240);\"></td><td title=\"Index: [1, 5]&#10;Color: (0, 210, 240)\" style=\"width: 20px; height: 20px;background-color: rgb(0, 210, 240);\"></td><td title=\"Index: [1, 6]&#10;Color: (0, 210, 240)\" style=\"width: 20px; height: 20px;background-color: rgb(0, 210, 240);\"></td><td title=\"Index: [1, 7]&#10;Color: (0, 210, 240)\" style=\"width: 20px; height: 20px;background-color: rgb(0, 210, 240);\"></td></tr><tr><td title=\"Index: [2, 0]&#10;Color: (0, 210, 240)\" style=\"width: 20px; height: 20px;background-color: rgb(0, 210, 240);\"></td><td title=\"Index: [2, 1]&#10;Color: (0, 210, 240)\" style=\"width: 20px; height: 20px;background-color: rgb(0, 210, 240);\"></td><td title=\"Index: [2, 2]&#10;Color: (0, 210, 240)\" style=\"width: 20px; height: 20px;background-color: rgb(0, 210, 240);\"></td><td title=\"Index: [2, 3]&#10;Color: (150, 0, 250)\" style=\"width: 20px; height: 20px;background-color: rgb(150, 0, 250);\"></td><td title=\"Index: [2, 4]&#10;Color: (0, 210, 240)\" style=\"width: 20px; height: 20px;background-color: rgb(0, 210, 240);\"></td><td title=\"Index: [2, 5]&#10;Color: (0, 210, 240)\" style=\"width: 20px; height: 20px;background-color: rgb(0, 210, 240);\"></td><td title=\"Index: [2, 6]&#10;Color: (0, 210, 240)\" style=\"width: 20px; height: 20px;background-color: rgb(0, 210, 240);\"></td><td title=\"Index: [2, 7]&#10;Color: (0, 210, 240)\" style=\"width: 20px; height: 20px;background-color: rgb(0, 210, 240);\"></td></tr><tr><td title=\"Index: [3, 0]&#10;Color: (0, 210, 240)\" style=\"width: 20px; height: 20px;background-color: rgb(0, 210, 240);\"></td><td title=\"Index: [3, 1]&#10;Color: (0, 210, 240)\" style=\"width: 20px; height: 20px;background-color: rgb(0, 210, 240);\"></td><td title=\"Index: [3, 2]&#10;Color: (150, 0, 250)\" style=\"width: 20px; height: 20px;background-color: rgb(150, 0, 250);\"></td><td title=\"Index: [3, 3]&#10;Color: (0, 210, 240)\" style=\"width: 20px; height: 20px;background-color: rgb(0, 210, 240);\"></td><td title=\"Index: [3, 4]&#10;Color: (0, 210, 240)\" style=\"width: 20px; height: 20px;background-color: rgb(0, 210, 240);\"></td><td title=\"Index: [3, 5]&#10;Color: (0, 210, 240)\" style=\"width: 20px; height: 20px;background-color: rgb(0, 210, 240);\"></td><td title=\"Index: [3, 6]&#10;Color: (0, 210, 240)\" style=\"width: 20px; height: 20px;background-color: rgb(0, 210, 240);\"></td><td title=\"Index: [3, 7]&#10;Color: (0, 210, 240)\" style=\"width: 20px; height: 20px;background-color: rgb(0, 210, 240);\"></td></tr><tr><td title=\"Index: [4, 0]&#10;Color: (0, 210, 240)\" style=\"width: 20px; height: 20px;background-color: rgb(0, 210, 240);\"></td><td title=\"Index: [4, 1]&#10;Color: (0, 210, 240)\" style=\"width: 20px; height: 20px;background-color: rgb(0, 210, 240);\"></td><td title=\"Index: [4, 2]&#10;Color: (0, 210, 240)\" style=\"width: 20px; height: 20px;background-color: rgb(0, 210, 240);\"></td><td title=\"Index: [4, 3]&#10;Color: (150, 0, 250)\" style=\"width: 20px; height: 20px;background-color: rgb(150, 0, 250);\"></td><td title=\"Index: [4, 4]&#10;Color: (0, 210, 240)\" style=\"width: 20px; height: 20px;background-color: rgb(0, 210, 240);\"></td><td title=\"Index: [4, 5]&#10;Color: (150, 0, 250)\" style=\"width: 20px; height: 20px;background-color: rgb(150, 0, 250);\"></td><td title=\"Index: [4, 6]&#10;Color: (0, 210, 240)\" style=\"width: 20px; height: 20px;background-color: rgb(0, 210, 240);\"></td><td title=\"Index: [4, 7]&#10;Color: (0, 210, 240)\" style=\"width: 20px; height: 20px;background-color: rgb(0, 210, 240);\"></td></tr><tr><td title=\"Index: [5, 0]&#10;Color: (0, 210, 240)\" style=\"width: 20px; height: 20px;background-color: rgb(0, 210, 240);\"></td><td title=\"Index: [5, 1]&#10;Color: (0, 210, 240)\" style=\"width: 20px; height: 20px;background-color: rgb(0, 210, 240);\"></td><td title=\"Index: [5, 2]&#10;Color: (0, 210, 240)\" style=\"width: 20px; height: 20px;background-color: rgb(0, 210, 240);\"></td><td title=\"Index: [5, 3]&#10;Color: (0, 210, 240)\" style=\"width: 20px; height: 20px;background-color: rgb(0, 210, 240);\"></td><td title=\"Index: [5, 4]&#10;Color: (0, 210, 240)\" style=\"width: 20px; height: 20px;background-color: rgb(0, 210, 240);\"></td><td title=\"Index: [5, 5]&#10;Color: (0, 210, 240)\" style=\"width: 20px; height: 20px;background-color: rgb(0, 210, 240);\"></td><td title=\"Index: [5, 6]&#10;Color: (0, 210, 240)\" style=\"width: 20px; height: 20px;background-color: rgb(0, 210, 240);\"></td><td title=\"Index: [5, 7]&#10;Color: (0, 210, 240)\" style=\"width: 20px; height: 20px;background-color: rgb(0, 210, 240);\"></td></tr><tr><td title=\"Index: [6, 0]&#10;Color: (0, 210, 240)\" style=\"width: 20px; height: 20px;background-color: rgb(0, 210, 240);\"></td><td title=\"Index: [6, 1]&#10;Color: (0, 210, 240)\" style=\"width: 20px; height: 20px;background-color: rgb(0, 210, 240);\"></td><td title=\"Index: [6, 2]&#10;Color: (0, 210, 240)\" style=\"width: 20px; height: 20px;background-color: rgb(0, 210, 240);\"></td><td title=\"Index: [6, 3]&#10;Color: (0, 210, 240)\" style=\"width: 20px; height: 20px;background-color: rgb(0, 210, 240);\"></td><td title=\"Index: [6, 4]&#10;Color: (0, 210, 240)\" style=\"width: 20px; height: 20px;background-color: rgb(0, 210, 240);\"></td><td title=\"Index: [6, 5]&#10;Color: (0, 210, 240)\" style=\"width: 20px; height: 20px;background-color: rgb(0, 210, 240);\"></td><td title=\"Index: [6, 6]&#10;Color: (0, 210, 240)\" style=\"width: 20px; height: 20px;background-color: rgb(0, 210, 240);\"></td><td title=\"Index: [6, 7]&#10;Color: (0, 210, 240)\" style=\"width: 20px; height: 20px;background-color: rgb(0, 210, 240);\"></td></tr><tr><td title=\"Index: [7, 0]&#10;Color: (0, 210, 240)\" style=\"width: 20px; height: 20px;background-color: rgb(0, 210, 240);\"></td><td title=\"Index: [7, 1]&#10;Color: (0, 210, 240)\" style=\"width: 20px; height: 20px;background-color: rgb(0, 210, 240);\"></td><td title=\"Index: [7, 2]&#10;Color: (0, 210, 240)\" style=\"width: 20px; height: 20px;background-color: rgb(0, 210, 240);\"></td><td title=\"Index: [7, 3]&#10;Color: (0, 210, 240)\" style=\"width: 20px; height: 20px;background-color: rgb(0, 210, 240);\"></td><td title=\"Index: [7, 4]&#10;Color: (0, 210, 240)\" style=\"width: 20px; height: 20px;background-color: rgb(0, 210, 240);\"></td><td title=\"Index: [7, 5]&#10;Color: (0, 210, 240)\" style=\"width: 20px; height: 20px;background-color: rgb(0, 210, 240);\"></td><td title=\"Index: [7, 6]&#10;Color: (150, 0, 250)\" style=\"width: 20px; height: 20px;background-color: rgb(150, 0, 250);\"></td><td title=\"Index: [7, 7]&#10;Color: (0, 210, 240)\" style=\"width: 20px; height: 20px;background-color: rgb(0, 210, 240);\"></td></tr></tbody></table>"
       ],
       "metadata": {},
       "output_type": "display_data",
       "text": [
        "<IPython.core.display.HTML at 0x3997978>"
       ]
      },
      {
       "output_type": "stream",
       "stream": "stdout",
       "text": [
        "Turn 8 out of 8\n"
       ]
      },
      {
       "name": "stdout",
       "output_type": "stream",
       "stream": "stdout",
       "text": [
        "Guess Row:1\n"
       ]
      },
      {
       "name": "stdout",
       "output_type": "stream",
       "stream": "stdout",
       "text": [
        "Guess Col:6\n"
       ]
      },
      {
       "output_type": "stream",
       "stream": "stdout",
       "text": [
        "Whoah, you hit my battleship!\n"
       ]
      },
      {
       "html": [
        "<style type=\"text/css\">table.blockgrid {border: none;} .blockgrid tr {border: none;} .blockgrid td {padding: 0px;} #blocks413a8cfb-640d-4789-8425-2f5a5b047ebf td {border: 1px solid white;}</style><table id=\"blocks413a8cfb-640d-4789-8425-2f5a5b047ebf\" class=\"blockgrid\"><tbody><tr><td title=\"Index: [0, 0]&#10;Color: (0, 210, 240)\" style=\"width: 20px; height: 20px;background-color: rgb(0, 210, 240);\"></td><td title=\"Index: [0, 1]&#10;Color: (0, 210, 240)\" style=\"width: 20px; height: 20px;background-color: rgb(0, 210, 240);\"></td><td title=\"Index: [0, 2]&#10;Color: (0, 210, 240)\" style=\"width: 20px; height: 20px;background-color: rgb(0, 210, 240);\"></td><td title=\"Index: [0, 3]&#10;Color: (0, 210, 240)\" style=\"width: 20px; height: 20px;background-color: rgb(0, 210, 240);\"></td><td title=\"Index: [0, 4]&#10;Color: (0, 210, 240)\" style=\"width: 20px; height: 20px;background-color: rgb(0, 210, 240);\"></td><td title=\"Index: [0, 5]&#10;Color: (0, 210, 240)\" style=\"width: 20px; height: 20px;background-color: rgb(0, 210, 240);\"></td><td title=\"Index: [0, 6]&#10;Color: (0, 210, 240)\" style=\"width: 20px; height: 20px;background-color: rgb(0, 210, 240);\"></td><td title=\"Index: [0, 7]&#10;Color: (0, 210, 240)\" style=\"width: 20px; height: 20px;background-color: rgb(0, 210, 240);\"></td></tr><tr><td title=\"Index: [1, 0]&#10;Color: (0, 210, 240)\" style=\"width: 20px; height: 20px;background-color: rgb(0, 210, 240);\"></td><td title=\"Index: [1, 1]&#10;Color: (150, 0, 250)\" style=\"width: 20px; height: 20px;background-color: rgb(150, 0, 250);\"></td><td title=\"Index: [1, 2]&#10;Color: (150, 0, 250)\" style=\"width: 20px; height: 20px;background-color: rgb(150, 0, 250);\"></td><td title=\"Index: [1, 3]&#10;Color: (0, 210, 240)\" style=\"width: 20px; height: 20px;background-color: rgb(0, 210, 240);\"></td><td title=\"Index: [1, 4]&#10;Color: (0, 210, 240)\" style=\"width: 20px; height: 20px;background-color: rgb(0, 210, 240);\"></td><td title=\"Index: [1, 5]&#10;Color: (0, 210, 240)\" style=\"width: 20px; height: 20px;background-color: rgb(0, 210, 240);\"></td><td title=\"Index: [1, 6]&#10;Color: (250, 0, 0)\" style=\"width: 20px; height: 20px;background-color: rgb(250, 0, 0);\"></td><td title=\"Index: [1, 7]&#10;Color: (0, 210, 240)\" style=\"width: 20px; height: 20px;background-color: rgb(0, 210, 240);\"></td></tr><tr><td title=\"Index: [2, 0]&#10;Color: (0, 210, 240)\" style=\"width: 20px; height: 20px;background-color: rgb(0, 210, 240);\"></td><td title=\"Index: [2, 1]&#10;Color: (0, 210, 240)\" style=\"width: 20px; height: 20px;background-color: rgb(0, 210, 240);\"></td><td title=\"Index: [2, 2]&#10;Color: (0, 210, 240)\" style=\"width: 20px; height: 20px;background-color: rgb(0, 210, 240);\"></td><td title=\"Index: [2, 3]&#10;Color: (150, 0, 250)\" style=\"width: 20px; height: 20px;background-color: rgb(150, 0, 250);\"></td><td title=\"Index: [2, 4]&#10;Color: (0, 210, 240)\" style=\"width: 20px; height: 20px;background-color: rgb(0, 210, 240);\"></td><td title=\"Index: [2, 5]&#10;Color: (0, 210, 240)\" style=\"width: 20px; height: 20px;background-color: rgb(0, 210, 240);\"></td><td title=\"Index: [2, 6]&#10;Color: (0, 210, 240)\" style=\"width: 20px; height: 20px;background-color: rgb(0, 210, 240);\"></td><td title=\"Index: [2, 7]&#10;Color: (0, 210, 240)\" style=\"width: 20px; height: 20px;background-color: rgb(0, 210, 240);\"></td></tr><tr><td title=\"Index: [3, 0]&#10;Color: (0, 210, 240)\" style=\"width: 20px; height: 20px;background-color: rgb(0, 210, 240);\"></td><td title=\"Index: [3, 1]&#10;Color: (0, 210, 240)\" style=\"width: 20px; height: 20px;background-color: rgb(0, 210, 240);\"></td><td title=\"Index: [3, 2]&#10;Color: (150, 0, 250)\" style=\"width: 20px; height: 20px;background-color: rgb(150, 0, 250);\"></td><td title=\"Index: [3, 3]&#10;Color: (0, 210, 240)\" style=\"width: 20px; height: 20px;background-color: rgb(0, 210, 240);\"></td><td title=\"Index: [3, 4]&#10;Color: (0, 210, 240)\" style=\"width: 20px; height: 20px;background-color: rgb(0, 210, 240);\"></td><td title=\"Index: [3, 5]&#10;Color: (0, 210, 240)\" style=\"width: 20px; height: 20px;background-color: rgb(0, 210, 240);\"></td><td title=\"Index: [3, 6]&#10;Color: (0, 210, 240)\" style=\"width: 20px; height: 20px;background-color: rgb(0, 210, 240);\"></td><td title=\"Index: [3, 7]&#10;Color: (0, 210, 240)\" style=\"width: 20px; height: 20px;background-color: rgb(0, 210, 240);\"></td></tr><tr><td title=\"Index: [4, 0]&#10;Color: (0, 210, 240)\" style=\"width: 20px; height: 20px;background-color: rgb(0, 210, 240);\"></td><td title=\"Index: [4, 1]&#10;Color: (0, 210, 240)\" style=\"width: 20px; height: 20px;background-color: rgb(0, 210, 240);\"></td><td title=\"Index: [4, 2]&#10;Color: (0, 210, 240)\" style=\"width: 20px; height: 20px;background-color: rgb(0, 210, 240);\"></td><td title=\"Index: [4, 3]&#10;Color: (150, 0, 250)\" style=\"width: 20px; height: 20px;background-color: rgb(150, 0, 250);\"></td><td title=\"Index: [4, 4]&#10;Color: (0, 210, 240)\" style=\"width: 20px; height: 20px;background-color: rgb(0, 210, 240);\"></td><td title=\"Index: [4, 5]&#10;Color: (150, 0, 250)\" style=\"width: 20px; height: 20px;background-color: rgb(150, 0, 250);\"></td><td title=\"Index: [4, 6]&#10;Color: (0, 210, 240)\" style=\"width: 20px; height: 20px;background-color: rgb(0, 210, 240);\"></td><td title=\"Index: [4, 7]&#10;Color: (0, 210, 240)\" style=\"width: 20px; height: 20px;background-color: rgb(0, 210, 240);\"></td></tr><tr><td title=\"Index: [5, 0]&#10;Color: (0, 210, 240)\" style=\"width: 20px; height: 20px;background-color: rgb(0, 210, 240);\"></td><td title=\"Index: [5, 1]&#10;Color: (0, 210, 240)\" style=\"width: 20px; height: 20px;background-color: rgb(0, 210, 240);\"></td><td title=\"Index: [5, 2]&#10;Color: (0, 210, 240)\" style=\"width: 20px; height: 20px;background-color: rgb(0, 210, 240);\"></td><td title=\"Index: [5, 3]&#10;Color: (0, 210, 240)\" style=\"width: 20px; height: 20px;background-color: rgb(0, 210, 240);\"></td><td title=\"Index: [5, 4]&#10;Color: (0, 210, 240)\" style=\"width: 20px; height: 20px;background-color: rgb(0, 210, 240);\"></td><td title=\"Index: [5, 5]&#10;Color: (0, 210, 240)\" style=\"width: 20px; height: 20px;background-color: rgb(0, 210, 240);\"></td><td title=\"Index: [5, 6]&#10;Color: (0, 210, 240)\" style=\"width: 20px; height: 20px;background-color: rgb(0, 210, 240);\"></td><td title=\"Index: [5, 7]&#10;Color: (0, 210, 240)\" style=\"width: 20px; height: 20px;background-color: rgb(0, 210, 240);\"></td></tr><tr><td title=\"Index: [6, 0]&#10;Color: (0, 210, 240)\" style=\"width: 20px; height: 20px;background-color: rgb(0, 210, 240);\"></td><td title=\"Index: [6, 1]&#10;Color: (0, 210, 240)\" style=\"width: 20px; height: 20px;background-color: rgb(0, 210, 240);\"></td><td title=\"Index: [6, 2]&#10;Color: (0, 210, 240)\" style=\"width: 20px; height: 20px;background-color: rgb(0, 210, 240);\"></td><td title=\"Index: [6, 3]&#10;Color: (0, 210, 240)\" style=\"width: 20px; height: 20px;background-color: rgb(0, 210, 240);\"></td><td title=\"Index: [6, 4]&#10;Color: (0, 210, 240)\" style=\"width: 20px; height: 20px;background-color: rgb(0, 210, 240);\"></td><td title=\"Index: [6, 5]&#10;Color: (0, 210, 240)\" style=\"width: 20px; height: 20px;background-color: rgb(0, 210, 240);\"></td><td title=\"Index: [6, 6]&#10;Color: (0, 210, 240)\" style=\"width: 20px; height: 20px;background-color: rgb(0, 210, 240);\"></td><td title=\"Index: [6, 7]&#10;Color: (0, 210, 240)\" style=\"width: 20px; height: 20px;background-color: rgb(0, 210, 240);\"></td></tr><tr><td title=\"Index: [7, 0]&#10;Color: (0, 210, 240)\" style=\"width: 20px; height: 20px;background-color: rgb(0, 210, 240);\"></td><td title=\"Index: [7, 1]&#10;Color: (0, 210, 240)\" style=\"width: 20px; height: 20px;background-color: rgb(0, 210, 240);\"></td><td title=\"Index: [7, 2]&#10;Color: (0, 210, 240)\" style=\"width: 20px; height: 20px;background-color: rgb(0, 210, 240);\"></td><td title=\"Index: [7, 3]&#10;Color: (0, 210, 240)\" style=\"width: 20px; height: 20px;background-color: rgb(0, 210, 240);\"></td><td title=\"Index: [7, 4]&#10;Color: (0, 210, 240)\" style=\"width: 20px; height: 20px;background-color: rgb(0, 210, 240);\"></td><td title=\"Index: [7, 5]&#10;Color: (0, 210, 240)\" style=\"width: 20px; height: 20px;background-color: rgb(0, 210, 240);\"></td><td title=\"Index: [7, 6]&#10;Color: (150, 0, 250)\" style=\"width: 20px; height: 20px;background-color: rgb(150, 0, 250);\"></td><td title=\"Index: [7, 7]&#10;Color: (0, 210, 240)\" style=\"width: 20px; height: 20px;background-color: rgb(0, 210, 240);\"></td></tr></tbody></table>"
       ],
       "metadata": {},
       "output_type": "display_data",
       "text": [
        "<IPython.core.display.HTML at 0x1e5f5f8>"
       ]
      }
     ],
     "prompt_number": 1
    },
    {
     "cell_type": "code",
     "collapsed": false,
     "input": [],
     "language": "python",
     "metadata": {},
     "outputs": []
    }
   ],
   "metadata": {}
  }
 ]
}